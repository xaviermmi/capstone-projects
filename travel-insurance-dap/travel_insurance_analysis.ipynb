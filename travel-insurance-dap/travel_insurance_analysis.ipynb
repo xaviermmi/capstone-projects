{
 "cells": [
  {
   "attachments": {},
   "cell_type": "markdown",
   "metadata": {
    "hideCode": true,
    "hidePrompt": true,
    "slideshow": {
     "slide_type": "slide"
    }
   },
   "source": [
    "# Case Study - Travel Insurance"
   ]
  },
  {
   "attachments": {},
   "cell_type": "markdown",
   "metadata": {
    "hideCode": true,
    "hidePrompt": true,
    "slideshow": {
     "slide_type": "skip"
    }
   },
   "source": [
    "## 1. Imports and setup"
   ]
  },
  {
   "attachments": {},
   "cell_type": "markdown",
   "metadata": {
    "hideCode": true,
    "hidePrompt": true,
    "slideshow": {
     "slide_type": "skip"
    }
   },
   "source": [
    "### 1.1. Libraries"
   ]
  },
  {
   "cell_type": "code",
   "execution_count": 40,
   "metadata": {
    "hideCode": true,
    "hidePrompt": true,
    "slideshow": {
     "slide_type": "skip"
    }
   },
   "outputs": [],
   "source": [
    "import numpy as np\n",
    "import pandas as pd\n",
    "import matplotlib\n",
    "import matplotlib.pyplot as plt\n",
    "import seaborn as sns"
   ]
  },
  {
   "attachments": {},
   "cell_type": "markdown",
   "metadata": {
    "hideCode": true,
    "hidePrompt": true,
    "slideshow": {
     "slide_type": "skip"
    }
   },
   "source": [
    "### 1.2. Viz parameters"
   ]
  },
  {
   "cell_type": "code",
   "execution_count": 41,
   "metadata": {
    "hideCode": true,
    "hidePrompt": true,
    "slideshow": {
     "slide_type": "skip"
    }
   },
   "outputs": [],
   "source": [
    "sns.set_style('whitegrid')\n",
    "sns.set_palette(\"husl\",3)\n",
    "matplotlib.rcParams.update({'font.size': 14})"
   ]
  },
  {
   "cell_type": "code",
   "execution_count": 42,
   "metadata": {
    "hideCode": true,
    "hidePrompt": true
   },
   "outputs": [],
   "source": [
    "from base64 import b64encode\n",
    "from io import BytesIO\n",
    "from IPython.display import display, HTML"
   ]
  },
  {
   "cell_type": "code",
   "execution_count": 43,
   "metadata": {
    "hideCode": true,
    "hidePrompt": true
   },
   "outputs": [],
   "source": [
    "def add_split_screen(fig, text, iwidth=None):\n",
    "    figdata = BytesIO()\n",
    "    fig.savefig(figdata, format='png')\n",
    "    iwidth = ' width={0} '.format(iwidth) if iwidth is not None else ''\n",
    "    datatable = '<table><tr><td><img src=\"data:image/png;base64,{0}\"/></td><td>{1}</td></tr></table>'.format(b64encode(figdata.getvalue()).decode(), text)\n",
    "    display(HTML(datatable))"
   ]
  },
  {
   "attachments": {},
   "cell_type": "markdown",
   "metadata": {
    "hideCode": true,
    "hidePrompt": true,
    "slideshow": {
     "slide_type": "slide"
    }
   },
   "source": [
    "## 2. Dataset load and cleaning"
   ]
  },
  {
   "attachments": {},
   "cell_type": "markdown",
   "metadata": {
    "hideCode": true,
    "hidePrompt": true,
    "slideshow": {
     "slide_type": "skip"
    }
   },
   "source": [
    "First five rows of dataset :"
   ]
  },
  {
   "cell_type": "code",
   "execution_count": 44,
   "metadata": {
    "hideCode": true,
    "hidePrompt": true,
    "slideshow": {
     "slide_type": "skip"
    }
   },
   "outputs": [
    {
     "data": {
      "text/html": [
       "<div>\n",
       "<style scoped>\n",
       "    .dataframe tbody tr th:only-of-type {\n",
       "        vertical-align: middle;\n",
       "    }\n",
       "\n",
       "    .dataframe tbody tr th {\n",
       "        vertical-align: top;\n",
       "    }\n",
       "\n",
       "    .dataframe thead th {\n",
       "        text-align: right;\n",
       "    }\n",
       "</style>\n",
       "<table border=\"1\" class=\"dataframe\">\n",
       "  <thead>\n",
       "    <tr style=\"text-align: right;\">\n",
       "      <th></th>\n",
       "      <th>Age</th>\n",
       "      <th>Employment Type</th>\n",
       "      <th>GraduateOrNot</th>\n",
       "      <th>AnnualIncome</th>\n",
       "      <th>FamilyMembers</th>\n",
       "      <th>ChronicDiseases</th>\n",
       "      <th>FrequentFlyer</th>\n",
       "      <th>EverTravelledAbroad</th>\n",
       "      <th>TravelInsurance</th>\n",
       "    </tr>\n",
       "  </thead>\n",
       "  <tbody>\n",
       "    <tr>\n",
       "      <th>0</th>\n",
       "      <td>31</td>\n",
       "      <td>Government Sector</td>\n",
       "      <td>Yes</td>\n",
       "      <td>400000</td>\n",
       "      <td>6</td>\n",
       "      <td>1</td>\n",
       "      <td>No</td>\n",
       "      <td>No</td>\n",
       "      <td>0</td>\n",
       "    </tr>\n",
       "    <tr>\n",
       "      <th>1</th>\n",
       "      <td>31</td>\n",
       "      <td>Private Sector/Self Employed</td>\n",
       "      <td>Yes</td>\n",
       "      <td>1250000</td>\n",
       "      <td>7</td>\n",
       "      <td>0</td>\n",
       "      <td>No</td>\n",
       "      <td>No</td>\n",
       "      <td>0</td>\n",
       "    </tr>\n",
       "    <tr>\n",
       "      <th>2</th>\n",
       "      <td>34</td>\n",
       "      <td>Private Sector/Self Employed</td>\n",
       "      <td>Yes</td>\n",
       "      <td>500000</td>\n",
       "      <td>4</td>\n",
       "      <td>1</td>\n",
       "      <td>No</td>\n",
       "      <td>No</td>\n",
       "      <td>1</td>\n",
       "    </tr>\n",
       "    <tr>\n",
       "      <th>3</th>\n",
       "      <td>28</td>\n",
       "      <td>Private Sector/Self Employed</td>\n",
       "      <td>Yes</td>\n",
       "      <td>700000</td>\n",
       "      <td>3</td>\n",
       "      <td>1</td>\n",
       "      <td>No</td>\n",
       "      <td>No</td>\n",
       "      <td>0</td>\n",
       "    </tr>\n",
       "    <tr>\n",
       "      <th>4</th>\n",
       "      <td>28</td>\n",
       "      <td>Private Sector/Self Employed</td>\n",
       "      <td>Yes</td>\n",
       "      <td>700000</td>\n",
       "      <td>8</td>\n",
       "      <td>1</td>\n",
       "      <td>Yes</td>\n",
       "      <td>No</td>\n",
       "      <td>0</td>\n",
       "    </tr>\n",
       "  </tbody>\n",
       "</table>\n",
       "</div>"
      ],
      "text/plain": [
       "   Age               Employment Type GraduateOrNot  AnnualIncome  \\\n",
       "0   31             Government Sector           Yes        400000   \n",
       "1   31  Private Sector/Self Employed           Yes       1250000   \n",
       "2   34  Private Sector/Self Employed           Yes        500000   \n",
       "3   28  Private Sector/Self Employed           Yes        700000   \n",
       "4   28  Private Sector/Self Employed           Yes        700000   \n",
       "\n",
       "   FamilyMembers  ChronicDiseases FrequentFlyer EverTravelledAbroad  \\\n",
       "0              6                1            No                  No   \n",
       "1              7                0            No                  No   \n",
       "2              4                1            No                  No   \n",
       "3              3                1            No                  No   \n",
       "4              8                1           Yes                  No   \n",
       "\n",
       "   TravelInsurance  \n",
       "0                0  \n",
       "1                0  \n",
       "2                1  \n",
       "3                0  \n",
       "4                0  "
      ]
     },
     "execution_count": 44,
     "metadata": {},
     "output_type": "execute_result"
    }
   ],
   "source": [
    "dfi = pd.read_csv('travel_insurance.csv')\n",
    "dfi.head(5)"
   ]
  },
  {
   "cell_type": "code",
   "execution_count": 45,
   "metadata": {
    "hideCode": true,
    "hidePrompt": true
   },
   "outputs": [],
   "source": [
    "# inspect_dataframes() function definition \n",
    "def inspect_dataframes(filenames, dataframes):  #filenames as a list of strings ; dataframes as a list of corresponding dataframes\n",
    "    # data validation code\n",
    "    keys = filenames\n",
    "    values = dataframes\n",
    "    for z1, z2 in zip(keys, values):\n",
    "        shape = z2.shape\n",
    "        ncol = z2.shape[1]\n",
    "        dup = z2.duplicated().sum()\n",
    "        na = z2.isna().sum()\n",
    "        uq = z2.nunique()\n",
    "        datalists = dict()\n",
    "        keys_p = ['duplicates', 'na', 'unique', 'dtype']\n",
    "        keys_d = ['non-null count', 'mean/mode', 'std', 'min', '25%', '50%', '75%', 'max']\n",
    "        for k in (keys_p + keys_d):\n",
    "            datalists[k] = []\n",
    "        for col in range(ncol):  #loading keys_p values\n",
    "            datalists['duplicates'].append(z2.iloc[:,col].duplicated().sum())\n",
    "            datalists['na'].append(z2.isna().sum()[col])\n",
    "            datalists['unique'].append(z2.nunique()[col])\n",
    "            datalists['dtype'].append(z2.dtypes[col])\n",
    "        for k2 in enumerate(keys_d):  # loading keys_d values\n",
    "            for col in range(ncol):\n",
    "                if len(z2.iloc[:,col].describe())==8: # describe method outputs 8 values on numeric columns, 4 on others\n",
    "                    datalists[k2[1]].append(round(z2.iloc[:,col].describe()[k2[0]],2))\n",
    "                else:\n",
    "                    if k2[1]=='non-null count':\n",
    "                        datalists[k2[1]].append(z2.count()[col])\n",
    "                    elif k2[1]=='mean/mode':\n",
    "                        datalists[k2[1]].append(z2.iloc[:,col].mode()[0])\n",
    "                    else:\n",
    "                        datalists[k2[1]].append('NC')\n",
    "        print(z1, 'dataframe - ', f'shape:{shape}', f'dupl:{dup}')\n",
    "        display(pd.DataFrame(datalists, index = pd.MultiIndex.from_tuples([c for c in enumerate(z2.columns)], names=['#', 'Column'])))"
   ]
  },
  {
   "cell_type": "code",
   "execution_count": 46,
   "metadata": {
    "hideCode": true,
    "hidePrompt": true
   },
   "outputs": [
    {
     "name": "stdout",
     "output_type": "stream",
     "text": [
      "travel_insurance.csv dataframe -  shape:(1987, 9) dupl:738\n"
     ]
    },
    {
     "data": {
      "text/html": [
       "<div>\n",
       "<style scoped>\n",
       "    .dataframe tbody tr th:only-of-type {\n",
       "        vertical-align: middle;\n",
       "    }\n",
       "\n",
       "    .dataframe tbody tr th {\n",
       "        vertical-align: top;\n",
       "    }\n",
       "\n",
       "    .dataframe thead th {\n",
       "        text-align: right;\n",
       "    }\n",
       "</style>\n",
       "<table border=\"1\" class=\"dataframe\">\n",
       "  <thead>\n",
       "    <tr style=\"text-align: right;\">\n",
       "      <th></th>\n",
       "      <th></th>\n",
       "      <th>duplicates</th>\n",
       "      <th>na</th>\n",
       "      <th>unique</th>\n",
       "      <th>dtype</th>\n",
       "      <th>non-null count</th>\n",
       "      <th>mean/mode</th>\n",
       "      <th>std</th>\n",
       "      <th>min</th>\n",
       "      <th>25%</th>\n",
       "      <th>50%</th>\n",
       "      <th>75%</th>\n",
       "      <th>max</th>\n",
       "    </tr>\n",
       "    <tr>\n",
       "      <th>#</th>\n",
       "      <th>Column</th>\n",
       "      <th></th>\n",
       "      <th></th>\n",
       "      <th></th>\n",
       "      <th></th>\n",
       "      <th></th>\n",
       "      <th></th>\n",
       "      <th></th>\n",
       "      <th></th>\n",
       "      <th></th>\n",
       "      <th></th>\n",
       "      <th></th>\n",
       "      <th></th>\n",
       "    </tr>\n",
       "  </thead>\n",
       "  <tbody>\n",
       "    <tr>\n",
       "      <th>0</th>\n",
       "      <th>Age</th>\n",
       "      <td>1976</td>\n",
       "      <td>0</td>\n",
       "      <td>11</td>\n",
       "      <td>int64</td>\n",
       "      <td>1987.0</td>\n",
       "      <td>29.65</td>\n",
       "      <td>2.91</td>\n",
       "      <td>25.0</td>\n",
       "      <td>28.0</td>\n",
       "      <td>29.0</td>\n",
       "      <td>32.0</td>\n",
       "      <td>35.0</td>\n",
       "    </tr>\n",
       "    <tr>\n",
       "      <th>1</th>\n",
       "      <th>Employment Type</th>\n",
       "      <td>1985</td>\n",
       "      <td>0</td>\n",
       "      <td>2</td>\n",
       "      <td>object</td>\n",
       "      <td>1987.0</td>\n",
       "      <td>Private Sector/Self Employed</td>\n",
       "      <td>NC</td>\n",
       "      <td>NC</td>\n",
       "      <td>NC</td>\n",
       "      <td>NC</td>\n",
       "      <td>NC</td>\n",
       "      <td>NC</td>\n",
       "    </tr>\n",
       "    <tr>\n",
       "      <th>2</th>\n",
       "      <th>GraduateOrNot</th>\n",
       "      <td>1985</td>\n",
       "      <td>0</td>\n",
       "      <td>2</td>\n",
       "      <td>object</td>\n",
       "      <td>1987.0</td>\n",
       "      <td>Yes</td>\n",
       "      <td>NC</td>\n",
       "      <td>NC</td>\n",
       "      <td>NC</td>\n",
       "      <td>NC</td>\n",
       "      <td>NC</td>\n",
       "      <td>NC</td>\n",
       "    </tr>\n",
       "    <tr>\n",
       "      <th>3</th>\n",
       "      <th>AnnualIncome</th>\n",
       "      <td>1957</td>\n",
       "      <td>0</td>\n",
       "      <td>30</td>\n",
       "      <td>int64</td>\n",
       "      <td>1987.0</td>\n",
       "      <td>932762.96</td>\n",
       "      <td>376855.68</td>\n",
       "      <td>300000.0</td>\n",
       "      <td>600000.0</td>\n",
       "      <td>900000.0</td>\n",
       "      <td>1250000.0</td>\n",
       "      <td>1800000.0</td>\n",
       "    </tr>\n",
       "    <tr>\n",
       "      <th>4</th>\n",
       "      <th>FamilyMembers</th>\n",
       "      <td>1979</td>\n",
       "      <td>0</td>\n",
       "      <td>8</td>\n",
       "      <td>int64</td>\n",
       "      <td>1987.0</td>\n",
       "      <td>4.75</td>\n",
       "      <td>1.61</td>\n",
       "      <td>2.0</td>\n",
       "      <td>4.0</td>\n",
       "      <td>5.0</td>\n",
       "      <td>6.0</td>\n",
       "      <td>9.0</td>\n",
       "    </tr>\n",
       "    <tr>\n",
       "      <th>5</th>\n",
       "      <th>ChronicDiseases</th>\n",
       "      <td>1985</td>\n",
       "      <td>0</td>\n",
       "      <td>2</td>\n",
       "      <td>int64</td>\n",
       "      <td>1987.0</td>\n",
       "      <td>0.28</td>\n",
       "      <td>0.45</td>\n",
       "      <td>0.0</td>\n",
       "      <td>0.0</td>\n",
       "      <td>0.0</td>\n",
       "      <td>1.0</td>\n",
       "      <td>1.0</td>\n",
       "    </tr>\n",
       "    <tr>\n",
       "      <th>6</th>\n",
       "      <th>FrequentFlyer</th>\n",
       "      <td>1985</td>\n",
       "      <td>0</td>\n",
       "      <td>2</td>\n",
       "      <td>object</td>\n",
       "      <td>1987.0</td>\n",
       "      <td>No</td>\n",
       "      <td>NC</td>\n",
       "      <td>NC</td>\n",
       "      <td>NC</td>\n",
       "      <td>NC</td>\n",
       "      <td>NC</td>\n",
       "      <td>NC</td>\n",
       "    </tr>\n",
       "    <tr>\n",
       "      <th>7</th>\n",
       "      <th>EverTravelledAbroad</th>\n",
       "      <td>1985</td>\n",
       "      <td>0</td>\n",
       "      <td>2</td>\n",
       "      <td>object</td>\n",
       "      <td>1987.0</td>\n",
       "      <td>No</td>\n",
       "      <td>NC</td>\n",
       "      <td>NC</td>\n",
       "      <td>NC</td>\n",
       "      <td>NC</td>\n",
       "      <td>NC</td>\n",
       "      <td>NC</td>\n",
       "    </tr>\n",
       "    <tr>\n",
       "      <th>8</th>\n",
       "      <th>TravelInsurance</th>\n",
       "      <td>1985</td>\n",
       "      <td>0</td>\n",
       "      <td>2</td>\n",
       "      <td>int64</td>\n",
       "      <td>1987.0</td>\n",
       "      <td>0.36</td>\n",
       "      <td>0.48</td>\n",
       "      <td>0.0</td>\n",
       "      <td>0.0</td>\n",
       "      <td>0.0</td>\n",
       "      <td>1.0</td>\n",
       "      <td>1.0</td>\n",
       "    </tr>\n",
       "  </tbody>\n",
       "</table>\n",
       "</div>"
      ],
      "text/plain": [
       "                       duplicates  na  unique   dtype  non-null count  \\\n",
       "# Column                                                                \n",
       "0 Age                        1976   0      11   int64          1987.0   \n",
       "1 Employment Type            1985   0       2  object          1987.0   \n",
       "2 GraduateOrNot              1985   0       2  object          1987.0   \n",
       "3 AnnualIncome               1957   0      30   int64          1987.0   \n",
       "4 FamilyMembers              1979   0       8   int64          1987.0   \n",
       "5 ChronicDiseases            1985   0       2   int64          1987.0   \n",
       "6 FrequentFlyer              1985   0       2  object          1987.0   \n",
       "7 EverTravelledAbroad        1985   0       2  object          1987.0   \n",
       "8 TravelInsurance            1985   0       2   int64          1987.0   \n",
       "\n",
       "                                          mean/mode        std       min  \\\n",
       "# Column                                                                   \n",
       "0 Age                                         29.65       2.91      25.0   \n",
       "1 Employment Type      Private Sector/Self Employed         NC        NC   \n",
       "2 GraduateOrNot                                 Yes         NC        NC   \n",
       "3 AnnualIncome                            932762.96  376855.68  300000.0   \n",
       "4 FamilyMembers                                4.75       1.61       2.0   \n",
       "5 ChronicDiseases                              0.28       0.45       0.0   \n",
       "6 FrequentFlyer                                  No         NC        NC   \n",
       "7 EverTravelledAbroad                            No         NC        NC   \n",
       "8 TravelInsurance                              0.36       0.48       0.0   \n",
       "\n",
       "                            25%       50%        75%        max  \n",
       "# Column                                                         \n",
       "0 Age                      28.0      29.0       32.0       35.0  \n",
       "1 Employment Type            NC        NC         NC         NC  \n",
       "2 GraduateOrNot              NC        NC         NC         NC  \n",
       "3 AnnualIncome         600000.0  900000.0  1250000.0  1800000.0  \n",
       "4 FamilyMembers             4.0       5.0        6.0        9.0  \n",
       "5 ChronicDiseases           0.0       0.0        1.0        1.0  \n",
       "6 FrequentFlyer              NC        NC         NC         NC  \n",
       "7 EverTravelledAbroad        NC        NC         NC         NC  \n",
       "8 TravelInsurance           0.0       0.0        1.0        1.0  "
      ]
     },
     "metadata": {},
     "output_type": "display_data"
    }
   ],
   "source": [
    "inspect_dataframes(['travel_insurance.csv'], [dfi])"
   ]
  },
  {
   "cell_type": "code",
   "execution_count": 47,
   "metadata": {
    "hideCode": true,
    "hidePrompt": true,
    "slideshow": {
     "slide_type": "skip"
    }
   },
   "outputs": [
    {
     "name": "stdout",
     "output_type": "stream",
     "text": [
      "Employment Type ['Government Sector' 'Private Sector/Self Employed']\n",
      "GraduateOrNot ['Yes' 'No']\n",
      "ChronicDiseases [1 0]\n",
      "FrequentFlyer ['No' 'Yes']\n",
      "EverTravelledAbroad ['No' 'Yes']\n",
      "TravelInsurance [0 1]\n"
     ]
    }
   ],
   "source": [
    "# check for binary columns\n",
    "binary_cols = ['Employment Type', 'GraduateOrNot', 'ChronicDiseases', 'FrequentFlyer', 'EverTravelledAbroad', 'TravelInsurance']\n",
    "for c in binary_cols:\n",
    "    print(dfi[c].name, dfi[c].unique())"
   ]
  },
  {
   "cell_type": "code",
   "execution_count": 48,
   "metadata": {
    "hideCode": true,
    "hidePrompt": true
   },
   "outputs": [
    {
     "name": "stdout",
     "output_type": "stream",
     "text": [
      "Age                     int64\n",
      "Employment Type        object\n",
      "GraduateOrNot            bool\n",
      "AnnualIncome            int64\n",
      "FamilyMembers           int64\n",
      "ChronicDiseases          bool\n",
      "FrequentFlyer            bool\n",
      "EverTravelledAbroad      bool\n",
      "TravelInsurance          bool\n",
      "Private_employer         bool\n",
      "dtype: object\n"
     ]
    }
   ],
   "source": [
    "# map and re-affect datatypes\n",
    "mapping_bool = {'Yes':True, 1:True, 'No':False, 0:False}\n",
    "mapping_empl = {'Government Sector':False ,'Private Sector/Self Employed':True}\n",
    "convert_dict = {'Private_employer':bool, 'GraduateOrNot':bool, 'ChronicDiseases':bool, 'FrequentFlyer':bool, 'EverTravelledAbroad':bool, 'TravelInsurance':bool}\n",
    "df = dfi\n",
    "\n",
    "for c in binary_cols[0:1]:\n",
    "    df['Private_employer'] = dfi[c].replace(mapping_empl)\n",
    "\n",
    "for c in binary_cols[1:]:\n",
    "    df[c] = dfi[c].replace(mapping_bool)\n",
    "\n",
    "df = df.astype(convert_dict)\n",
    "print(df.dtypes)"
   ]
  },
  {
   "attachments": {},
   "cell_type": "markdown",
   "metadata": {
    "hideCode": true,
    "hidePrompt": true,
    "slideshow": {
     "slide_type": "slide"
    }
   },
   "source": [
    "## 3. Preliminary EDA"
   ]
  },
  {
   "attachments": {},
   "cell_type": "markdown",
   "metadata": {
    "hideCode": true,
    "hidePrompt": true,
    "slideshow": {
     "slide_type": "skip"
    }
   },
   "source": [
    "### Preliminary EDA"
   ]
  },
  {
   "cell_type": "code",
   "execution_count": 49,
   "metadata": {
    "hideCode": true,
    "hidePrompt": true,
    "slideshow": {
     "slide_type": "skip"
    }
   },
   "outputs": [
    {
     "name": "stdout",
     "output_type": "stream",
     "text": [
      "travel_insurance.csv dataframe -  shape:(1987, 10) dupl:738\n"
     ]
    },
    {
     "data": {
      "text/html": [
       "<div>\n",
       "<style scoped>\n",
       "    .dataframe tbody tr th:only-of-type {\n",
       "        vertical-align: middle;\n",
       "    }\n",
       "\n",
       "    .dataframe tbody tr th {\n",
       "        vertical-align: top;\n",
       "    }\n",
       "\n",
       "    .dataframe thead th {\n",
       "        text-align: right;\n",
       "    }\n",
       "</style>\n",
       "<table border=\"1\" class=\"dataframe\">\n",
       "  <thead>\n",
       "    <tr style=\"text-align: right;\">\n",
       "      <th></th>\n",
       "      <th></th>\n",
       "      <th>duplicates</th>\n",
       "      <th>na</th>\n",
       "      <th>unique</th>\n",
       "      <th>dtype</th>\n",
       "      <th>non-null count</th>\n",
       "      <th>mean/mode</th>\n",
       "      <th>std</th>\n",
       "      <th>min</th>\n",
       "      <th>25%</th>\n",
       "      <th>50%</th>\n",
       "      <th>75%</th>\n",
       "      <th>max</th>\n",
       "    </tr>\n",
       "    <tr>\n",
       "      <th>#</th>\n",
       "      <th>Column</th>\n",
       "      <th></th>\n",
       "      <th></th>\n",
       "      <th></th>\n",
       "      <th></th>\n",
       "      <th></th>\n",
       "      <th></th>\n",
       "      <th></th>\n",
       "      <th></th>\n",
       "      <th></th>\n",
       "      <th></th>\n",
       "      <th></th>\n",
       "      <th></th>\n",
       "    </tr>\n",
       "  </thead>\n",
       "  <tbody>\n",
       "    <tr>\n",
       "      <th>0</th>\n",
       "      <th>Age</th>\n",
       "      <td>1976</td>\n",
       "      <td>0</td>\n",
       "      <td>11</td>\n",
       "      <td>int64</td>\n",
       "      <td>1987.0</td>\n",
       "      <td>29.65</td>\n",
       "      <td>2.91</td>\n",
       "      <td>25.0</td>\n",
       "      <td>28.0</td>\n",
       "      <td>29.0</td>\n",
       "      <td>32.0</td>\n",
       "      <td>35.0</td>\n",
       "    </tr>\n",
       "    <tr>\n",
       "      <th>1</th>\n",
       "      <th>Employment Type</th>\n",
       "      <td>1985</td>\n",
       "      <td>0</td>\n",
       "      <td>2</td>\n",
       "      <td>object</td>\n",
       "      <td>1987.0</td>\n",
       "      <td>Private Sector/Self Employed</td>\n",
       "      <td>NC</td>\n",
       "      <td>NC</td>\n",
       "      <td>NC</td>\n",
       "      <td>NC</td>\n",
       "      <td>NC</td>\n",
       "      <td>NC</td>\n",
       "    </tr>\n",
       "    <tr>\n",
       "      <th>2</th>\n",
       "      <th>GraduateOrNot</th>\n",
       "      <td>1985</td>\n",
       "      <td>0</td>\n",
       "      <td>2</td>\n",
       "      <td>bool</td>\n",
       "      <td>1987.0</td>\n",
       "      <td>True</td>\n",
       "      <td>NC</td>\n",
       "      <td>NC</td>\n",
       "      <td>NC</td>\n",
       "      <td>NC</td>\n",
       "      <td>NC</td>\n",
       "      <td>NC</td>\n",
       "    </tr>\n",
       "    <tr>\n",
       "      <th>3</th>\n",
       "      <th>AnnualIncome</th>\n",
       "      <td>1957</td>\n",
       "      <td>0</td>\n",
       "      <td>30</td>\n",
       "      <td>int64</td>\n",
       "      <td>1987.0</td>\n",
       "      <td>932762.96</td>\n",
       "      <td>376855.68</td>\n",
       "      <td>300000.0</td>\n",
       "      <td>600000.0</td>\n",
       "      <td>900000.0</td>\n",
       "      <td>1250000.0</td>\n",
       "      <td>1800000.0</td>\n",
       "    </tr>\n",
       "    <tr>\n",
       "      <th>4</th>\n",
       "      <th>FamilyMembers</th>\n",
       "      <td>1979</td>\n",
       "      <td>0</td>\n",
       "      <td>8</td>\n",
       "      <td>int64</td>\n",
       "      <td>1987.0</td>\n",
       "      <td>4.75</td>\n",
       "      <td>1.61</td>\n",
       "      <td>2.0</td>\n",
       "      <td>4.0</td>\n",
       "      <td>5.0</td>\n",
       "      <td>6.0</td>\n",
       "      <td>9.0</td>\n",
       "    </tr>\n",
       "    <tr>\n",
       "      <th>5</th>\n",
       "      <th>ChronicDiseases</th>\n",
       "      <td>1985</td>\n",
       "      <td>0</td>\n",
       "      <td>2</td>\n",
       "      <td>bool</td>\n",
       "      <td>1987.0</td>\n",
       "      <td>False</td>\n",
       "      <td>NC</td>\n",
       "      <td>NC</td>\n",
       "      <td>NC</td>\n",
       "      <td>NC</td>\n",
       "      <td>NC</td>\n",
       "      <td>NC</td>\n",
       "    </tr>\n",
       "    <tr>\n",
       "      <th>6</th>\n",
       "      <th>FrequentFlyer</th>\n",
       "      <td>1985</td>\n",
       "      <td>0</td>\n",
       "      <td>2</td>\n",
       "      <td>bool</td>\n",
       "      <td>1987.0</td>\n",
       "      <td>False</td>\n",
       "      <td>NC</td>\n",
       "      <td>NC</td>\n",
       "      <td>NC</td>\n",
       "      <td>NC</td>\n",
       "      <td>NC</td>\n",
       "      <td>NC</td>\n",
       "    </tr>\n",
       "    <tr>\n",
       "      <th>7</th>\n",
       "      <th>EverTravelledAbroad</th>\n",
       "      <td>1985</td>\n",
       "      <td>0</td>\n",
       "      <td>2</td>\n",
       "      <td>bool</td>\n",
       "      <td>1987.0</td>\n",
       "      <td>False</td>\n",
       "      <td>NC</td>\n",
       "      <td>NC</td>\n",
       "      <td>NC</td>\n",
       "      <td>NC</td>\n",
       "      <td>NC</td>\n",
       "      <td>NC</td>\n",
       "    </tr>\n",
       "    <tr>\n",
       "      <th>8</th>\n",
       "      <th>TravelInsurance</th>\n",
       "      <td>1985</td>\n",
       "      <td>0</td>\n",
       "      <td>2</td>\n",
       "      <td>bool</td>\n",
       "      <td>1987.0</td>\n",
       "      <td>False</td>\n",
       "      <td>NC</td>\n",
       "      <td>NC</td>\n",
       "      <td>NC</td>\n",
       "      <td>NC</td>\n",
       "      <td>NC</td>\n",
       "      <td>NC</td>\n",
       "    </tr>\n",
       "    <tr>\n",
       "      <th>9</th>\n",
       "      <th>Private_employer</th>\n",
       "      <td>1985</td>\n",
       "      <td>0</td>\n",
       "      <td>2</td>\n",
       "      <td>bool</td>\n",
       "      <td>1987.0</td>\n",
       "      <td>True</td>\n",
       "      <td>NC</td>\n",
       "      <td>NC</td>\n",
       "      <td>NC</td>\n",
       "      <td>NC</td>\n",
       "      <td>NC</td>\n",
       "      <td>NC</td>\n",
       "    </tr>\n",
       "  </tbody>\n",
       "</table>\n",
       "</div>"
      ],
      "text/plain": [
       "                       duplicates  na  unique   dtype  non-null count  \\\n",
       "# Column                                                                \n",
       "0 Age                        1976   0      11   int64          1987.0   \n",
       "1 Employment Type            1985   0       2  object          1987.0   \n",
       "2 GraduateOrNot              1985   0       2    bool          1987.0   \n",
       "3 AnnualIncome               1957   0      30   int64          1987.0   \n",
       "4 FamilyMembers              1979   0       8   int64          1987.0   \n",
       "5 ChronicDiseases            1985   0       2    bool          1987.0   \n",
       "6 FrequentFlyer              1985   0       2    bool          1987.0   \n",
       "7 EverTravelledAbroad        1985   0       2    bool          1987.0   \n",
       "8 TravelInsurance            1985   0       2    bool          1987.0   \n",
       "9 Private_employer           1985   0       2    bool          1987.0   \n",
       "\n",
       "                                          mean/mode        std       min  \\\n",
       "# Column                                                                   \n",
       "0 Age                                         29.65       2.91      25.0   \n",
       "1 Employment Type      Private Sector/Self Employed         NC        NC   \n",
       "2 GraduateOrNot                                True         NC        NC   \n",
       "3 AnnualIncome                            932762.96  376855.68  300000.0   \n",
       "4 FamilyMembers                                4.75       1.61       2.0   \n",
       "5 ChronicDiseases                             False         NC        NC   \n",
       "6 FrequentFlyer                               False         NC        NC   \n",
       "7 EverTravelledAbroad                         False         NC        NC   \n",
       "8 TravelInsurance                             False         NC        NC   \n",
       "9 Private_employer                             True         NC        NC   \n",
       "\n",
       "                            25%       50%        75%        max  \n",
       "# Column                                                         \n",
       "0 Age                      28.0      29.0       32.0       35.0  \n",
       "1 Employment Type            NC        NC         NC         NC  \n",
       "2 GraduateOrNot              NC        NC         NC         NC  \n",
       "3 AnnualIncome         600000.0  900000.0  1250000.0  1800000.0  \n",
       "4 FamilyMembers             4.0       5.0        6.0        9.0  \n",
       "5 ChronicDiseases            NC        NC         NC         NC  \n",
       "6 FrequentFlyer              NC        NC         NC         NC  \n",
       "7 EverTravelledAbroad        NC        NC         NC         NC  \n",
       "8 TravelInsurance            NC        NC         NC         NC  \n",
       "9 Private_employer           NC        NC         NC         NC  "
      ]
     },
     "metadata": {},
     "output_type": "display_data"
    }
   ],
   "source": [
    "# data validation\n",
    "inspect_dataframes(['travel_insurance.csv'], [df])"
   ]
  },
  {
   "cell_type": "code",
   "execution_count": 50,
   "metadata": {
    "hideCode": true,
    "hidePrompt": true,
    "slideshow": {
     "slide_type": "skip"
    }
   },
   "outputs": [
    {
     "data": {
      "text/html": [
       "<div>\n",
       "<style scoped>\n",
       "    .dataframe tbody tr th:only-of-type {\n",
       "        vertical-align: middle;\n",
       "    }\n",
       "\n",
       "    .dataframe tbody tr th {\n",
       "        vertical-align: top;\n",
       "    }\n",
       "\n",
       "    .dataframe thead th {\n",
       "        text-align: right;\n",
       "    }\n",
       "</style>\n",
       "<table border=\"1\" class=\"dataframe\">\n",
       "  <thead>\n",
       "    <tr style=\"text-align: right;\">\n",
       "      <th></th>\n",
       "      <th>Age</th>\n",
       "      <th>Employment Type</th>\n",
       "      <th>GraduateOrNot</th>\n",
       "      <th>AnnualIncome</th>\n",
       "      <th>FamilyMembers</th>\n",
       "      <th>ChronicDiseases</th>\n",
       "      <th>FrequentFlyer</th>\n",
       "      <th>EverTravelledAbroad</th>\n",
       "      <th>TravelInsurance</th>\n",
       "      <th>Private_employer</th>\n",
       "    </tr>\n",
       "  </thead>\n",
       "  <tbody>\n",
       "    <tr>\n",
       "      <th>0</th>\n",
       "      <td>31</td>\n",
       "      <td>Government Sector</td>\n",
       "      <td>True</td>\n",
       "      <td>400000</td>\n",
       "      <td>6</td>\n",
       "      <td>True</td>\n",
       "      <td>False</td>\n",
       "      <td>False</td>\n",
       "      <td>False</td>\n",
       "      <td>False</td>\n",
       "    </tr>\n",
       "    <tr>\n",
       "      <th>1</th>\n",
       "      <td>31</td>\n",
       "      <td>Private Sector/Self Employed</td>\n",
       "      <td>True</td>\n",
       "      <td>1250000</td>\n",
       "      <td>7</td>\n",
       "      <td>False</td>\n",
       "      <td>False</td>\n",
       "      <td>False</td>\n",
       "      <td>False</td>\n",
       "      <td>True</td>\n",
       "    </tr>\n",
       "    <tr>\n",
       "      <th>2</th>\n",
       "      <td>34</td>\n",
       "      <td>Private Sector/Self Employed</td>\n",
       "      <td>True</td>\n",
       "      <td>500000</td>\n",
       "      <td>4</td>\n",
       "      <td>True</td>\n",
       "      <td>False</td>\n",
       "      <td>False</td>\n",
       "      <td>True</td>\n",
       "      <td>True</td>\n",
       "    </tr>\n",
       "  </tbody>\n",
       "</table>\n",
       "</div>"
      ],
      "text/plain": [
       "   Age               Employment Type  GraduateOrNot  AnnualIncome  \\\n",
       "0   31             Government Sector           True        400000   \n",
       "1   31  Private Sector/Self Employed           True       1250000   \n",
       "2   34  Private Sector/Self Employed           True        500000   \n",
       "\n",
       "   FamilyMembers  ChronicDiseases  FrequentFlyer  EverTravelledAbroad  \\\n",
       "0              6             True          False                False   \n",
       "1              7            False          False                False   \n",
       "2              4             True          False                False   \n",
       "\n",
       "   TravelInsurance  Private_employer  \n",
       "0            False             False  \n",
       "1            False              True  \n",
       "2             True              True  "
      ]
     },
     "execution_count": 50,
     "metadata": {},
     "output_type": "execute_result"
    }
   ],
   "source": [
    "# print a newly-formatted dataframe => integrate as a slide fragment\n",
    "df.head(3)"
   ]
  },
  {
   "attachments": {},
   "cell_type": "markdown",
   "metadata": {
    "hideCode": true,
    "hidePrompt": true,
    "slideshow": {
     "slide_type": "skip"
    }
   },
   "source": [
    "<p>Possible covering for policies :\n",
    "<li><span style='color:DarkBlue '> basic-policy </span> : emergency medical expenses while overseas,\n",
    "<li><span style='color:DarkBlue '> comprehensive-policy </span> : trip cancellation, lost luggage, flight delays, public liability, and other expenses</p>"
   ]
  },
  {
   "attachments": {},
   "cell_type": "markdown",
   "metadata": {
    "hideCode": true,
    "hidePrompt": true,
    "slideshow": {
     "slide_type": "fragment"
    }
   },
   "source": [
    "### Basic understanding of business model\n",
    "\n",
    "<p>We see 2 categories of hazard that are causing losses potential covered within the insurance policies :\n",
    "<li><span style='color:DarkBlue '> professional </span>  hazard (due to employment) can lead to trip cancellation\n",
    "<li><span style='color:DarkBlue '> personal </span>  hazard (due to family, health) can lead to emergency expenses (health) or trip cancellation\n",
    "<li>other losses like lost-luggage can happen in both categories of trips</p>"
   ]
  },
  {
   "attachments": {},
   "cell_type": "markdown",
   "metadata": {
    "hideCode": true,
    "hidePrompt": true,
    "slideshow": {
     "slide_type": "fragment"
    }
   },
   "source": [
    "### Correlations between parameters"
   ]
  },
  {
   "cell_type": "code",
   "execution_count": 51,
   "metadata": {
    "hideCode": true,
    "hidePrompt": true,
    "slideshow": {
     "slide_type": "skip"
    }
   },
   "outputs": [
    {
     "data": {
      "text/html": [
       "<div>\n",
       "<style scoped>\n",
       "    .dataframe tbody tr th:only-of-type {\n",
       "        vertical-align: middle;\n",
       "    }\n",
       "\n",
       "    .dataframe tbody tr th {\n",
       "        vertical-align: top;\n",
       "    }\n",
       "\n",
       "    .dataframe thead th {\n",
       "        text-align: right;\n",
       "    }\n",
       "</style>\n",
       "<table border=\"1\" class=\"dataframe\">\n",
       "  <thead>\n",
       "    <tr style=\"text-align: right;\">\n",
       "      <th></th>\n",
       "      <th>Age</th>\n",
       "      <th>GraduateOrNot</th>\n",
       "      <th>AnnualIncome</th>\n",
       "      <th>FamilyMembers</th>\n",
       "      <th>ChronicDiseases</th>\n",
       "      <th>FrequentFlyer</th>\n",
       "      <th>EverTravelledAbroad</th>\n",
       "      <th>TravelInsurance</th>\n",
       "      <th>Private_employer</th>\n",
       "    </tr>\n",
       "  </thead>\n",
       "  <tbody>\n",
       "    <tr>\n",
       "      <th>Age</th>\n",
       "      <td>1.000</td>\n",
       "      <td>0.027</td>\n",
       "      <td>-0.020</td>\n",
       "      <td>0.027</td>\n",
       "      <td>0.007</td>\n",
       "      <td>-0.033</td>\n",
       "      <td>-0.013</td>\n",
       "      <td>0.061</td>\n",
       "      <td>-0.115</td>\n",
       "    </tr>\n",
       "    <tr>\n",
       "      <th>GraduateOrNot</th>\n",
       "      <td>0.027</td>\n",
       "      <td>1.000</td>\n",
       "      <td>0.108</td>\n",
       "      <td>0.021</td>\n",
       "      <td>0.019</td>\n",
       "      <td>-0.028</td>\n",
       "      <td>0.063</td>\n",
       "      <td>0.019</td>\n",
       "      <td>-0.127</td>\n",
       "    </tr>\n",
       "    <tr>\n",
       "      <th>AnnualIncome</th>\n",
       "      <td>-0.020</td>\n",
       "      <td>0.108</td>\n",
       "      <td>1.000</td>\n",
       "      <td>-0.015</td>\n",
       "      <td>-0.001</td>\n",
       "      <td>0.353</td>\n",
       "      <td>0.486</td>\n",
       "      <td>0.397</td>\n",
       "      <td>0.349</td>\n",
       "    </tr>\n",
       "    <tr>\n",
       "      <th>FamilyMembers</th>\n",
       "      <td>0.027</td>\n",
       "      <td>0.021</td>\n",
       "      <td>-0.015</td>\n",
       "      <td>1.000</td>\n",
       "      <td>0.028</td>\n",
       "      <td>-0.024</td>\n",
       "      <td>-0.021</td>\n",
       "      <td>0.080</td>\n",
       "      <td>-0.003</td>\n",
       "    </tr>\n",
       "    <tr>\n",
       "      <th>ChronicDiseases</th>\n",
       "      <td>0.007</td>\n",
       "      <td>0.019</td>\n",
       "      <td>-0.001</td>\n",
       "      <td>0.028</td>\n",
       "      <td>1.000</td>\n",
       "      <td>-0.044</td>\n",
       "      <td>0.021</td>\n",
       "      <td>0.018</td>\n",
       "      <td>-0.012</td>\n",
       "    </tr>\n",
       "    <tr>\n",
       "      <th>FrequentFlyer</th>\n",
       "      <td>-0.033</td>\n",
       "      <td>-0.028</td>\n",
       "      <td>0.353</td>\n",
       "      <td>-0.024</td>\n",
       "      <td>-0.044</td>\n",
       "      <td>1.000</td>\n",
       "      <td>0.277</td>\n",
       "      <td>0.232</td>\n",
       "      <td>0.144</td>\n",
       "    </tr>\n",
       "    <tr>\n",
       "      <th>EverTravelledAbroad</th>\n",
       "      <td>-0.013</td>\n",
       "      <td>0.063</td>\n",
       "      <td>0.486</td>\n",
       "      <td>-0.021</td>\n",
       "      <td>0.021</td>\n",
       "      <td>0.277</td>\n",
       "      <td>1.000</td>\n",
       "      <td>0.433</td>\n",
       "      <td>0.181</td>\n",
       "    </tr>\n",
       "    <tr>\n",
       "      <th>TravelInsurance</th>\n",
       "      <td>0.061</td>\n",
       "      <td>0.019</td>\n",
       "      <td>0.397</td>\n",
       "      <td>0.080</td>\n",
       "      <td>0.018</td>\n",
       "      <td>0.232</td>\n",
       "      <td>0.433</td>\n",
       "      <td>1.000</td>\n",
       "      <td>0.148</td>\n",
       "    </tr>\n",
       "    <tr>\n",
       "      <th>Private_employer</th>\n",
       "      <td>-0.115</td>\n",
       "      <td>-0.127</td>\n",
       "      <td>0.349</td>\n",
       "      <td>-0.003</td>\n",
       "      <td>-0.012</td>\n",
       "      <td>0.144</td>\n",
       "      <td>0.181</td>\n",
       "      <td>0.148</td>\n",
       "      <td>1.000</td>\n",
       "    </tr>\n",
       "  </tbody>\n",
       "</table>\n",
       "</div>"
      ],
      "text/plain": [
       "                       Age  GraduateOrNot  AnnualIncome  FamilyMembers  \\\n",
       "Age                  1.000          0.027        -0.020          0.027   \n",
       "GraduateOrNot        0.027          1.000         0.108          0.021   \n",
       "AnnualIncome        -0.020          0.108         1.000         -0.015   \n",
       "FamilyMembers        0.027          0.021        -0.015          1.000   \n",
       "ChronicDiseases      0.007          0.019        -0.001          0.028   \n",
       "FrequentFlyer       -0.033         -0.028         0.353         -0.024   \n",
       "EverTravelledAbroad -0.013          0.063         0.486         -0.021   \n",
       "TravelInsurance      0.061          0.019         0.397          0.080   \n",
       "Private_employer    -0.115         -0.127         0.349         -0.003   \n",
       "\n",
       "                     ChronicDiseases  FrequentFlyer  EverTravelledAbroad  \\\n",
       "Age                            0.007         -0.033               -0.013   \n",
       "GraduateOrNot                  0.019         -0.028                0.063   \n",
       "AnnualIncome                  -0.001          0.353                0.486   \n",
       "FamilyMembers                  0.028         -0.024               -0.021   \n",
       "ChronicDiseases                1.000         -0.044                0.021   \n",
       "FrequentFlyer                 -0.044          1.000                0.277   \n",
       "EverTravelledAbroad            0.021          0.277                1.000   \n",
       "TravelInsurance                0.018          0.232                0.433   \n",
       "Private_employer              -0.012          0.144                0.181   \n",
       "\n",
       "                     TravelInsurance  Private_employer  \n",
       "Age                            0.061            -0.115  \n",
       "GraduateOrNot                  0.019            -0.127  \n",
       "AnnualIncome                   0.397             0.349  \n",
       "FamilyMembers                  0.080            -0.003  \n",
       "ChronicDiseases                0.018            -0.012  \n",
       "FrequentFlyer                  0.232             0.144  \n",
       "EverTravelledAbroad            0.433             0.181  \n",
       "TravelInsurance                1.000             0.148  \n",
       "Private_employer               0.148             1.000  "
      ]
     },
     "execution_count": 51,
     "metadata": {},
     "output_type": "execute_result"
    }
   ],
   "source": [
    "corr_df = round(df.corr(),3)\n",
    "corr_df"
   ]
  },
  {
   "cell_type": "code",
   "execution_count": 52,
   "metadata": {
    "hideCode": true,
    "hidePrompt": true,
    "slideshow": {
     "slide_type": "skip"
    }
   },
   "outputs": [
    {
     "name": "stdout",
     "output_type": "stream",
     "text": [
      "largest_correlations:  [0.349, 0.353, 0.397, 0.433, 0.486]\n",
      "weakest_correlations:  [-0.127, -0.115, -0.044, -0.033, -0.028]\n"
     ]
    }
   ],
   "source": [
    "correlations = np.array(corr_df).reshape(81)\n",
    "correlations = pd.Series(correlations).drop_duplicates()\n",
    "larg_corr = correlations.nlargest(6).sort_values()[:-1].to_list()\n",
    "weak_corr = correlations.nsmallest(5).to_list()\n",
    "print('largest_correlations: ', larg_corr)\n",
    "print('weakest_correlations: ', weak_corr)"
   ]
  },
  {
   "cell_type": "code",
   "execution_count": 53,
   "metadata": {
    "hideCode": true,
    "hidePrompt": true,
    "slideshow": {
     "slide_type": "skip"
    }
   },
   "outputs": [
    {
     "name": "stdout",
     "output_type": "stream",
     "text": [
      "Weakest negative correlations:\n",
      "Age :  -0.115 Private_employer\n",
      "GraduateOrNot :  -0.127 Private_employer\n",
      "ChronicDiseases :  -0.044 FrequentFlyer\n",
      "FrequentFlyer :  -0.044 ChronicDiseases\n",
      "Private_employer :  -0.127 GraduateOrNot\n"
     ]
    }
   ],
   "source": [
    "print('Weakest negative correlations:')\n",
    "for i, row in corr_df.iterrows():\n",
    "    if min(row) in weak_corr:\n",
    "        print(i, ': ', min(row), row[row == min(row)].index[0])"
   ]
  },
  {
   "cell_type": "code",
   "execution_count": 54,
   "metadata": {
    "hideCode": true,
    "hidePrompt": true,
    "slideshow": {
     "slide_type": "skip"
    }
   },
   "outputs": [
    {
     "name": "stdout",
     "output_type": "stream",
     "text": [
      "\n",
      "Largest positive correlations:\n",
      "AnnualIncome :  0.486 EverTravelledAbroad\n",
      "FrequentFlyer :  0.353 AnnualIncome\n",
      "EverTravelledAbroad :  0.486 AnnualIncome\n",
      "TravelInsurance :  0.433 EverTravelledAbroad\n",
      "Private_employer :  0.349 AnnualIncome\n"
     ]
    }
   ],
   "source": [
    "print('\\nLargest positive correlations:')\n",
    "for i, row in corr_df.iterrows():\n",
    "    r = row.sort_values()[:-1]\n",
    "    if max(r) != 1 and max(r) in larg_corr:\n",
    "        print(i, ': ', max(r), r[r == max(r)].index[0])"
   ]
  },
  {
   "attachments": {},
   "cell_type": "markdown",
   "metadata": {
    "hideCode": true,
    "hidePrompt": true,
    "slideshow": {
     "slide_type": "fragment"
    }
   },
   "source": [
    "<li>Customers <span style='color:DarkBlue '> annual income </span> is positively correlated with flyer-freq and international trips (corr matrix)\n",
    "<li>For prospects anyway, annual income is less (but still positively) correlated to travel habits"
   ]
  },
  {
   "cell_type": "code",
   "execution_count": 55,
   "metadata": {
    "hideCode": true,
    "hidePrompt": true,
    "slideshow": {
     "slide_type": "skip"
    }
   },
   "outputs": [
    {
     "data": {
      "text/plain": [
       "<Figure size 432x288 with 0 Axes>"
      ]
     },
     "metadata": {},
     "output_type": "display_data"
    }
   ],
   "source": [
    "plt.clf()"
   ]
  },
  {
   "attachments": {},
   "cell_type": "markdown",
   "metadata": {
    "hideCode": true,
    "hidePrompt": true,
    "slideshow": {
     "slide_type": "subslide"
    }
   },
   "source": [
    "### Visualization of Age and Income distributions : "
   ]
  },
  {
   "cell_type": "code",
   "execution_count": 56,
   "metadata": {
    "hideCode": true,
    "hidePrompt": true,
    "slideshow": {
     "slide_type": "slide"
    }
   },
   "outputs": [
    {
     "data": {
      "text/html": [
       "<table><tr><td><img src=\"data:image/png;base64,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\"/></td><td>    <font size=\"+2\">Ages distribution histogram view :    <li>Flyers are of <span style=\"color:DarkBlue \"> all ages </span> (peak at 28 years-old)</td></tr></table>"
      ],
      "text/plain": [
       "<IPython.core.display.HTML object>"
      ]
     },
     "metadata": {},
     "output_type": "display_data"
    }
   ],
   "source": [
    "# plot first visualization of single variable \"Age\" (histogram)\n",
    "df_age_income = df[['Age', 'AnnualIncome', 'GraduateOrNot']]\n",
    "fig, ax = plt.subplots(figsize=(8,6))  # figsize=(12, 4) useless\n",
    "df_age_income['Age'].plot.hist(ax=ax, title='Ages distribution')  # height=6, aspect=2\n",
    "ax.set(xlabel='Age', ylabel='count')\n",
    "ax.annotate(\"a peak at 28 yo\", xy=(29,400), xytext=(31, 300), arrowprops={})\n",
    "plt.close()\n",
    "text = '\\\n",
    "    <font size=\"+2\">Ages distribution histogram view :\\\n",
    "    <li>Flyers are of <span style=\"color:DarkBlue \"> all ages </span> (peak at 28 years-old)'\n",
    "add_split_screen(fig, text, iwidth='500px')\n"
   ]
  },
  {
   "cell_type": "code",
   "execution_count": 57,
   "metadata": {
    "hideCode": true,
    "hidePrompt": true,
    "slideshow": {
     "slide_type": "fragment"
    }
   },
   "outputs": [
    {
     "data": {
      "text/html": [
       "<table><tr><td><img src=\"data:image/png;base64,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\"/></td><td>    <font size=\"+2\">Annual Income boxplot view :    <br>a quite<span style=\"color:DarkBlue \"> large IQR </span> representing big diversity in wages    <li><span style=\"color:DarkBlue \"> first quartile </span> on left-hand side = 600000.0    <li><span style=\"color:DarkBlue \"> third quartile </span> on right-hand side = 1250000.0</td></tr></table>"
      ],
      "text/plain": [
       "<IPython.core.display.HTML object>"
      ]
     },
     "metadata": {},
     "output_type": "display_data"
    }
   ],
   "source": [
    "# plot second visualization of single variable \"income\" (boxplot)\n",
    "fig, ax = plt.subplots(figsize=(10, 4))  # figsize=(12, 4) useless\n",
    "ax = sns.boxplot(data=df_age_income, x='AnnualIncome')  # height=6, aspect=2\n",
    "#title='Income variation'\n",
    "plt.close()\n",
    "text = '\\\n",
    "    <font size=\"+2\">Annual Income boxplot view :\\\n",
    "    <br>a quite<span style=\"color:DarkBlue \"> large IQR </span> representing big diversity in wages\\\n",
    "    <li><span style=\"color:DarkBlue \"> first quartile </span> on left-hand side = {}\\\n",
    "    <li><span style=\"color:DarkBlue \"> third quartile </span> on right-hand side = {}'\\\n",
    "        .format(np.quantile(df_age_income.AnnualIncome, 0.25), np.quantile(df_age_income.AnnualIncome, 0.75))\n",
    "add_split_screen(fig, text, iwidth='500px')"
   ]
  },
  {
   "cell_type": "code",
   "execution_count": 58,
   "metadata": {
    "hideCode": true,
    "hidePrompt": true,
    "slideshow": {
     "slide_type": "skip"
    }
   },
   "outputs": [
    {
     "data": {
      "text/html": [
       "<div>\n",
       "<style scoped>\n",
       "    .dataframe tbody tr th:only-of-type {\n",
       "        vertical-align: middle;\n",
       "    }\n",
       "\n",
       "    .dataframe tbody tr th {\n",
       "        vertical-align: top;\n",
       "    }\n",
       "\n",
       "    .dataframe thead th {\n",
       "        text-align: right;\n",
       "    }\n",
       "</style>\n",
       "<table border=\"1\" class=\"dataframe\">\n",
       "  <thead>\n",
       "    <tr style=\"text-align: right;\">\n",
       "      <th></th>\n",
       "      <th>Age</th>\n",
       "      <th>Employment Type</th>\n",
       "      <th>GraduateOrNot</th>\n",
       "      <th>AnnualIncome</th>\n",
       "      <th>FamilyMembers</th>\n",
       "      <th>ChronicDiseases</th>\n",
       "      <th>FrequentFlyer</th>\n",
       "      <th>EverTravelledAbroad</th>\n",
       "      <th>TravelInsurance</th>\n",
       "      <th>Private_employer</th>\n",
       "    </tr>\n",
       "  </thead>\n",
       "  <tbody>\n",
       "    <tr>\n",
       "      <th>0</th>\n",
       "      <td>31</td>\n",
       "      <td>Government Sector</td>\n",
       "      <td>True</td>\n",
       "      <td>400000</td>\n",
       "      <td>6</td>\n",
       "      <td>True</td>\n",
       "      <td>False</td>\n",
       "      <td>False</td>\n",
       "      <td>prospect</td>\n",
       "      <td>False</td>\n",
       "    </tr>\n",
       "    <tr>\n",
       "      <th>1</th>\n",
       "      <td>31</td>\n",
       "      <td>Private Sector/Self Employed</td>\n",
       "      <td>True</td>\n",
       "      <td>1250000</td>\n",
       "      <td>7</td>\n",
       "      <td>False</td>\n",
       "      <td>False</td>\n",
       "      <td>False</td>\n",
       "      <td>prospect</td>\n",
       "      <td>True</td>\n",
       "    </tr>\n",
       "    <tr>\n",
       "      <th>2</th>\n",
       "      <td>34</td>\n",
       "      <td>Private Sector/Self Employed</td>\n",
       "      <td>True</td>\n",
       "      <td>500000</td>\n",
       "      <td>4</td>\n",
       "      <td>True</td>\n",
       "      <td>False</td>\n",
       "      <td>False</td>\n",
       "      <td>current customer</td>\n",
       "      <td>True</td>\n",
       "    </tr>\n",
       "  </tbody>\n",
       "</table>\n",
       "</div>"
      ],
      "text/plain": [
       "   Age               Employment Type  GraduateOrNot  AnnualIncome  \\\n",
       "0   31             Government Sector           True        400000   \n",
       "1   31  Private Sector/Self Employed           True       1250000   \n",
       "2   34  Private Sector/Self Employed           True        500000   \n",
       "\n",
       "   FamilyMembers  ChronicDiseases  FrequentFlyer  EverTravelledAbroad  \\\n",
       "0              6             True          False                False   \n",
       "1              7            False          False                False   \n",
       "2              4             True          False                False   \n",
       "\n",
       "    TravelInsurance  Private_employer  \n",
       "0          prospect             False  \n",
       "1          prospect              True  \n",
       "2  current customer              True  "
      ]
     },
     "execution_count": 58,
     "metadata": {},
     "output_type": "execute_result"
    }
   ],
   "source": [
    "df2 = df\n",
    "mapping_cust = {True:'current customer', False:'prospect'}\n",
    "df2['TravelInsurance'] = df['TravelInsurance'].replace(mapping_cust).astype('category')\n",
    "df2.head(3)"
   ]
  },
  {
   "cell_type": "code",
   "execution_count": 59,
   "metadata": {
    "hideCode": true,
    "hidePrompt": true,
    "slideshow": {
     "slide_type": "skip"
    }
   },
   "outputs": [
    {
     "data": {
      "text/plain": [
       "Index(['Age', 'Employment Type', 'GraduateOrNot', 'AnnualIncome',\n",
       "       'FamilyMembers', 'ChronicDiseases', 'FrequentFlyer',\n",
       "       'EverTravelledAbroad', 'TravelInsurance', 'Private_employer'],\n",
       "      dtype='object')"
      ]
     },
     "execution_count": 59,
     "metadata": {},
     "output_type": "execute_result"
    }
   ],
   "source": [
    "df2.columns"
   ]
  },
  {
   "attachments": {},
   "cell_type": "markdown",
   "metadata": {
    "hideCode": true,
    "hidePrompt": true,
    "slideshow": {
     "slide_type": "slide"
    }
   },
   "source": [
    "## 4. Q1:Differences between customers and non-customers' travel habits"
   ]
  },
  {
   "attachments": {},
   "cell_type": "markdown",
   "metadata": {
    "hideCode": true,
    "hidePrompt": true,
    "slideshow": {
     "slide_type": "fragment"
    }
   },
   "source": [
    "Travel habits are defined with two parameters :\n",
    "<li><span style='color:DarkBlue '> Frequency </span> of flights from the traveller\n",
    "<li>Whether traveller did travelled <span style='color:DarkBlue '> abroad </span>"
   ]
  },
  {
   "cell_type": "code",
   "execution_count": 60,
   "metadata": {
    "hideCode": true,
    "hidePrompt": true,
    "slideshow": {
     "slide_type": "skip"
    }
   },
   "outputs": [
    {
     "data": {
      "text/plain": [
       "prospect            1277\n",
       "current customer     710\n",
       "Name: TravelInsurance, dtype: int64"
      ]
     },
     "execution_count": 60,
     "metadata": {},
     "output_type": "execute_result"
    }
   ],
   "source": [
    "df2['TravelInsurance'].value_counts()"
   ]
  },
  {
   "cell_type": "code",
   "execution_count": 61,
   "metadata": {
    "hideCode": true,
    "hidePrompt": true,
    "slideshow": {
     "slide_type": "skip"
    }
   },
   "outputs": [
    {
     "data": {
      "text/html": [
       "<div>\n",
       "<style scoped>\n",
       "    .dataframe tbody tr th:only-of-type {\n",
       "        vertical-align: middle;\n",
       "    }\n",
       "\n",
       "    .dataframe tbody tr th {\n",
       "        vertical-align: top;\n",
       "    }\n",
       "\n",
       "    .dataframe thead th {\n",
       "        text-align: right;\n",
       "    }\n",
       "</style>\n",
       "<table border=\"1\" class=\"dataframe\">\n",
       "  <thead>\n",
       "    <tr style=\"text-align: right;\">\n",
       "      <th></th>\n",
       "      <th>Flyer segment</th>\n",
       "      <th>Employment Type</th>\n",
       "      <th>Frequent</th>\n",
       "      <th>Age</th>\n",
       "      <th>Prop% to flyer segment</th>\n",
       "    </tr>\n",
       "  </thead>\n",
       "  <tbody>\n",
       "    <tr>\n",
       "      <th>0</th>\n",
       "      <td>current customer</td>\n",
       "      <td>Government Sector</td>\n",
       "      <td>False</td>\n",
       "      <td>106</td>\n",
       "      <td>14.929577</td>\n",
       "    </tr>\n",
       "    <tr>\n",
       "      <th>1</th>\n",
       "      <td>current customer</td>\n",
       "      <td>Government Sector</td>\n",
       "      <td>True</td>\n",
       "      <td>34</td>\n",
       "      <td>4.788732</td>\n",
       "    </tr>\n",
       "    <tr>\n",
       "      <th>2</th>\n",
       "      <td>current customer</td>\n",
       "      <td>Private Sector/Self Employed</td>\n",
       "      <td>False</td>\n",
       "      <td>365</td>\n",
       "      <td>51.408451</td>\n",
       "    </tr>\n",
       "    <tr>\n",
       "      <th>3</th>\n",
       "      <td>current customer</td>\n",
       "      <td>Private Sector/Self Employed</td>\n",
       "      <td>True</td>\n",
       "      <td>205</td>\n",
       "      <td>28.873239</td>\n",
       "    </tr>\n",
       "    <tr>\n",
       "      <th>4</th>\n",
       "      <td>prospect</td>\n",
       "      <td>Government Sector</td>\n",
       "      <td>False</td>\n",
       "      <td>397</td>\n",
       "      <td>31.088489</td>\n",
       "    </tr>\n",
       "    <tr>\n",
       "      <th>5</th>\n",
       "      <td>prospect</td>\n",
       "      <td>Government Sector</td>\n",
       "      <td>True</td>\n",
       "      <td>33</td>\n",
       "      <td>2.584182</td>\n",
       "    </tr>\n",
       "    <tr>\n",
       "      <th>6</th>\n",
       "      <td>prospect</td>\n",
       "      <td>Private Sector/Self Employed</td>\n",
       "      <td>False</td>\n",
       "      <td>702</td>\n",
       "      <td>54.972592</td>\n",
       "    </tr>\n",
       "    <tr>\n",
       "      <th>7</th>\n",
       "      <td>prospect</td>\n",
       "      <td>Private Sector/Self Employed</td>\n",
       "      <td>True</td>\n",
       "      <td>145</td>\n",
       "      <td>11.354738</td>\n",
       "    </tr>\n",
       "  </tbody>\n",
       "</table>\n",
       "</div>"
      ],
      "text/plain": [
       "      Flyer segment               Employment Type  Frequent  Age  \\\n",
       "0  current customer             Government Sector     False  106   \n",
       "1  current customer             Government Sector      True   34   \n",
       "2  current customer  Private Sector/Self Employed     False  365   \n",
       "3  current customer  Private Sector/Self Employed      True  205   \n",
       "4          prospect             Government Sector     False  397   \n",
       "5          prospect             Government Sector      True   33   \n",
       "6          prospect  Private Sector/Self Employed     False  702   \n",
       "7          prospect  Private Sector/Self Employed      True  145   \n",
       "\n",
       "   Prop% to flyer segment  \n",
       "0               14.929577  \n",
       "1                4.788732  \n",
       "2               51.408451  \n",
       "3               28.873239  \n",
       "4               31.088489  \n",
       "5                2.584182  \n",
       "6               54.972592  \n",
       "7               11.354738  "
      ]
     },
     "execution_count": 61,
     "metadata": {},
     "output_type": "execute_result"
    }
   ],
   "source": [
    "df_freq = df2.groupby(['TravelInsurance', 'Employment Type', 'FrequentFlyer'])['Age'].count().reset_index().rename(columns={'TravelInsurance':'Flyer segment'})\n",
    "df_freq['Prop% to flyer segment'] = 100 * df_freq['Age'] / df_freq.groupby('Flyer segment')['Age'].transform('sum')\n",
    "df_freq = df_freq.rename(columns = {'FrequentFlyer':'Frequent'})\n",
    "df_freq"
   ]
  },
  {
   "attachments": {},
   "cell_type": "markdown",
   "metadata": {
    "hideCode": true,
    "hidePrompt": true,
    "slideshow": {
     "slide_type": "skip"
    }
   },
   "source": [
    "### Flyers' frequency of flights"
   ]
  },
  {
   "cell_type": "code",
   "execution_count": 62,
   "metadata": {
    "hideCode": true,
    "hidePrompt": true,
    "slideshow": {
     "slide_type": "fragment"
    }
   },
   "outputs": [
    {
     "data": {
      "image/png": "[encoded data removed]",
      "text/plain": [
       "<Figure size 864x432 with 4 Axes>"
      ]
     },
     "metadata": {},
     "output_type": "display_data"
    }
   ],
   "source": [
    "g = sns.FacetGrid(data=df_freq, col='Flyer segment', row='Frequent', height=3, aspect=2, margin_titles=True)  # df2[df2.TravelInsurance=='prospect']\n",
    "g.map(sns.barplot, 'Prop% to flyer segment', 'Employment Type', color='Yellow', order=None)  #x='Employment Type'\n",
    "g.fig.suptitle('Proportion of employees as perc. of the flyer segment (customer or prospect), segmented by frequency habits', fontsize=18, y=1.05)\n",
    "plt.show()"
   ]
  },
  {
   "attachments": {},
   "cell_type": "markdown",
   "metadata": {
    "hideCode": true,
    "hidePrompt": true,
    "slideshow": {
     "slide_type": "fragment"
    }
   },
   "source": [
    "<li>66% of current customers, whereas 86% of prospected customers, are occasional flyers\n",
    "<li>the proportion of <span style='color:DarkBlue '> private sector </span> employees is much higher in any cases"
   ]
  },
  {
   "cell_type": "code",
   "execution_count": 63,
   "metadata": {
    "hideCode": true,
    "hidePrompt": true,
    "slideshow": {
     "slide_type": "skip"
    }
   },
   "outputs": [
    {
     "data": {
      "text/html": [
       "<div>\n",
       "<style scoped>\n",
       "    .dataframe tbody tr th:only-of-type {\n",
       "        vertical-align: middle;\n",
       "    }\n",
       "\n",
       "    .dataframe tbody tr th {\n",
       "        vertical-align: top;\n",
       "    }\n",
       "\n",
       "    .dataframe thead th {\n",
       "        text-align: right;\n",
       "    }\n",
       "</style>\n",
       "<table border=\"1\" class=\"dataframe\">\n",
       "  <thead>\n",
       "    <tr style=\"text-align: right;\">\n",
       "      <th></th>\n",
       "      <th>Flyer segment</th>\n",
       "      <th>Employment Type</th>\n",
       "      <th>Trav. abroad</th>\n",
       "      <th>Age</th>\n",
       "      <th>Prop% to flyer segment</th>\n",
       "    </tr>\n",
       "  </thead>\n",
       "  <tbody>\n",
       "    <tr>\n",
       "      <th>0</th>\n",
       "      <td>current customer</td>\n",
       "      <td>Government Sector</td>\n",
       "      <td>False</td>\n",
       "      <td>114</td>\n",
       "      <td>16.056338</td>\n",
       "    </tr>\n",
       "    <tr>\n",
       "      <th>1</th>\n",
       "      <td>current customer</td>\n",
       "      <td>Government Sector</td>\n",
       "      <td>True</td>\n",
       "      <td>26</td>\n",
       "      <td>3.661972</td>\n",
       "    </tr>\n",
       "    <tr>\n",
       "      <th>2</th>\n",
       "      <td>current customer</td>\n",
       "      <td>Private Sector/Self Employed</td>\n",
       "      <td>False</td>\n",
       "      <td>298</td>\n",
       "      <td>41.971831</td>\n",
       "    </tr>\n",
       "    <tr>\n",
       "      <th>3</th>\n",
       "      <td>current customer</td>\n",
       "      <td>Private Sector/Self Employed</td>\n",
       "      <td>True</td>\n",
       "      <td>272</td>\n",
       "      <td>38.309859</td>\n",
       "    </tr>\n",
       "    <tr>\n",
       "      <th>4</th>\n",
       "      <td>prospect</td>\n",
       "      <td>Government Sector</td>\n",
       "      <td>False</td>\n",
       "      <td>411</td>\n",
       "      <td>32.184808</td>\n",
       "    </tr>\n",
       "    <tr>\n",
       "      <th>5</th>\n",
       "      <td>prospect</td>\n",
       "      <td>Government Sector</td>\n",
       "      <td>True</td>\n",
       "      <td>19</td>\n",
       "      <td>1.487862</td>\n",
       "    </tr>\n",
       "    <tr>\n",
       "      <th>6</th>\n",
       "      <td>prospect</td>\n",
       "      <td>Private Sector/Self Employed</td>\n",
       "      <td>False</td>\n",
       "      <td>784</td>\n",
       "      <td>61.393892</td>\n",
       "    </tr>\n",
       "    <tr>\n",
       "      <th>7</th>\n",
       "      <td>prospect</td>\n",
       "      <td>Private Sector/Self Employed</td>\n",
       "      <td>True</td>\n",
       "      <td>63</td>\n",
       "      <td>4.933438</td>\n",
       "    </tr>\n",
       "  </tbody>\n",
       "</table>\n",
       "</div>"
      ],
      "text/plain": [
       "      Flyer segment               Employment Type  Trav. abroad  Age  \\\n",
       "0  current customer             Government Sector         False  114   \n",
       "1  current customer             Government Sector          True   26   \n",
       "2  current customer  Private Sector/Self Employed         False  298   \n",
       "3  current customer  Private Sector/Self Employed          True  272   \n",
       "4          prospect             Government Sector         False  411   \n",
       "5          prospect             Government Sector          True   19   \n",
       "6          prospect  Private Sector/Self Employed         False  784   \n",
       "7          prospect  Private Sector/Self Employed          True   63   \n",
       "\n",
       "   Prop% to flyer segment  \n",
       "0               16.056338  \n",
       "1                3.661972  \n",
       "2               41.971831  \n",
       "3               38.309859  \n",
       "4               32.184808  \n",
       "5                1.487862  \n",
       "6               61.393892  \n",
       "7                4.933438  "
      ]
     },
     "execution_count": 63,
     "metadata": {},
     "output_type": "execute_result"
    }
   ],
   "source": [
    "df_abroad = df2.groupby(['TravelInsurance', 'Employment Type', 'EverTravelledAbroad'])['Age'].count().reset_index().rename(columns={'TravelInsurance':'Flyer segment'})\n",
    "df_abroad['Prop% to flyer segment'] = 100 * df_abroad['Age'] / df_abroad.groupby('Flyer segment')['Age'].transform('sum')\n",
    "df_abroad = df_abroad.rename(columns = {'EverTravelledAbroad':'Trav. abroad'})\n",
    "df_abroad"
   ]
  },
  {
   "attachments": {},
   "cell_type": "markdown",
   "metadata": {
    "hideCode": true,
    "hidePrompt": true,
    "slideshow": {
     "slide_type": "skip"
    }
   },
   "source": [
    "### Flyers' international-flights habits"
   ]
  },
  {
   "cell_type": "code",
   "execution_count": 64,
   "metadata": {
    "hideCode": true,
    "hidePrompt": true,
    "slideshow": {
     "slide_type": "fragment"
    }
   },
   "outputs": [
    {
     "data": {
      "image/png": "[encoded data removed]",
      "text/plain": [
       "<Figure size 864x432 with 4 Axes>"
      ]
     },
     "metadata": {},
     "output_type": "display_data"
    }
   ],
   "source": [
    "g = sns.FacetGrid(data=df_abroad, col='Flyer segment', row='Trav. abroad', height=3, aspect=2, margin_titles=True)  # df2[df2.TravelInsurance=='prospect']\n",
    "g.map(sns.barplot, 'Prop% to flyer segment', 'Employment Type', color='DarkBlue', order=None)  #x='Employment Type'\n",
    "g.fig.suptitle('Proportion of employees as perc. of the flyer segment (customer or prospect), segmented by international-flights habits', fontsize=18, y=1.05)\n",
    "plt.show()"
   ]
  },
  {
   "attachments": {},
   "cell_type": "markdown",
   "metadata": {
    "hideCode": true,
    "hidePrompt": true,
    "slideshow": {
     "slide_type": "fragment"
    }
   },
   "source": [
    "the difference in habits for international flights is even more flagrant :\n",
    "<li>58% of current customers, whereas almost all (93%) prospected customers, are <span style='color:DarkBlue '> domestic flyers </span>\n",
    "<li>just like in frequency habits, the proportion of <span style='color:DarkBlue '> private sector </span> employees is much higher in any cases"
   ]
  },
  {
   "attachments": {},
   "cell_type": "markdown",
   "metadata": {
    "hideCode": true,
    "hidePrompt": true,
    "slideshow": {
     "slide_type": "slide"
    }
   },
   "source": [
    "## 5. Q2:Typical profile of customers and non-customers"
   ]
  },
  {
   "attachments": {},
   "cell_type": "markdown",
   "metadata": {
    "hideCode": true,
    "hidePrompt": true,
    "slideshow": {
     "slide_type": "fragment"
    }
   },
   "source": [
    "Typical profile split :<br>\n",
    "<li><span style='color:DarkBlue '> Personal </span> features : Age, family-size, health-disease\n",
    "<li><span style='color:DarkBlue '> Professional </span> features : Employment Type, Graduation-level, Level of revenue\n",
    "<li>For further better data interpretation, data has been <span style='color:DarkBlue '> grouped into categories </span>"
   ]
  },
  {
   "attachments": {},
   "cell_type": "markdown",
   "metadata": {
    "hideCode": true,
    "hidePrompt": true,
    "slideshow": {
     "slide_type": "skip"
    }
   },
   "source": [
    "Reminder :<br>\n",
    "<p>Largest positive correlations:<br>\n",
    "AnnualIncome :  0.486 EverTravelledAbroad<br>\n",
    "FrequentFlyer :  0.353 AnnualIncome<br>\n",
    "EverTravelledAbroad :  0.486 AnnualIncome<br>\n",
    "TravelInsurance :  0.433 EverTravelledAbroad<br>\n",
    "Private_employer :  0.349 AnnualIncome</p>"
   ]
  },
  {
   "attachments": {},
   "cell_type": "markdown",
   "metadata": {
    "hideCode": true,
    "hidePrompt": true,
    "slideshow": {
     "slide_type": "skip"
    }
   },
   "source": [
    "### Ordering personal features"
   ]
  },
  {
   "cell_type": "code",
   "execution_count": 65,
   "metadata": {
    "hideCode": true,
    "hidePrompt": true,
    "slideshow": {
     "slide_type": "skip"
    }
   },
   "outputs": [
    {
     "data": {
      "text/html": [
       "<div>\n",
       "<style scoped>\n",
       "    .dataframe tbody tr th:only-of-type {\n",
       "        vertical-align: middle;\n",
       "    }\n",
       "\n",
       "    .dataframe tbody tr th {\n",
       "        vertical-align: top;\n",
       "    }\n",
       "\n",
       "    .dataframe thead th {\n",
       "        text-align: right;\n",
       "    }\n",
       "</style>\n",
       "<table border=\"1\" class=\"dataframe\">\n",
       "  <thead>\n",
       "    <tr style=\"text-align: right;\">\n",
       "      <th></th>\n",
       "      <th>Age</th>\n",
       "      <th>Employment Type</th>\n",
       "      <th>GraduateOrNot</th>\n",
       "      <th>AnnualIncome</th>\n",
       "      <th>FamilyMembers</th>\n",
       "      <th>ChronicDiseases</th>\n",
       "      <th>FrequentFlyer</th>\n",
       "      <th>EverTravelledAbroad</th>\n",
       "      <th>TravelInsurance</th>\n",
       "      <th>Private_employer</th>\n",
       "    </tr>\n",
       "  </thead>\n",
       "  <tbody>\n",
       "    <tr>\n",
       "      <th>1456</th>\n",
       "      <td>25</td>\n",
       "      <td>Private Sector/Self Employed</td>\n",
       "      <td>False</td>\n",
       "      <td>1700000</td>\n",
       "      <td>3</td>\n",
       "      <td>False</td>\n",
       "      <td>True</td>\n",
       "      <td>False</td>\n",
       "      <td>current customer</td>\n",
       "      <td>True</td>\n",
       "    </tr>\n",
       "    <tr>\n",
       "      <th>1244</th>\n",
       "      <td>25</td>\n",
       "      <td>Private Sector/Self Employed</td>\n",
       "      <td>False</td>\n",
       "      <td>1150000</td>\n",
       "      <td>3</td>\n",
       "      <td>True</td>\n",
       "      <td>False</td>\n",
       "      <td>True</td>\n",
       "      <td>prospect</td>\n",
       "      <td>True</td>\n",
       "    </tr>\n",
       "    <tr>\n",
       "      <th>595</th>\n",
       "      <td>25</td>\n",
       "      <td>Private Sector/Self Employed</td>\n",
       "      <td>False</td>\n",
       "      <td>1150000</td>\n",
       "      <td>5</td>\n",
       "      <td>True</td>\n",
       "      <td>True</td>\n",
       "      <td>False</td>\n",
       "      <td>prospect</td>\n",
       "      <td>True</td>\n",
       "    </tr>\n",
       "    <tr>\n",
       "      <th>592</th>\n",
       "      <td>25</td>\n",
       "      <td>Private Sector/Self Employed</td>\n",
       "      <td>True</td>\n",
       "      <td>1700000</td>\n",
       "      <td>4</td>\n",
       "      <td>False</td>\n",
       "      <td>True</td>\n",
       "      <td>False</td>\n",
       "      <td>current customer</td>\n",
       "      <td>True</td>\n",
       "    </tr>\n",
       "    <tr>\n",
       "      <th>1013</th>\n",
       "      <td>25</td>\n",
       "      <td>Private Sector/Self Employed</td>\n",
       "      <td>False</td>\n",
       "      <td>600000</td>\n",
       "      <td>4</td>\n",
       "      <td>False</td>\n",
       "      <td>True</td>\n",
       "      <td>False</td>\n",
       "      <td>prospect</td>\n",
       "      <td>True</td>\n",
       "    </tr>\n",
       "  </tbody>\n",
       "</table>\n",
       "</div>"
      ],
      "text/plain": [
       "      Age               Employment Type  GraduateOrNot  AnnualIncome  \\\n",
       "1456   25  Private Sector/Self Employed          False       1700000   \n",
       "1244   25  Private Sector/Self Employed          False       1150000   \n",
       "595    25  Private Sector/Self Employed          False       1150000   \n",
       "592    25  Private Sector/Self Employed           True       1700000   \n",
       "1013   25  Private Sector/Self Employed          False        600000   \n",
       "\n",
       "      FamilyMembers  ChronicDiseases  FrequentFlyer  EverTravelledAbroad  \\\n",
       "1456              3            False           True                False   \n",
       "1244              3             True          False                 True   \n",
       "595               5             True           True                False   \n",
       "592               4            False           True                False   \n",
       "1013              4            False           True                False   \n",
       "\n",
       "       TravelInsurance  Private_employer  \n",
       "1456  current customer              True  \n",
       "1244          prospect              True  \n",
       "595           prospect              True  \n",
       "592   current customer              True  \n",
       "1013          prospect              True  "
      ]
     },
     "execution_count": 65,
     "metadata": {},
     "output_type": "execute_result"
    }
   ],
   "source": [
    "# ordering dataframe by Age\n",
    "df2 = df2.sort_values('Age')\n",
    "df2.head()"
   ]
  },
  {
   "cell_type": "code",
   "execution_count": 66,
   "metadata": {
    "hideCode": true,
    "hidePrompt": true,
    "slideshow": {
     "slide_type": "skip"
    }
   },
   "outputs": [
    {
     "data": {
      "text/plain": [
       "1456    below 29yo\n",
       "1244    below 29yo\n",
       "595     below 29yo\n",
       "592     below 29yo\n",
       "1013    below 29yo\n",
       "Name: Age_category, dtype: category\n",
       "Categories (2, object): ['below 29yo' < 'above 29yo']"
      ]
     },
     "execution_count": 66,
     "metadata": {},
     "output_type": "execute_result"
    }
   ],
   "source": [
    "df_young = df2[df2.Age < 29]\n",
    "df_old = df2[df2.Age >= 29]\n",
    "\n",
    "df_young = df_young.assign(Age_category = 'below 29yo')\n",
    "df_old = df_old.assign(Age_category = 'above 29yo')\n",
    "\n",
    "df3 = pd.concat([df_young, df_old], axis=0)\n",
    "df3['Age_category'] = pd.Categorical(df3['Age_category'], categories=['below 29yo', 'above 29yo'], ordered=True)\n",
    "df3.Age_category.head()"
   ]
  },
  {
   "cell_type": "code",
   "execution_count": 67,
   "metadata": {
    "hideCode": true,
    "hidePrompt": true,
    "slideshow": {
     "slide_type": "skip"
    }
   },
   "outputs": [
    {
     "data": {
      "text/plain": [
       "1456    Small_Mid\n",
       "1244    Small_Mid\n",
       "595           Big\n",
       "592     Small_Mid\n",
       "1013    Small_Mid\n",
       "Name: family_type, dtype: category\n",
       "Categories (3, object): ['Couple' < 'Small_Mid' < 'Big']"
      ]
     },
     "execution_count": 67,
     "metadata": {},
     "output_type": "execute_result"
    }
   ],
   "source": [
    "#bucket family-size in 3 categories : couple or small single-parent-family (2), small-to-medium-family (3), bigger family (4 to ?)\n",
    "mapping_family ={2:'Couple', 3:'Small_Mid', 4:'Small_Mid', 5:'Big', 6:'Big', 7:'Big', 8:'Big', 9:'Big'}\n",
    "df3['family_type'] = df3['FamilyMembers'].replace(mapping_family).astype('category')\n",
    "df3['family_type'] = df3['family_type'].cat.set_categories(\n",
    "    new_categories=['Couple', 'Small_Mid', 'Big'],\n",
    "    ordered=True\n",
    ")\n",
    "df3.family_type.head()"
   ]
  },
  {
   "cell_type": "code",
   "execution_count": 68,
   "metadata": {
    "hideCode": true,
    "hidePrompt": true,
    "slideshow": {
     "slide_type": "skip"
    }
   },
   "outputs": [],
   "source": [
    "#Chronic-desease : alreadybinary"
   ]
  },
  {
   "attachments": {},
   "cell_type": "markdown",
   "metadata": {
    "hideCode": true,
    "hidePrompt": true,
    "slideshow": {
     "slide_type": "skip"
    }
   },
   "source": [
    "### Ordering professional features"
   ]
  },
  {
   "cell_type": "code",
   "execution_count": 69,
   "metadata": {
    "hideCode": true,
    "hidePrompt": true,
    "slideshow": {
     "slide_type": "skip"
    }
   },
   "outputs": [
    {
     "name": "stdout",
     "output_type": "stream",
     "text": [
      "1013    below 900k\n",
      "1399    below 900k\n",
      "397     below 900k\n",
      "629     below 900k\n",
      "1759    below 900k\n",
      "Name: Revenue_category, dtype: category\n",
      "Categories (2, object): ['below 900k' < 'above 900k']\n"
     ]
    },
    {
     "data": {
      "text/plain": [
       "above 900k    1044\n",
       "below 900k     943\n",
       "Name: Revenue_category, dtype: int64"
      ]
     },
     "execution_count": 69,
     "metadata": {},
     "output_type": "execute_result"
    }
   ],
   "source": [
    "#bucket revenue in 2: < 900k and >900k (900k is the median)\n",
    "df_poor = df3[df3.AnnualIncome < 900000]\n",
    "df_rich = df3[df3.AnnualIncome >= 900000]\n",
    "\n",
    "df_poor = df_poor.assign(Revenue_category = 'below 900k')\n",
    "df_rich = df_rich.assign(Revenue_category = 'above 900k')\n",
    "\n",
    "df4 = pd.concat([df_poor, df_rich], axis=0)\n",
    "df4['Revenue_category'] = pd.Categorical(df4['Revenue_category'], categories=['below 900k', 'above 900k'], ordered=True)\n",
    "print(df4.Revenue_category.head())\n",
    "df4.Revenue_category.value_counts()"
   ]
  },
  {
   "cell_type": "code",
   "execution_count": 70,
   "metadata": {
    "hideCode": true,
    "hidePrompt": true,
    "slideshow": {
     "slide_type": "skip"
    }
   },
   "outputs": [
    {
     "data": {
      "text/html": [
       "<div>\n",
       "<style scoped>\n",
       "    .dataframe tbody tr th:only-of-type {\n",
       "        vertical-align: middle;\n",
       "    }\n",
       "\n",
       "    .dataframe tbody tr th {\n",
       "        vertical-align: top;\n",
       "    }\n",
       "\n",
       "    .dataframe thead th {\n",
       "        text-align: right;\n",
       "    }\n",
       "</style>\n",
       "<table border=\"1\" class=\"dataframe\">\n",
       "  <thead>\n",
       "    <tr style=\"text-align: right;\">\n",
       "      <th></th>\n",
       "      <th>Age</th>\n",
       "      <th>Employment Type</th>\n",
       "      <th>GraduateOrNot</th>\n",
       "      <th>AnnualIncome</th>\n",
       "      <th>FamilyMembers</th>\n",
       "      <th>ChronicDiseases</th>\n",
       "      <th>FrequentFlyer</th>\n",
       "      <th>EverTravelledAbroad</th>\n",
       "      <th>TravelInsurance</th>\n",
       "      <th>Private_employer</th>\n",
       "      <th>Age_category</th>\n",
       "      <th>family_type</th>\n",
       "      <th>Revenue_category</th>\n",
       "    </tr>\n",
       "  </thead>\n",
       "  <tbody>\n",
       "    <tr>\n",
       "      <th>1457</th>\n",
       "      <td>25</td>\n",
       "      <td>Private Sector/Self Employed</td>\n",
       "      <td>False</td>\n",
       "      <td>600000</td>\n",
       "      <td>3</td>\n",
       "      <td>False</td>\n",
       "      <td>False</td>\n",
       "      <td>False</td>\n",
       "      <td>current customer</td>\n",
       "      <td>True</td>\n",
       "      <td>below 29yo</td>\n",
       "      <td>Small_Mid</td>\n",
       "      <td>below 900k</td>\n",
       "    </tr>\n",
       "  </tbody>\n",
       "</table>\n",
       "</div>"
      ],
      "text/plain": [
       "      Age               Employment Type  GraduateOrNot  AnnualIncome  \\\n",
       "1457   25  Private Sector/Self Employed          False        600000   \n",
       "\n",
       "      FamilyMembers  ChronicDiseases  FrequentFlyer  EverTravelledAbroad  \\\n",
       "1457              3            False          False                False   \n",
       "\n",
       "       TravelInsurance  Private_employer Age_category family_type  \\\n",
       "1457  current customer              True   below 29yo   Small_Mid   \n",
       "\n",
       "     Revenue_category  \n",
       "1457       below 900k  "
      ]
     },
     "metadata": {},
     "output_type": "display_data"
    },
    {
     "data": {
      "text/html": [
       "<div>\n",
       "<style scoped>\n",
       "    .dataframe tbody tr th:only-of-type {\n",
       "        vertical-align: middle;\n",
       "    }\n",
       "\n",
       "    .dataframe tbody tr th {\n",
       "        vertical-align: top;\n",
       "    }\n",
       "\n",
       "    .dataframe thead th {\n",
       "        text-align: right;\n",
       "    }\n",
       "</style>\n",
       "<table border=\"1\" class=\"dataframe\">\n",
       "  <thead>\n",
       "    <tr style=\"text-align: right;\">\n",
       "      <th></th>\n",
       "      <th>Age</th>\n",
       "      <th>Employment Type</th>\n",
       "      <th>GraduateOrNot</th>\n",
       "      <th>AnnualIncome</th>\n",
       "      <th>FamilyMembers</th>\n",
       "      <th>ChronicDiseases</th>\n",
       "      <th>FrequentFlyer</th>\n",
       "      <th>EverTravelledAbroad</th>\n",
       "      <th>TravelInsurance</th>\n",
       "      <th>Private_employer</th>\n",
       "      <th>Age_category</th>\n",
       "      <th>family_type</th>\n",
       "      <th>Revenue_category</th>\n",
       "    </tr>\n",
       "  </thead>\n",
       "  <tbody>\n",
       "    <tr>\n",
       "      <th>1013</th>\n",
       "      <td>25</td>\n",
       "      <td>Private Sector/Self Employed</td>\n",
       "      <td>False</td>\n",
       "      <td>600000</td>\n",
       "      <td>4</td>\n",
       "      <td>False</td>\n",
       "      <td>True</td>\n",
       "      <td>False</td>\n",
       "      <td>prospect</td>\n",
       "      <td>True</td>\n",
       "      <td>below 29yo</td>\n",
       "      <td>Small_Mid</td>\n",
       "      <td>below 900k</td>\n",
       "    </tr>\n",
       "  </tbody>\n",
       "</table>\n",
       "</div>"
      ],
      "text/plain": [
       "      Age               Employment Type  GraduateOrNot  AnnualIncome  \\\n",
       "1013   25  Private Sector/Self Employed          False        600000   \n",
       "\n",
       "      FamilyMembers  ChronicDiseases  FrequentFlyer  EverTravelledAbroad  \\\n",
       "1013              4            False           True                False   \n",
       "\n",
       "     TravelInsurance  Private_employer Age_category family_type  \\\n",
       "1013        prospect              True   below 29yo   Small_Mid   \n",
       "\n",
       "     Revenue_category  \n",
       "1013       below 900k  "
      ]
     },
     "metadata": {},
     "output_type": "display_data"
    }
   ],
   "source": [
    "# split dataset in \n",
    "# 1/ customers\n",
    "# 2/ non-customers = prospects\n",
    "\n",
    "customers = df4[df4.TravelInsurance == 'current customer']\n",
    "prospects = df4[df4.TravelInsurance == 'prospect']\n",
    "\n",
    "display(customers.head(1))\n",
    "display(prospects.head(1))"
   ]
  },
  {
   "cell_type": "code",
   "execution_count": 71,
   "metadata": {
    "hideCode": true,
    "hidePrompt": true,
    "slideshow": {
     "slide_type": "skip"
    }
   },
   "outputs": [
    {
     "name": "stdout",
     "output_type": "stream",
     "text": [
      "\n",
      " 34    0.187324\n",
      "28    0.147887\n",
      "25    0.129577\n",
      "33    0.109859\n",
      "31    0.105634\n",
      "26    0.104225\n",
      "29    0.071831\n",
      "30    0.039437\n",
      "35    0.039437\n",
      "27    0.038028\n",
      "32    0.026761\n",
      "Name: Age, dtype: float64\n",
      "\n",
      " Private Sector/Self Employed    0.802817\n",
      "Government Sector               0.197183\n",
      "Name: Employment Type, dtype: float64\n",
      "\n",
      " True     0.860563\n",
      "False    0.139437\n",
      "Name: GraduateOrNot, dtype: float64\n",
      "\n",
      " 1400000    0.167606\n",
      "1500000    0.111268\n",
      "800000     0.057746\n",
      "1350000    0.057746\n",
      "500000     0.049296\n",
      "1300000    0.049296\n",
      "1700000    0.046479\n",
      "1450000    0.043662\n",
      "700000     0.042254\n",
      "1100000    0.039437\n",
      "1200000    0.036620\n",
      "1050000    0.036620\n",
      "550000     0.032394\n",
      "600000     0.026761\n",
      "1000000    0.026761\n",
      "900000     0.022535\n",
      "1250000    0.018310\n",
      "850000     0.018310\n",
      "750000     0.018310\n",
      "1150000    0.018310\n",
      "650000     0.015493\n",
      "400000     0.014085\n",
      "300000     0.008451\n",
      "950000     0.008451\n",
      "1550000    0.007042\n",
      "450000     0.007042\n",
      "1750000    0.005634\n",
      "1800000    0.005634\n",
      "350000     0.005634\n",
      "1650000    0.002817\n",
      "Name: AnnualIncome, dtype: float64\n",
      "\n",
      " 4    0.225352\n",
      "3    0.190141\n",
      "5    0.184507\n",
      "6    0.181690\n",
      "7    0.114085\n",
      "2    0.038028\n",
      "9    0.036620\n",
      "8    0.029577\n",
      "Name: FamilyMembers, dtype: float64\n",
      "\n",
      " False    0.711268\n",
      "True     0.288732\n",
      "Name: ChronicDiseases, dtype: float64\n",
      "\n",
      " False    0.66338\n",
      "True     0.33662\n",
      "Name: FrequentFlyer, dtype: float64\n",
      "\n",
      " False    0.580282\n",
      "True     0.419718\n",
      "Name: EverTravelledAbroad, dtype: float64\n",
      "\n",
      " current customer    1.0\n",
      "prospect            0.0\n",
      "Name: TravelInsurance, dtype: float64\n",
      "\n",
      " True     0.802817\n",
      "False    0.197183\n",
      "Name: Private_employer, dtype: float64\n",
      "\n",
      " above 29yo    0.580282\n",
      "below 29yo    0.419718\n",
      "Name: Age_category, dtype: float64\n",
      "\n",
      " Big          0.546479\n",
      "Small_Mid    0.415493\n",
      "Couple       0.038028\n",
      "Name: family_type, dtype: float64\n",
      "\n",
      " above 900k    0.704225\n",
      "below 900k    0.295775\n",
      "Name: Revenue_category, dtype: float64\n"
     ]
    }
   ],
   "source": [
    "# observe results\n",
    "for c in customers.columns:\n",
    "    print('\\n', customers[c].value_counts(normalize=True))"
   ]
  },
  {
   "cell_type": "code",
   "execution_count": 72,
   "metadata": {
    "hideCode": true,
    "hidePrompt": true,
    "slideshow": {
     "slide_type": "skip"
    }
   },
   "outputs": [],
   "source": [
    "customers_personal = customers[['Age_category', 'family_type', 'ChronicDiseases']]\n",
    "prospects_personal = prospects[['Age_category', 'family_type', 'ChronicDiseases']]\n",
    "customers_professional = customers[['Employment Type', 'GraduateOrNot', 'Revenue_category']]\n",
    "prospects_professional = prospects[['Employment Type', 'GraduateOrNot', 'Revenue_category']]"
   ]
  },
  {
   "attachments": {},
   "cell_type": "markdown",
   "metadata": {
    "hideCode": true,
    "hidePrompt": true,
    "slideshow": {
     "slide_type": "fragment"
    }
   },
   "source": [
    "### Personal profiles"
   ]
  },
  {
   "cell_type": "code",
   "execution_count": 73,
   "metadata": {
    "hideCode": true,
    "hidePrompt": true,
    "slideshow": {
     "slide_type": "fragment"
    }
   },
   "outputs": [
    {
     "data": {
      "image/png": "[encoded data removed]",
      "text/plain": [
       "<Figure size 1296x216 with 3 Axes>"
      ]
     },
     "metadata": {},
     "output_type": "display_data"
    }
   ],
   "source": [
    "# plot customers personal features\n",
    "fig, axs = plt.subplots(1, 3, figsize=(18,3))  # was 18,6\n",
    "\n",
    "for i, c in enumerate(customers_personal.columns):\n",
    "    #print(i+1, c)\n",
    "    dfc = customers[c].to_frame()\n",
    "    sns.countplot(data=dfc, x=dfc.columns[0], ax=axs[i])\n",
    "    axs[i].set_title('Count of indiv. vs ' + c)\n",
    "fig.suptitle('Customers typical personal profile', fontsize=20, y=1.05)\n",
    "plt.show()"
   ]
  },
  {
   "cell_type": "code",
   "execution_count": 74,
   "metadata": {
    "hideCode": true,
    "hidePrompt": true,
    "slideshow": {
     "slide_type": "fragment"
    }
   },
   "outputs": [
    {
     "data": {
      "image/png": "[encoded data removed]",
      "text/plain": [
       "<Figure size 1296x216 with 3 Axes>"
      ]
     },
     "metadata": {},
     "output_type": "display_data"
    }
   ],
   "source": [
    "# plot prospects personal features\n",
    "fig, axs = plt.subplots(1, 3, figsize=(18,3))\n",
    "\n",
    "for i, c in enumerate(prospects_personal.columns):\n",
    "    #print(i+1, c)\n",
    "    dfc = prospects[c].to_frame()\n",
    "    sns.countplot(data=dfc, x=dfc.columns[0], ax=axs[i])\n",
    "    axs[i].set_title('Count of indiv. vs ' + c)\n",
    "fig.suptitle('Prospects typical personal profile', fontsize=20, y=1.05)\n",
    "plt.show()"
   ]
  },
  {
   "attachments": {},
   "cell_type": "markdown",
   "metadata": {
    "hideCode": true,
    "hidePrompt": true,
    "slideshow": {
     "slide_type": "fragment"
    }
   },
   "source": [
    "<li>Prospects : larger proportion of <span style='color:DarkBlue '> younger people</span> with <span style='color:DarkBlue '> less diseases</span>"
   ]
  },
  {
   "attachments": {},
   "cell_type": "markdown",
   "metadata": {
    "hideCode": true,
    "hidePrompt": true,
    "slideshow": {
     "slide_type": "subslide"
    }
   },
   "source": [
    "### Professional profiles"
   ]
  },
  {
   "cell_type": "code",
   "execution_count": 75,
   "metadata": {
    "hideCode": true,
    "hidePrompt": true,
    "slideshow": {
     "slide_type": "fragment"
    }
   },
   "outputs": [
    {
     "data": {
      "image/png": "[encoded data removed]",
      "text/plain": [
       "<Figure size 1296x216 with 3 Axes>"
      ]
     },
     "metadata": {},
     "output_type": "display_data"
    }
   ],
   "source": [
    "# plot customers professional features\n",
    "fig, axs = plt.subplots(1, 3, figsize=(18,3))\n",
    "\n",
    "for i, c in enumerate(customers_professional.columns):\n",
    "    #print(i+1, c)\n",
    "    dfc = customers[c].to_frame()\n",
    "    sns.countplot(data=dfc, x=dfc.columns[0], ax=axs[i])\n",
    "    axs[i].set_title('Count of indiv. vs ' + c)\n",
    "fig.suptitle('Customers typical professional profile', fontsize=20, y=1.05)\n",
    "plt.show()"
   ]
  },
  {
   "cell_type": "code",
   "execution_count": 76,
   "metadata": {
    "hideCode": true,
    "hidePrompt": true,
    "slideshow": {
     "slide_type": "fragment"
    }
   },
   "outputs": [
    {
     "data": {
      "image/png": "[encoded data removed]",
      "text/plain": [
       "<Figure size 1296x216 with 3 Axes>"
      ]
     },
     "metadata": {},
     "output_type": "display_data"
    }
   ],
   "source": [
    "# plot prospects professional features\n",
    "fig, axs = plt.subplots(1, 3, figsize=(18,3))\n",
    "\n",
    "for i, c in enumerate(prospects_professional.columns):\n",
    "    #print(i+1, c)\n",
    "    dfc = prospects[c].to_frame()\n",
    "    sns.countplot(data=dfc, x=dfc.columns[0], ax=axs[i])\n",
    "    axs[i].set_title('Count of indiv. vs ' + c)\n",
    "fig.suptitle('Prospects typical professional profile', fontsize=20, y=1.05)\n",
    "plt.show()"
   ]
  },
  {
   "attachments": {},
   "cell_type": "markdown",
   "metadata": {
    "hideCode": true,
    "hidePrompt": true,
    "slideshow": {
     "slide_type": "fragment"
    }
   },
   "source": [
    "<li>Prospects : larger proportion in <span style='color:DarkBlue '> Government Sector or Revenues below 900k</span> than in Private Sector"
   ]
  },
  {
   "cell_type": "code",
   "execution_count": 77,
   "metadata": {
    "hideCode": true,
    "hidePrompt": true,
    "slideshow": {
     "slide_type": "skip"
    }
   },
   "outputs": [
    {
     "data": {
      "text/html": [
       "<div>\n",
       "<style scoped>\n",
       "    .dataframe tbody tr th:only-of-type {\n",
       "        vertical-align: middle;\n",
       "    }\n",
       "\n",
       "    .dataframe tbody tr th {\n",
       "        vertical-align: top;\n",
       "    }\n",
       "\n",
       "    .dataframe thead th {\n",
       "        text-align: right;\n",
       "    }\n",
       "</style>\n",
       "<table border=\"1\" class=\"dataframe\">\n",
       "  <thead>\n",
       "    <tr style=\"text-align: right;\">\n",
       "      <th></th>\n",
       "      <th>TravelInsurance</th>\n",
       "      <th>current customer</th>\n",
       "      <th>prospect</th>\n",
       "      <th>grandtotal</th>\n",
       "      <th>prosp_perc</th>\n",
       "    </tr>\n",
       "    <tr>\n",
       "      <th>Employment Type</th>\n",
       "      <th>Revenue_category</th>\n",
       "      <th></th>\n",
       "      <th></th>\n",
       "      <th></th>\n",
       "      <th></th>\n",
       "    </tr>\n",
       "  </thead>\n",
       "  <tbody>\n",
       "    <tr>\n",
       "      <th rowspan=\"2\" valign=\"top\">Government Sector</th>\n",
       "      <th>below 900k</th>\n",
       "      <td>71</td>\n",
       "      <td>321</td>\n",
       "      <td>392</td>\n",
       "      <td>81.9</td>\n",
       "    </tr>\n",
       "    <tr>\n",
       "      <th>above 900k</th>\n",
       "      <td>69</td>\n",
       "      <td>109</td>\n",
       "      <td>178</td>\n",
       "      <td>61.2</td>\n",
       "    </tr>\n",
       "    <tr>\n",
       "      <th rowspan=\"2\" valign=\"top\">Private Sector/Self Employed</th>\n",
       "      <th>below 900k</th>\n",
       "      <td>139</td>\n",
       "      <td>412</td>\n",
       "      <td>551</td>\n",
       "      <td>74.8</td>\n",
       "    </tr>\n",
       "    <tr>\n",
       "      <th>above 900k</th>\n",
       "      <td>431</td>\n",
       "      <td>435</td>\n",
       "      <td>866</td>\n",
       "      <td>50.2</td>\n",
       "    </tr>\n",
       "    <tr>\n",
       "      <th>grandtotal</th>\n",
       "      <th></th>\n",
       "      <td>710</td>\n",
       "      <td>1277</td>\n",
       "      <td>1987</td>\n",
       "      <td>64.3</td>\n",
       "    </tr>\n",
       "  </tbody>\n",
       "</table>\n",
       "</div>"
      ],
      "text/plain": [
       "TravelInsurance                                current customer  prospect  \\\n",
       "Employment Type              Revenue_category                               \n",
       "Government Sector            below 900k                      71       321   \n",
       "                             above 900k                      69       109   \n",
       "Private Sector/Self Employed below 900k                     139       412   \n",
       "                             above 900k                     431       435   \n",
       "grandtotal                                                  710      1277   \n",
       "\n",
       "TravelInsurance                                grandtotal  prosp_perc  \n",
       "Employment Type              Revenue_category                          \n",
       "Government Sector            below 900k               392        81.9  \n",
       "                             above 900k               178        61.2  \n",
       "Private Sector/Self Employed below 900k               551        74.8  \n",
       "                             above 900k               866        50.2  \n",
       "grandtotal                                           1987        64.3  "
      ]
     },
     "execution_count": 77,
     "metadata": {},
     "output_type": "execute_result"
    }
   ],
   "source": [
    "pivoted = df4.pivot_table(values='Age', index=['Employment Type', 'Revenue_category'], columns='TravelInsurance', aggfunc='count', margins=True, margins_name='grandtotal')\n",
    "pivoted2 = pivoted.assign(prosp_perc = lambda pivoted2: round(pivoted.prospect/pivoted.grandtotal*100, 1))\n",
    "pivoted2"
   ]
  },
  {
   "cell_type": "code",
   "execution_count": 78,
   "metadata": {
    "hideCode": true,
    "hidePrompt": true,
    "slideshow": {
     "slide_type": "skip"
    }
   },
   "outputs": [
    {
     "data": {
      "text/html": [
       "<div>\n",
       "<style scoped>\n",
       "    .dataframe tbody tr th:only-of-type {\n",
       "        vertical-align: middle;\n",
       "    }\n",
       "\n",
       "    .dataframe tbody tr th {\n",
       "        vertical-align: top;\n",
       "    }\n",
       "\n",
       "    .dataframe thead th {\n",
       "        text-align: right;\n",
       "    }\n",
       "</style>\n",
       "<table border=\"1\" class=\"dataframe\">\n",
       "  <thead>\n",
       "    <tr style=\"text-align: right;\">\n",
       "      <th></th>\n",
       "      <th>TravelInsurance</th>\n",
       "      <th>current customer</th>\n",
       "      <th>prospect</th>\n",
       "      <th>grandtotal</th>\n",
       "      <th>prosp_perc</th>\n",
       "    </tr>\n",
       "    <tr>\n",
       "      <th>FrequentFlyer</th>\n",
       "      <th>EverTravelledAbroad</th>\n",
       "      <th></th>\n",
       "      <th></th>\n",
       "      <th></th>\n",
       "      <th></th>\n",
       "    </tr>\n",
       "  </thead>\n",
       "  <tbody>\n",
       "    <tr>\n",
       "      <th rowspan=\"2\" valign=\"top\">False</th>\n",
       "      <th>False</th>\n",
       "      <td>321</td>\n",
       "      <td>1037</td>\n",
       "      <td>1358</td>\n",
       "      <td>76.4</td>\n",
       "    </tr>\n",
       "    <tr>\n",
       "      <th>True</th>\n",
       "      <td>150</td>\n",
       "      <td>62</td>\n",
       "      <td>212</td>\n",
       "      <td>29.2</td>\n",
       "    </tr>\n",
       "    <tr>\n",
       "      <th rowspan=\"2\" valign=\"top\">True</th>\n",
       "      <th>False</th>\n",
       "      <td>91</td>\n",
       "      <td>158</td>\n",
       "      <td>249</td>\n",
       "      <td>63.5</td>\n",
       "    </tr>\n",
       "    <tr>\n",
       "      <th>True</th>\n",
       "      <td>148</td>\n",
       "      <td>20</td>\n",
       "      <td>168</td>\n",
       "      <td>11.9</td>\n",
       "    </tr>\n",
       "    <tr>\n",
       "      <th>grandtotal</th>\n",
       "      <th></th>\n",
       "      <td>710</td>\n",
       "      <td>1277</td>\n",
       "      <td>1987</td>\n",
       "      <td>64.3</td>\n",
       "    </tr>\n",
       "  </tbody>\n",
       "</table>\n",
       "</div>"
      ],
      "text/plain": [
       "TravelInsurance                    current customer  prospect  grandtotal  \\\n",
       "FrequentFlyer EverTravelledAbroad                                           \n",
       "False         False                             321      1037        1358   \n",
       "              True                              150        62         212   \n",
       "True          False                              91       158         249   \n",
       "              True                              148        20         168   \n",
       "grandtotal                                      710      1277        1987   \n",
       "\n",
       "TravelInsurance                    prosp_perc  \n",
       "FrequentFlyer EverTravelledAbroad              \n",
       "False         False                      76.4  \n",
       "              True                       29.2  \n",
       "True          False                      63.5  \n",
       "              True                       11.9  \n",
       "grandtotal                               64.3  "
      ]
     },
     "execution_count": 78,
     "metadata": {},
     "output_type": "execute_result"
    }
   ],
   "source": [
    "pivoted = df4.pivot_table(values='Age', index=['FrequentFlyer', 'EverTravelledAbroad'], columns='TravelInsurance', aggfunc='count', margins=True, margins_name='grandtotal')\n",
    "pivoted2 = pivoted.assign(prosp_perc = lambda pivoted2: round(pivoted.prospect/pivoted.grandtotal*100, 1))\n",
    "pivoted2"
   ]
  },
  {
   "attachments": {},
   "cell_type": "markdown",
   "metadata": {
    "hideCode": true,
    "hidePrompt": true,
    "slideshow": {
     "slide_type": "fragment"
    }
   },
   "source": [
    "According to figures :\n",
    "<li><span style='color:DarkBlue '> Government sector </span> and <span style='color:DarkBlue '> low-revenue </span> categories clear show better development opportunities\n",
    "<li><span style='color:DarkBlue '> Occasional </span> and <span style='color:DarkBlue '> domestic flyers </span> are of particular concern"
   ]
  },
  {
   "attachments": {},
   "cell_type": "markdown",
   "metadata": {
    "hideCode": true,
    "hidePrompt": true,
    "slideshow": {
     "slide_type": "slide"
    }
   },
   "source": [
    "## 6. Conclusion and recommendations"
   ]
  },
  {
   "attachments": {},
   "cell_type": "markdown",
   "metadata": {
    "hideCode": true,
    "hidePrompt": true
   },
   "source": [
    "The initial questions of marketing team were :\n",
    "<li>Are there differences in travel habits between customers and non-customers?\n",
    "<li>What is the typical profile of customers and non-customers?</li>\n",
    "\n",
    "There is a very large proportion of prospects who <span style='color:DarkBlue '> never travelled abroad </span>.<br>\n",
    "They are mainly <span style='color:DarkBlue '> intermittent flyers </span>.\n",
    "Our recommandation is to focus our advertising plan on :\n",
    "1. <span style='color:DarkBlue '> domestic travellers </span> travellers\n",
    "2. <span style='color:DarkBlue '> unfrequent </span> travellers"
   ]
  },
  {
   "attachments": {},
   "cell_type": "markdown",
   "metadata": {
    "hideCode": true,
    "hidePrompt": true
   },
   "source": [
    "Basic international policies, like emergency medical expenses while overseas, should not of immediate concern to focus on. <br>Anyway <span style='color:DarkBlue '> comprehensive-policies </span> such as trip cancellation, lost luggage or maybe flight delays coverage are more <span style='color:DarkBlue '> suspected to be of interest </span> for our prospect-flyers.\n",
    "\n",
    "Typical profiles of prospects are <span style='color:DarkBlue '> graduated invividuals with revenues < 900k </span>, working in Private sector or self-employed.\n",
    "Big-revenues-flyers seem to get already engaged into our programs."
   ]
  },
  {
   "attachments": {},
   "cell_type": "markdown",
   "metadata": {
    "hideCode": true,
    "hidePrompt": true
   },
   "source": [
    "### Further proposal\n",
    "It could be interesting to mix those flying habits and profiles to priorize business-development actions.\n",
    "Another interesting input could be if flights are for private or professional use, in order to adapt policies."
   ]
  },
  {
   "attachments": {},
   "cell_type": "markdown",
   "metadata": {
    "hideCode": true,
    "hidePrompt": true
   },
   "source": [
    "# THANK YOU !"
   ]
  }
 ],
 "metadata": {
  "celltoolbar": "Slideshow",
  "hide_code_all_hidden": true,
  "kernelspec": {
   "display_name": "Python 3 (ipykernel)",
   "language": "python",
   "name": "python3"
  },
  "language_info": {
   "codemirror_mode": {
    "name": "ipython",
    "version": 3
   },
   "file_extension": ".py",
   "mimetype": "text/x-python",
   "name": "python",
   "nbconvert_exporter": "python",
   "pygments_lexer": "ipython3",
   "version": "3.10.4"
  },
  "vscode": {
   "interpreter": {
    "hash": "e71451b1ae62d104855a7a7f0e9d50c6ae27d2589de76573f6a4bf04b655629c"
   }
  }
 },
 "nbformat": 4,
 "nbformat_minor": 2
}
