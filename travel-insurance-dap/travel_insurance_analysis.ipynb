{
 "cells": [
  {
   "attachments": {},
   "cell_type": "markdown",
   "metadata": {
    "hideCode": true,
    "hidePrompt": true,
    "slideshow": {
     "slide_type": "slide"
    }
   },
   "source": [
    "# Case Study - Travel Insurance"
   ]
  },
  {
   "attachments": {},
   "cell_type": "markdown",
   "metadata": {
    "hideCode": true,
    "hidePrompt": true,
    "slideshow": {
     "slide_type": "skip"
    }
   },
   "source": [
    "## 1. Imports and setup"
   ]
  },
  {
   "attachments": {},
   "cell_type": "markdown",
   "metadata": {
    "hideCode": true,
    "hidePrompt": true,
    "slideshow": {
     "slide_type": "skip"
    }
   },
   "source": [
    "### 1.1. Libraries"
   ]
  },
  {
   "cell_type": "code",
   "execution_count": 1,
   "metadata": {
    "hideCode": true,
    "hidePrompt": true,
    "slideshow": {
     "slide_type": "skip"
    }
   },
   "outputs": [],
   "source": [
    "import numpy as np\n",
    "import pandas as pd\n",
    "import matplotlib\n",
    "import matplotlib.pyplot as plt\n",
    "import seaborn as sns"
   ]
  },
  {
   "attachments": {},
   "cell_type": "markdown",
   "metadata": {
    "hideCode": true,
    "hidePrompt": true,
    "slideshow": {
     "slide_type": "skip"
    }
   },
   "source": [
    "### 1.2. Viz parameters"
   ]
  },
  {
   "cell_type": "code",
   "execution_count": 2,
   "metadata": {
    "hideCode": true,
    "hidePrompt": true,
    "slideshow": {
     "slide_type": "skip"
    }
   },
   "outputs": [],
   "source": [
    "sns.set_style('whitegrid')\n",
    "sns.set_palette(\"husl\",3)\n",
    "matplotlib.rcParams.update({'font.size': 14})"
   ]
  },
  {
   "cell_type": "code",
   "execution_count": 3,
   "metadata": {
    "hideCode": true,
    "hidePrompt": true
   },
   "outputs": [],
   "source": [
    "from base64 import b64encode\n",
    "from io import BytesIO\n",
    "from IPython.display import display, HTML"
   ]
  },
  {
   "cell_type": "code",
   "execution_count": 4,
   "metadata": {
    "hideCode": true,
    "hidePrompt": true
   },
   "outputs": [],
   "source": [
    "def add_split_screen(fig, text, iwidth=None):\n",
    "    figdata = BytesIO()\n",
    "    fig.savefig(figdata, format='png')\n",
    "    iwidth = ' width={0} '.format(iwidth) if iwidth is not None else ''\n",
    "    datatable = '<table><tr><td><img src=\"data:image/png;base64,{0}\"/></td><td>{1}</td></tr></table>'.format(b64encode(figdata.getvalue()).decode(), text)\n",
    "    display(HTML(datatable))"
   ]
  },
  {
   "attachments": {},
   "cell_type": "markdown",
   "metadata": {
    "hideCode": true,
    "hidePrompt": true,
    "slideshow": {
     "slide_type": "slide"
    }
   },
   "source": [
    "## 2. Dataset load and cleaning"
   ]
  },
  {
   "attachments": {},
   "cell_type": "markdown",
   "metadata": {
    "hideCode": true,
    "hidePrompt": true,
    "slideshow": {
     "slide_type": "skip"
    }
   },
   "source": [
    "First five rows of dataset :"
   ]
  },
  {
   "cell_type": "code",
   "execution_count": 5,
   "metadata": {
    "hideCode": true,
    "hidePrompt": true,
    "slideshow": {
     "slide_type": "skip"
    }
   },
   "outputs": [
    {
     "data": {
      "text/html": [
       "<div>\n",
       "<style scoped>\n",
       "    .dataframe tbody tr th:only-of-type {\n",
       "        vertical-align: middle;\n",
       "    }\n",
       "\n",
       "    .dataframe tbody tr th {\n",
       "        vertical-align: top;\n",
       "    }\n",
       "\n",
       "    .dataframe thead th {\n",
       "        text-align: right;\n",
       "    }\n",
       "</style>\n",
       "<table border=\"1\" class=\"dataframe\">\n",
       "  <thead>\n",
       "    <tr style=\"text-align: right;\">\n",
       "      <th></th>\n",
       "      <th>Age</th>\n",
       "      <th>Employment Type</th>\n",
       "      <th>GraduateOrNot</th>\n",
       "      <th>AnnualIncome</th>\n",
       "      <th>FamilyMembers</th>\n",
       "      <th>ChronicDiseases</th>\n",
       "      <th>FrequentFlyer</th>\n",
       "      <th>EverTravelledAbroad</th>\n",
       "      <th>TravelInsurance</th>\n",
       "    </tr>\n",
       "  </thead>\n",
       "  <tbody>\n",
       "    <tr>\n",
       "      <th>0</th>\n",
       "      <td>31</td>\n",
       "      <td>Government Sector</td>\n",
       "      <td>Yes</td>\n",
       "      <td>400000</td>\n",
       "      <td>6</td>\n",
       "      <td>1</td>\n",
       "      <td>No</td>\n",
       "      <td>No</td>\n",
       "      <td>0</td>\n",
       "    </tr>\n",
       "    <tr>\n",
       "      <th>1</th>\n",
       "      <td>31</td>\n",
       "      <td>Private Sector/Self Employed</td>\n",
       "      <td>Yes</td>\n",
       "      <td>1250000</td>\n",
       "      <td>7</td>\n",
       "      <td>0</td>\n",
       "      <td>No</td>\n",
       "      <td>No</td>\n",
       "      <td>0</td>\n",
       "    </tr>\n",
       "    <tr>\n",
       "      <th>2</th>\n",
       "      <td>34</td>\n",
       "      <td>Private Sector/Self Employed</td>\n",
       "      <td>Yes</td>\n",
       "      <td>500000</td>\n",
       "      <td>4</td>\n",
       "      <td>1</td>\n",
       "      <td>No</td>\n",
       "      <td>No</td>\n",
       "      <td>1</td>\n",
       "    </tr>\n",
       "    <tr>\n",
       "      <th>3</th>\n",
       "      <td>28</td>\n",
       "      <td>Private Sector/Self Employed</td>\n",
       "      <td>Yes</td>\n",
       "      <td>700000</td>\n",
       "      <td>3</td>\n",
       "      <td>1</td>\n",
       "      <td>No</td>\n",
       "      <td>No</td>\n",
       "      <td>0</td>\n",
       "    </tr>\n",
       "    <tr>\n",
       "      <th>4</th>\n",
       "      <td>28</td>\n",
       "      <td>Private Sector/Self Employed</td>\n",
       "      <td>Yes</td>\n",
       "      <td>700000</td>\n",
       "      <td>8</td>\n",
       "      <td>1</td>\n",
       "      <td>Yes</td>\n",
       "      <td>No</td>\n",
       "      <td>0</td>\n",
       "    </tr>\n",
       "  </tbody>\n",
       "</table>\n",
       "</div>"
      ],
      "text/plain": [
       "   Age               Employment Type GraduateOrNot  AnnualIncome  \\\n",
       "0   31             Government Sector           Yes        400000   \n",
       "1   31  Private Sector/Self Employed           Yes       1250000   \n",
       "2   34  Private Sector/Self Employed           Yes        500000   \n",
       "3   28  Private Sector/Self Employed           Yes        700000   \n",
       "4   28  Private Sector/Self Employed           Yes        700000   \n",
       "\n",
       "   FamilyMembers  ChronicDiseases FrequentFlyer EverTravelledAbroad  \\\n",
       "0              6                1            No                  No   \n",
       "1              7                0            No                  No   \n",
       "2              4                1            No                  No   \n",
       "3              3                1            No                  No   \n",
       "4              8                1           Yes                  No   \n",
       "\n",
       "   TravelInsurance  \n",
       "0                0  \n",
       "1                0  \n",
       "2                1  \n",
       "3                0  \n",
       "4                0  "
      ]
     },
     "execution_count": 5,
     "metadata": {},
     "output_type": "execute_result"
    }
   ],
   "source": [
    "dfi = pd.read_csv('datasets/travel_insurance.csv')\n",
    "dfi.head(5)"
   ]
  },
  {
   "cell_type": "code",
   "execution_count": 6,
   "metadata": {
    "hideCode": true,
    "hidePrompt": true
   },
   "outputs": [],
   "source": [
    "# inspect_dataframes() function definition \n",
    "def inspect_dataframes(filenames, dataframes):  #filenames as a list of strings ; dataframes as a list of corresponding dataframes\n",
    "    # data validation code\n",
    "    keys = filenames\n",
    "    values = dataframes\n",
    "    for z1, z2 in zip(keys, values):\n",
    "        shape = z2.shape\n",
    "        ncol = z2.shape[1]\n",
    "        dup = z2.duplicated().sum()\n",
    "        na = z2.isna().sum()\n",
    "        uq = z2.nunique()\n",
    "        datalists = dict()\n",
    "        keys_p = ['duplicates', 'na', 'unique', 'dtype']\n",
    "        keys_d = ['non-null count', 'mean/mode', 'std', 'min', '25%', '50%', '75%', 'max']\n",
    "        for k in (keys_p + keys_d):\n",
    "            datalists[k] = []\n",
    "        for col in range(ncol):  #loading keys_p values\n",
    "            datalists['duplicates'].append(z2.iloc[:,col].duplicated().sum())\n",
    "            datalists['na'].append(z2.isna().sum()[col])\n",
    "            datalists['unique'].append(z2.nunique()[col])\n",
    "            datalists['dtype'].append(z2.dtypes[col])\n",
    "        for k2 in enumerate(keys_d):  # loading keys_d values\n",
    "            for col in range(ncol):\n",
    "                if len(z2.iloc[:,col].describe())==8: # describe method outputs 8 values on numeric columns, 4 on others\n",
    "                    datalists[k2[1]].append(round(z2.iloc[:,col].describe()[k2[0]],2))\n",
    "                else:\n",
    "                    if k2[1]=='non-null count':\n",
    "                        datalists[k2[1]].append(z2.count()[col])\n",
    "                    elif k2[1]=='mean/mode':\n",
    "                        datalists[k2[1]].append(z2.iloc[:,col].mode()[0])\n",
    "                    else:\n",
    "                        datalists[k2[1]].append('NC')\n",
    "        print(z1, 'dataframe - ', f'shape:{shape}', f'dupl:{dup}')\n",
    "        display(pd.DataFrame(datalists, index = pd.MultiIndex.from_tuples([c for c in enumerate(z2.columns)], names=['#', 'Column'])))"
   ]
  },
  {
   "cell_type": "code",
   "execution_count": 7,
   "metadata": {
    "hideCode": true,
    "hidePrompt": true
   },
   "outputs": [
    {
     "name": "stdout",
     "output_type": "stream",
     "text": [
      "travel_insurance.csv dataframe -  shape:(1987, 9) dupl:738\n"
     ]
    },
    {
     "data": {
      "text/html": [
       "<div>\n",
       "<style scoped>\n",
       "    .dataframe tbody tr th:only-of-type {\n",
       "        vertical-align: middle;\n",
       "    }\n",
       "\n",
       "    .dataframe tbody tr th {\n",
       "        vertical-align: top;\n",
       "    }\n",
       "\n",
       "    .dataframe thead th {\n",
       "        text-align: right;\n",
       "    }\n",
       "</style>\n",
       "<table border=\"1\" class=\"dataframe\">\n",
       "  <thead>\n",
       "    <tr style=\"text-align: right;\">\n",
       "      <th></th>\n",
       "      <th></th>\n",
       "      <th>duplicates</th>\n",
       "      <th>na</th>\n",
       "      <th>unique</th>\n",
       "      <th>dtype</th>\n",
       "      <th>non-null count</th>\n",
       "      <th>mean/mode</th>\n",
       "      <th>std</th>\n",
       "      <th>min</th>\n",
       "      <th>25%</th>\n",
       "      <th>50%</th>\n",
       "      <th>75%</th>\n",
       "      <th>max</th>\n",
       "    </tr>\n",
       "    <tr>\n",
       "      <th>#</th>\n",
       "      <th>Column</th>\n",
       "      <th></th>\n",
       "      <th></th>\n",
       "      <th></th>\n",
       "      <th></th>\n",
       "      <th></th>\n",
       "      <th></th>\n",
       "      <th></th>\n",
       "      <th></th>\n",
       "      <th></th>\n",
       "      <th></th>\n",
       "      <th></th>\n",
       "      <th></th>\n",
       "    </tr>\n",
       "  </thead>\n",
       "  <tbody>\n",
       "    <tr>\n",
       "      <th>0</th>\n",
       "      <th>Age</th>\n",
       "      <td>1976</td>\n",
       "      <td>0</td>\n",
       "      <td>11</td>\n",
       "      <td>int64</td>\n",
       "      <td>1987.0</td>\n",
       "      <td>29.65</td>\n",
       "      <td>2.91</td>\n",
       "      <td>25.0</td>\n",
       "      <td>28.0</td>\n",
       "      <td>29.0</td>\n",
       "      <td>32.0</td>\n",
       "      <td>35.0</td>\n",
       "    </tr>\n",
       "    <tr>\n",
       "      <th>1</th>\n",
       "      <th>Employment Type</th>\n",
       "      <td>1985</td>\n",
       "      <td>0</td>\n",
       "      <td>2</td>\n",
       "      <td>object</td>\n",
       "      <td>1987.0</td>\n",
       "      <td>Private Sector/Self Employed</td>\n",
       "      <td>NC</td>\n",
       "      <td>NC</td>\n",
       "      <td>NC</td>\n",
       "      <td>NC</td>\n",
       "      <td>NC</td>\n",
       "      <td>NC</td>\n",
       "    </tr>\n",
       "    <tr>\n",
       "      <th>2</th>\n",
       "      <th>GraduateOrNot</th>\n",
       "      <td>1985</td>\n",
       "      <td>0</td>\n",
       "      <td>2</td>\n",
       "      <td>object</td>\n",
       "      <td>1987.0</td>\n",
       "      <td>Yes</td>\n",
       "      <td>NC</td>\n",
       "      <td>NC</td>\n",
       "      <td>NC</td>\n",
       "      <td>NC</td>\n",
       "      <td>NC</td>\n",
       "      <td>NC</td>\n",
       "    </tr>\n",
       "    <tr>\n",
       "      <th>3</th>\n",
       "      <th>AnnualIncome</th>\n",
       "      <td>1957</td>\n",
       "      <td>0</td>\n",
       "      <td>30</td>\n",
       "      <td>int64</td>\n",
       "      <td>1987.0</td>\n",
       "      <td>932762.96</td>\n",
       "      <td>376855.68</td>\n",
       "      <td>300000.0</td>\n",
       "      <td>600000.0</td>\n",
       "      <td>900000.0</td>\n",
       "      <td>1250000.0</td>\n",
       "      <td>1800000.0</td>\n",
       "    </tr>\n",
       "    <tr>\n",
       "      <th>4</th>\n",
       "      <th>FamilyMembers</th>\n",
       "      <td>1979</td>\n",
       "      <td>0</td>\n",
       "      <td>8</td>\n",
       "      <td>int64</td>\n",
       "      <td>1987.0</td>\n",
       "      <td>4.75</td>\n",
       "      <td>1.61</td>\n",
       "      <td>2.0</td>\n",
       "      <td>4.0</td>\n",
       "      <td>5.0</td>\n",
       "      <td>6.0</td>\n",
       "      <td>9.0</td>\n",
       "    </tr>\n",
       "    <tr>\n",
       "      <th>5</th>\n",
       "      <th>ChronicDiseases</th>\n",
       "      <td>1985</td>\n",
       "      <td>0</td>\n",
       "      <td>2</td>\n",
       "      <td>int64</td>\n",
       "      <td>1987.0</td>\n",
       "      <td>0.28</td>\n",
       "      <td>0.45</td>\n",
       "      <td>0.0</td>\n",
       "      <td>0.0</td>\n",
       "      <td>0.0</td>\n",
       "      <td>1.0</td>\n",
       "      <td>1.0</td>\n",
       "    </tr>\n",
       "    <tr>\n",
       "      <th>6</th>\n",
       "      <th>FrequentFlyer</th>\n",
       "      <td>1985</td>\n",
       "      <td>0</td>\n",
       "      <td>2</td>\n",
       "      <td>object</td>\n",
       "      <td>1987.0</td>\n",
       "      <td>No</td>\n",
       "      <td>NC</td>\n",
       "      <td>NC</td>\n",
       "      <td>NC</td>\n",
       "      <td>NC</td>\n",
       "      <td>NC</td>\n",
       "      <td>NC</td>\n",
       "    </tr>\n",
       "    <tr>\n",
       "      <th>7</th>\n",
       "      <th>EverTravelledAbroad</th>\n",
       "      <td>1985</td>\n",
       "      <td>0</td>\n",
       "      <td>2</td>\n",
       "      <td>object</td>\n",
       "      <td>1987.0</td>\n",
       "      <td>No</td>\n",
       "      <td>NC</td>\n",
       "      <td>NC</td>\n",
       "      <td>NC</td>\n",
       "      <td>NC</td>\n",
       "      <td>NC</td>\n",
       "      <td>NC</td>\n",
       "    </tr>\n",
       "    <tr>\n",
       "      <th>8</th>\n",
       "      <th>TravelInsurance</th>\n",
       "      <td>1985</td>\n",
       "      <td>0</td>\n",
       "      <td>2</td>\n",
       "      <td>int64</td>\n",
       "      <td>1987.0</td>\n",
       "      <td>0.36</td>\n",
       "      <td>0.48</td>\n",
       "      <td>0.0</td>\n",
       "      <td>0.0</td>\n",
       "      <td>0.0</td>\n",
       "      <td>1.0</td>\n",
       "      <td>1.0</td>\n",
       "    </tr>\n",
       "  </tbody>\n",
       "</table>\n",
       "</div>"
      ],
      "text/plain": [
       "                       duplicates  na  unique   dtype  non-null count  \\\n",
       "# Column                                                                \n",
       "0 Age                        1976   0      11   int64          1987.0   \n",
       "1 Employment Type            1985   0       2  object          1987.0   \n",
       "2 GraduateOrNot              1985   0       2  object          1987.0   \n",
       "3 AnnualIncome               1957   0      30   int64          1987.0   \n",
       "4 FamilyMembers              1979   0       8   int64          1987.0   \n",
       "5 ChronicDiseases            1985   0       2   int64          1987.0   \n",
       "6 FrequentFlyer              1985   0       2  object          1987.0   \n",
       "7 EverTravelledAbroad        1985   0       2  object          1987.0   \n",
       "8 TravelInsurance            1985   0       2   int64          1987.0   \n",
       "\n",
       "                                          mean/mode        std       min  \\\n",
       "# Column                                                                   \n",
       "0 Age                                         29.65       2.91      25.0   \n",
       "1 Employment Type      Private Sector/Self Employed         NC        NC   \n",
       "2 GraduateOrNot                                 Yes         NC        NC   \n",
       "3 AnnualIncome                            932762.96  376855.68  300000.0   \n",
       "4 FamilyMembers                                4.75       1.61       2.0   \n",
       "5 ChronicDiseases                              0.28       0.45       0.0   \n",
       "6 FrequentFlyer                                  No         NC        NC   \n",
       "7 EverTravelledAbroad                            No         NC        NC   \n",
       "8 TravelInsurance                              0.36       0.48       0.0   \n",
       "\n",
       "                            25%       50%        75%        max  \n",
       "# Column                                                         \n",
       "0 Age                      28.0      29.0       32.0       35.0  \n",
       "1 Employment Type            NC        NC         NC         NC  \n",
       "2 GraduateOrNot              NC        NC         NC         NC  \n",
       "3 AnnualIncome         600000.0  900000.0  1250000.0  1800000.0  \n",
       "4 FamilyMembers             4.0       5.0        6.0        9.0  \n",
       "5 ChronicDiseases           0.0       0.0        1.0        1.0  \n",
       "6 FrequentFlyer              NC        NC         NC         NC  \n",
       "7 EverTravelledAbroad        NC        NC         NC         NC  \n",
       "8 TravelInsurance           0.0       0.0        1.0        1.0  "
      ]
     },
     "metadata": {},
     "output_type": "display_data"
    }
   ],
   "source": [
    "inspect_dataframes(['travel_insurance.csv'], [dfi])"
   ]
  },
  {
   "cell_type": "code",
   "execution_count": 8,
   "metadata": {
    "hideCode": true,
    "hidePrompt": true,
    "slideshow": {
     "slide_type": "skip"
    }
   },
   "outputs": [
    {
     "name": "stdout",
     "output_type": "stream",
     "text": [
      "Employment Type ['Government Sector' 'Private Sector/Self Employed']\n",
      "GraduateOrNot ['Yes' 'No']\n",
      "ChronicDiseases [1 0]\n",
      "FrequentFlyer ['No' 'Yes']\n",
      "EverTravelledAbroad ['No' 'Yes']\n",
      "TravelInsurance [0 1]\n"
     ]
    }
   ],
   "source": [
    "# check for binary columns\n",
    "binary_cols = ['Employment Type', 'GraduateOrNot', 'ChronicDiseases', 'FrequentFlyer', 'EverTravelledAbroad', 'TravelInsurance']\n",
    "for c in binary_cols:\n",
    "    print(dfi[c].name, dfi[c].unique())"
   ]
  },
  {
   "cell_type": "code",
   "execution_count": 9,
   "metadata": {
    "hideCode": true,
    "hidePrompt": true
   },
   "outputs": [
    {
     "name": "stdout",
     "output_type": "stream",
     "text": [
      "Age                     int64\n",
      "Employment Type        object\n",
      "GraduateOrNot            bool\n",
      "AnnualIncome            int64\n",
      "FamilyMembers           int64\n",
      "ChronicDiseases          bool\n",
      "FrequentFlyer            bool\n",
      "EverTravelledAbroad      bool\n",
      "TravelInsurance          bool\n",
      "Private_employer         bool\n",
      "dtype: object\n"
     ]
    }
   ],
   "source": [
    "# map and re-affect datatypes\n",
    "mapping_bool = {'Yes':True, 1:True, 'No':False, 0:False}\n",
    "mapping_empl = {'Government Sector':False ,'Private Sector/Self Employed':True}\n",
    "convert_dict = {'Private_employer':bool, 'GraduateOrNot':bool, 'ChronicDiseases':bool, 'FrequentFlyer':bool, 'EverTravelledAbroad':bool, 'TravelInsurance':bool}\n",
    "df = dfi\n",
    "\n",
    "for c in binary_cols[0:1]:\n",
    "    df['Private_employer'] = dfi[c].replace(mapping_empl)\n",
    "\n",
    "for c in binary_cols[1:]:\n",
    "    df[c] = dfi[c].replace(mapping_bool)\n",
    "\n",
    "df = df.astype(convert_dict)\n",
    "print(df.dtypes)"
   ]
  },
  {
   "attachments": {},
   "cell_type": "markdown",
   "metadata": {
    "hideCode": true,
    "hidePrompt": true,
    "slideshow": {
     "slide_type": "slide"
    }
   },
   "source": [
    "## 3. Preliminary EDA"
   ]
  },
  {
   "attachments": {},
   "cell_type": "markdown",
   "metadata": {
    "hideCode": true,
    "hidePrompt": true,
    "slideshow": {
     "slide_type": "skip"
    }
   },
   "source": [
    "### Preliminary EDA"
   ]
  },
  {
   "cell_type": "code",
   "execution_count": 10,
   "metadata": {
    "hideCode": true,
    "hidePrompt": true,
    "slideshow": {
     "slide_type": "skip"
    }
   },
   "outputs": [
    {
     "name": "stdout",
     "output_type": "stream",
     "text": [
      "travel_insurance.csv dataframe -  shape:(1987, 10) dupl:738\n"
     ]
    },
    {
     "data": {
      "text/html": [
       "<div>\n",
       "<style scoped>\n",
       "    .dataframe tbody tr th:only-of-type {\n",
       "        vertical-align: middle;\n",
       "    }\n",
       "\n",
       "    .dataframe tbody tr th {\n",
       "        vertical-align: top;\n",
       "    }\n",
       "\n",
       "    .dataframe thead th {\n",
       "        text-align: right;\n",
       "    }\n",
       "</style>\n",
       "<table border=\"1\" class=\"dataframe\">\n",
       "  <thead>\n",
       "    <tr style=\"text-align: right;\">\n",
       "      <th></th>\n",
       "      <th></th>\n",
       "      <th>duplicates</th>\n",
       "      <th>na</th>\n",
       "      <th>unique</th>\n",
       "      <th>dtype</th>\n",
       "      <th>non-null count</th>\n",
       "      <th>mean/mode</th>\n",
       "      <th>std</th>\n",
       "      <th>min</th>\n",
       "      <th>25%</th>\n",
       "      <th>50%</th>\n",
       "      <th>75%</th>\n",
       "      <th>max</th>\n",
       "    </tr>\n",
       "    <tr>\n",
       "      <th>#</th>\n",
       "      <th>Column</th>\n",
       "      <th></th>\n",
       "      <th></th>\n",
       "      <th></th>\n",
       "      <th></th>\n",
       "      <th></th>\n",
       "      <th></th>\n",
       "      <th></th>\n",
       "      <th></th>\n",
       "      <th></th>\n",
       "      <th></th>\n",
       "      <th></th>\n",
       "      <th></th>\n",
       "    </tr>\n",
       "  </thead>\n",
       "  <tbody>\n",
       "    <tr>\n",
       "      <th>0</th>\n",
       "      <th>Age</th>\n",
       "      <td>1976</td>\n",
       "      <td>0</td>\n",
       "      <td>11</td>\n",
       "      <td>int64</td>\n",
       "      <td>1987.0</td>\n",
       "      <td>29.65</td>\n",
       "      <td>2.91</td>\n",
       "      <td>25.0</td>\n",
       "      <td>28.0</td>\n",
       "      <td>29.0</td>\n",
       "      <td>32.0</td>\n",
       "      <td>35.0</td>\n",
       "    </tr>\n",
       "    <tr>\n",
       "      <th>1</th>\n",
       "      <th>Employment Type</th>\n",
       "      <td>1985</td>\n",
       "      <td>0</td>\n",
       "      <td>2</td>\n",
       "      <td>object</td>\n",
       "      <td>1987.0</td>\n",
       "      <td>Private Sector/Self Employed</td>\n",
       "      <td>NC</td>\n",
       "      <td>NC</td>\n",
       "      <td>NC</td>\n",
       "      <td>NC</td>\n",
       "      <td>NC</td>\n",
       "      <td>NC</td>\n",
       "    </tr>\n",
       "    <tr>\n",
       "      <th>2</th>\n",
       "      <th>GraduateOrNot</th>\n",
       "      <td>1985</td>\n",
       "      <td>0</td>\n",
       "      <td>2</td>\n",
       "      <td>bool</td>\n",
       "      <td>1987.0</td>\n",
       "      <td>True</td>\n",
       "      <td>NC</td>\n",
       "      <td>NC</td>\n",
       "      <td>NC</td>\n",
       "      <td>NC</td>\n",
       "      <td>NC</td>\n",
       "      <td>NC</td>\n",
       "    </tr>\n",
       "    <tr>\n",
       "      <th>3</th>\n",
       "      <th>AnnualIncome</th>\n",
       "      <td>1957</td>\n",
       "      <td>0</td>\n",
       "      <td>30</td>\n",
       "      <td>int64</td>\n",
       "      <td>1987.0</td>\n",
       "      <td>932762.96</td>\n",
       "      <td>376855.68</td>\n",
       "      <td>300000.0</td>\n",
       "      <td>600000.0</td>\n",
       "      <td>900000.0</td>\n",
       "      <td>1250000.0</td>\n",
       "      <td>1800000.0</td>\n",
       "    </tr>\n",
       "    <tr>\n",
       "      <th>4</th>\n",
       "      <th>FamilyMembers</th>\n",
       "      <td>1979</td>\n",
       "      <td>0</td>\n",
       "      <td>8</td>\n",
       "      <td>int64</td>\n",
       "      <td>1987.0</td>\n",
       "      <td>4.75</td>\n",
       "      <td>1.61</td>\n",
       "      <td>2.0</td>\n",
       "      <td>4.0</td>\n",
       "      <td>5.0</td>\n",
       "      <td>6.0</td>\n",
       "      <td>9.0</td>\n",
       "    </tr>\n",
       "    <tr>\n",
       "      <th>5</th>\n",
       "      <th>ChronicDiseases</th>\n",
       "      <td>1985</td>\n",
       "      <td>0</td>\n",
       "      <td>2</td>\n",
       "      <td>bool</td>\n",
       "      <td>1987.0</td>\n",
       "      <td>False</td>\n",
       "      <td>NC</td>\n",
       "      <td>NC</td>\n",
       "      <td>NC</td>\n",
       "      <td>NC</td>\n",
       "      <td>NC</td>\n",
       "      <td>NC</td>\n",
       "    </tr>\n",
       "    <tr>\n",
       "      <th>6</th>\n",
       "      <th>FrequentFlyer</th>\n",
       "      <td>1985</td>\n",
       "      <td>0</td>\n",
       "      <td>2</td>\n",
       "      <td>bool</td>\n",
       "      <td>1987.0</td>\n",
       "      <td>False</td>\n",
       "      <td>NC</td>\n",
       "      <td>NC</td>\n",
       "      <td>NC</td>\n",
       "      <td>NC</td>\n",
       "      <td>NC</td>\n",
       "      <td>NC</td>\n",
       "    </tr>\n",
       "    <tr>\n",
       "      <th>7</th>\n",
       "      <th>EverTravelledAbroad</th>\n",
       "      <td>1985</td>\n",
       "      <td>0</td>\n",
       "      <td>2</td>\n",
       "      <td>bool</td>\n",
       "      <td>1987.0</td>\n",
       "      <td>False</td>\n",
       "      <td>NC</td>\n",
       "      <td>NC</td>\n",
       "      <td>NC</td>\n",
       "      <td>NC</td>\n",
       "      <td>NC</td>\n",
       "      <td>NC</td>\n",
       "    </tr>\n",
       "    <tr>\n",
       "      <th>8</th>\n",
       "      <th>TravelInsurance</th>\n",
       "      <td>1985</td>\n",
       "      <td>0</td>\n",
       "      <td>2</td>\n",
       "      <td>bool</td>\n",
       "      <td>1987.0</td>\n",
       "      <td>False</td>\n",
       "      <td>NC</td>\n",
       "      <td>NC</td>\n",
       "      <td>NC</td>\n",
       "      <td>NC</td>\n",
       "      <td>NC</td>\n",
       "      <td>NC</td>\n",
       "    </tr>\n",
       "    <tr>\n",
       "      <th>9</th>\n",
       "      <th>Private_employer</th>\n",
       "      <td>1985</td>\n",
       "      <td>0</td>\n",
       "      <td>2</td>\n",
       "      <td>bool</td>\n",
       "      <td>1987.0</td>\n",
       "      <td>True</td>\n",
       "      <td>NC</td>\n",
       "      <td>NC</td>\n",
       "      <td>NC</td>\n",
       "      <td>NC</td>\n",
       "      <td>NC</td>\n",
       "      <td>NC</td>\n",
       "    </tr>\n",
       "  </tbody>\n",
       "</table>\n",
       "</div>"
      ],
      "text/plain": [
       "                       duplicates  na  unique   dtype  non-null count  \\\n",
       "# Column                                                                \n",
       "0 Age                        1976   0      11   int64          1987.0   \n",
       "1 Employment Type            1985   0       2  object          1987.0   \n",
       "2 GraduateOrNot              1985   0       2    bool          1987.0   \n",
       "3 AnnualIncome               1957   0      30   int64          1987.0   \n",
       "4 FamilyMembers              1979   0       8   int64          1987.0   \n",
       "5 ChronicDiseases            1985   0       2    bool          1987.0   \n",
       "6 FrequentFlyer              1985   0       2    bool          1987.0   \n",
       "7 EverTravelledAbroad        1985   0       2    bool          1987.0   \n",
       "8 TravelInsurance            1985   0       2    bool          1987.0   \n",
       "9 Private_employer           1985   0       2    bool          1987.0   \n",
       "\n",
       "                                          mean/mode        std       min  \\\n",
       "# Column                                                                   \n",
       "0 Age                                         29.65       2.91      25.0   \n",
       "1 Employment Type      Private Sector/Self Employed         NC        NC   \n",
       "2 GraduateOrNot                                True         NC        NC   \n",
       "3 AnnualIncome                            932762.96  376855.68  300000.0   \n",
       "4 FamilyMembers                                4.75       1.61       2.0   \n",
       "5 ChronicDiseases                             False         NC        NC   \n",
       "6 FrequentFlyer                               False         NC        NC   \n",
       "7 EverTravelledAbroad                         False         NC        NC   \n",
       "8 TravelInsurance                             False         NC        NC   \n",
       "9 Private_employer                             True         NC        NC   \n",
       "\n",
       "                            25%       50%        75%        max  \n",
       "# Column                                                         \n",
       "0 Age                      28.0      29.0       32.0       35.0  \n",
       "1 Employment Type            NC        NC         NC         NC  \n",
       "2 GraduateOrNot              NC        NC         NC         NC  \n",
       "3 AnnualIncome         600000.0  900000.0  1250000.0  1800000.0  \n",
       "4 FamilyMembers             4.0       5.0        6.0        9.0  \n",
       "5 ChronicDiseases            NC        NC         NC         NC  \n",
       "6 FrequentFlyer              NC        NC         NC         NC  \n",
       "7 EverTravelledAbroad        NC        NC         NC         NC  \n",
       "8 TravelInsurance            NC        NC         NC         NC  \n",
       "9 Private_employer           NC        NC         NC         NC  "
      ]
     },
     "metadata": {},
     "output_type": "display_data"
    }
   ],
   "source": [
    "# data validation\n",
    "inspect_dataframes(['travel_insurance.csv'], [df])"
   ]
  },
  {
   "cell_type": "code",
   "execution_count": 11,
   "metadata": {
    "hideCode": true,
    "hidePrompt": true,
    "slideshow": {
     "slide_type": "skip"
    }
   },
   "outputs": [
    {
     "data": {
      "text/html": [
       "<div>\n",
       "<style scoped>\n",
       "    .dataframe tbody tr th:only-of-type {\n",
       "        vertical-align: middle;\n",
       "    }\n",
       "\n",
       "    .dataframe tbody tr th {\n",
       "        vertical-align: top;\n",
       "    }\n",
       "\n",
       "    .dataframe thead th {\n",
       "        text-align: right;\n",
       "    }\n",
       "</style>\n",
       "<table border=\"1\" class=\"dataframe\">\n",
       "  <thead>\n",
       "    <tr style=\"text-align: right;\">\n",
       "      <th></th>\n",
       "      <th>Age</th>\n",
       "      <th>Employment Type</th>\n",
       "      <th>GraduateOrNot</th>\n",
       "      <th>AnnualIncome</th>\n",
       "      <th>FamilyMembers</th>\n",
       "      <th>ChronicDiseases</th>\n",
       "      <th>FrequentFlyer</th>\n",
       "      <th>EverTravelledAbroad</th>\n",
       "      <th>TravelInsurance</th>\n",
       "      <th>Private_employer</th>\n",
       "    </tr>\n",
       "  </thead>\n",
       "  <tbody>\n",
       "    <tr>\n",
       "      <th>0</th>\n",
       "      <td>31</td>\n",
       "      <td>Government Sector</td>\n",
       "      <td>True</td>\n",
       "      <td>400000</td>\n",
       "      <td>6</td>\n",
       "      <td>True</td>\n",
       "      <td>False</td>\n",
       "      <td>False</td>\n",
       "      <td>False</td>\n",
       "      <td>False</td>\n",
       "    </tr>\n",
       "    <tr>\n",
       "      <th>1</th>\n",
       "      <td>31</td>\n",
       "      <td>Private Sector/Self Employed</td>\n",
       "      <td>True</td>\n",
       "      <td>1250000</td>\n",
       "      <td>7</td>\n",
       "      <td>False</td>\n",
       "      <td>False</td>\n",
       "      <td>False</td>\n",
       "      <td>False</td>\n",
       "      <td>True</td>\n",
       "    </tr>\n",
       "    <tr>\n",
       "      <th>2</th>\n",
       "      <td>34</td>\n",
       "      <td>Private Sector/Self Employed</td>\n",
       "      <td>True</td>\n",
       "      <td>500000</td>\n",
       "      <td>4</td>\n",
       "      <td>True</td>\n",
       "      <td>False</td>\n",
       "      <td>False</td>\n",
       "      <td>True</td>\n",
       "      <td>True</td>\n",
       "    </tr>\n",
       "  </tbody>\n",
       "</table>\n",
       "</div>"
      ],
      "text/plain": [
       "   Age               Employment Type  GraduateOrNot  AnnualIncome  \\\n",
       "0   31             Government Sector           True        400000   \n",
       "1   31  Private Sector/Self Employed           True       1250000   \n",
       "2   34  Private Sector/Self Employed           True        500000   \n",
       "\n",
       "   FamilyMembers  ChronicDiseases  FrequentFlyer  EverTravelledAbroad  \\\n",
       "0              6             True          False                False   \n",
       "1              7            False          False                False   \n",
       "2              4             True          False                False   \n",
       "\n",
       "   TravelInsurance  Private_employer  \n",
       "0            False             False  \n",
       "1            False              True  \n",
       "2             True              True  "
      ]
     },
     "execution_count": 11,
     "metadata": {},
     "output_type": "execute_result"
    }
   ],
   "source": [
    "# print a newly-formatted dataframe => integrate as a slide fragment\n",
    "df.head(3)"
   ]
  },
  {
   "attachments": {},
   "cell_type": "markdown",
   "metadata": {
    "hideCode": true,
    "hidePrompt": true,
    "slideshow": {
     "slide_type": "skip"
    }
   },
   "source": [
    "<p>Possible covering for policies :\n",
    "<li><span style='color:DarkBlue '> basic-policy </span> : emergency medical expenses while overseas,\n",
    "<li><span style='color:DarkBlue '> comprehensive-policy </span> : trip cancellation, lost luggage, flight delays, public liability, and other expenses</p>"
   ]
  },
  {
   "attachments": {},
   "cell_type": "markdown",
   "metadata": {
    "hideCode": true,
    "hidePrompt": true,
    "slideshow": {
     "slide_type": "fragment"
    }
   },
   "source": [
    "### Basic understanding of business model\n",
    "\n",
    "<p>We see 2 categories of hazard that are causing losses potential covered within the insurance policies :\n",
    "<li><span style='color:DarkBlue '> professional </span>  hazard (due to employment) can lead to trip cancellation\n",
    "<li><span style='color:DarkBlue '> personal </span>  hazard (due to family, health) can lead to emergency expenses (health) or trip cancellation\n",
    "<li>other losses like lost-luggage can happen in both categories of trips</p>"
   ]
  },
  {
   "attachments": {},
   "cell_type": "markdown",
   "metadata": {
    "hideCode": true,
    "hidePrompt": true,
    "slideshow": {
     "slide_type": "fragment"
    }
   },
   "source": [
    "### Correlations between parameters"
   ]
  },
  {
   "cell_type": "code",
   "execution_count": 12,
   "metadata": {
    "hideCode": true,
    "hidePrompt": true,
    "slideshow": {
     "slide_type": "skip"
    }
   },
   "outputs": [
    {
     "data": {
      "text/html": [
       "<div>\n",
       "<style scoped>\n",
       "    .dataframe tbody tr th:only-of-type {\n",
       "        vertical-align: middle;\n",
       "    }\n",
       "\n",
       "    .dataframe tbody tr th {\n",
       "        vertical-align: top;\n",
       "    }\n",
       "\n",
       "    .dataframe thead th {\n",
       "        text-align: right;\n",
       "    }\n",
       "</style>\n",
       "<table border=\"1\" class=\"dataframe\">\n",
       "  <thead>\n",
       "    <tr style=\"text-align: right;\">\n",
       "      <th></th>\n",
       "      <th>Age</th>\n",
       "      <th>GraduateOrNot</th>\n",
       "      <th>AnnualIncome</th>\n",
       "      <th>FamilyMembers</th>\n",
       "      <th>ChronicDiseases</th>\n",
       "      <th>FrequentFlyer</th>\n",
       "      <th>EverTravelledAbroad</th>\n",
       "      <th>TravelInsurance</th>\n",
       "      <th>Private_employer</th>\n",
       "    </tr>\n",
       "  </thead>\n",
       "  <tbody>\n",
       "    <tr>\n",
       "      <th>Age</th>\n",
       "      <td>1.000</td>\n",
       "      <td>0.027</td>\n",
       "      <td>-0.020</td>\n",
       "      <td>0.027</td>\n",
       "      <td>0.007</td>\n",
       "      <td>-0.033</td>\n",
       "      <td>-0.013</td>\n",
       "      <td>0.061</td>\n",
       "      <td>-0.115</td>\n",
       "    </tr>\n",
       "    <tr>\n",
       "      <th>GraduateOrNot</th>\n",
       "      <td>0.027</td>\n",
       "      <td>1.000</td>\n",
       "      <td>0.108</td>\n",
       "      <td>0.021</td>\n",
       "      <td>0.019</td>\n",
       "      <td>-0.028</td>\n",
       "      <td>0.063</td>\n",
       "      <td>0.019</td>\n",
       "      <td>-0.127</td>\n",
       "    </tr>\n",
       "    <tr>\n",
       "      <th>AnnualIncome</th>\n",
       "      <td>-0.020</td>\n",
       "      <td>0.108</td>\n",
       "      <td>1.000</td>\n",
       "      <td>-0.015</td>\n",
       "      <td>-0.001</td>\n",
       "      <td>0.353</td>\n",
       "      <td>0.486</td>\n",
       "      <td>0.397</td>\n",
       "      <td>0.349</td>\n",
       "    </tr>\n",
       "    <tr>\n",
       "      <th>FamilyMembers</th>\n",
       "      <td>0.027</td>\n",
       "      <td>0.021</td>\n",
       "      <td>-0.015</td>\n",
       "      <td>1.000</td>\n",
       "      <td>0.028</td>\n",
       "      <td>-0.024</td>\n",
       "      <td>-0.021</td>\n",
       "      <td>0.080</td>\n",
       "      <td>-0.003</td>\n",
       "    </tr>\n",
       "    <tr>\n",
       "      <th>ChronicDiseases</th>\n",
       "      <td>0.007</td>\n",
       "      <td>0.019</td>\n",
       "      <td>-0.001</td>\n",
       "      <td>0.028</td>\n",
       "      <td>1.000</td>\n",
       "      <td>-0.044</td>\n",
       "      <td>0.021</td>\n",
       "      <td>0.018</td>\n",
       "      <td>-0.012</td>\n",
       "    </tr>\n",
       "    <tr>\n",
       "      <th>FrequentFlyer</th>\n",
       "      <td>-0.033</td>\n",
       "      <td>-0.028</td>\n",
       "      <td>0.353</td>\n",
       "      <td>-0.024</td>\n",
       "      <td>-0.044</td>\n",
       "      <td>1.000</td>\n",
       "      <td>0.277</td>\n",
       "      <td>0.232</td>\n",
       "      <td>0.144</td>\n",
       "    </tr>\n",
       "    <tr>\n",
       "      <th>EverTravelledAbroad</th>\n",
       "      <td>-0.013</td>\n",
       "      <td>0.063</td>\n",
       "      <td>0.486</td>\n",
       "      <td>-0.021</td>\n",
       "      <td>0.021</td>\n",
       "      <td>0.277</td>\n",
       "      <td>1.000</td>\n",
       "      <td>0.433</td>\n",
       "      <td>0.181</td>\n",
       "    </tr>\n",
       "    <tr>\n",
       "      <th>TravelInsurance</th>\n",
       "      <td>0.061</td>\n",
       "      <td>0.019</td>\n",
       "      <td>0.397</td>\n",
       "      <td>0.080</td>\n",
       "      <td>0.018</td>\n",
       "      <td>0.232</td>\n",
       "      <td>0.433</td>\n",
       "      <td>1.000</td>\n",
       "      <td>0.148</td>\n",
       "    </tr>\n",
       "    <tr>\n",
       "      <th>Private_employer</th>\n",
       "      <td>-0.115</td>\n",
       "      <td>-0.127</td>\n",
       "      <td>0.349</td>\n",
       "      <td>-0.003</td>\n",
       "      <td>-0.012</td>\n",
       "      <td>0.144</td>\n",
       "      <td>0.181</td>\n",
       "      <td>0.148</td>\n",
       "      <td>1.000</td>\n",
       "    </tr>\n",
       "  </tbody>\n",
       "</table>\n",
       "</div>"
      ],
      "text/plain": [
       "                       Age  GraduateOrNot  AnnualIncome  FamilyMembers  \\\n",
       "Age                  1.000          0.027        -0.020          0.027   \n",
       "GraduateOrNot        0.027          1.000         0.108          0.021   \n",
       "AnnualIncome        -0.020          0.108         1.000         -0.015   \n",
       "FamilyMembers        0.027          0.021        -0.015          1.000   \n",
       "ChronicDiseases      0.007          0.019        -0.001          0.028   \n",
       "FrequentFlyer       -0.033         -0.028         0.353         -0.024   \n",
       "EverTravelledAbroad -0.013          0.063         0.486         -0.021   \n",
       "TravelInsurance      0.061          0.019         0.397          0.080   \n",
       "Private_employer    -0.115         -0.127         0.349         -0.003   \n",
       "\n",
       "                     ChronicDiseases  FrequentFlyer  EverTravelledAbroad  \\\n",
       "Age                            0.007         -0.033               -0.013   \n",
       "GraduateOrNot                  0.019         -0.028                0.063   \n",
       "AnnualIncome                  -0.001          0.353                0.486   \n",
       "FamilyMembers                  0.028         -0.024               -0.021   \n",
       "ChronicDiseases                1.000         -0.044                0.021   \n",
       "FrequentFlyer                 -0.044          1.000                0.277   \n",
       "EverTravelledAbroad            0.021          0.277                1.000   \n",
       "TravelInsurance                0.018          0.232                0.433   \n",
       "Private_employer              -0.012          0.144                0.181   \n",
       "\n",
       "                     TravelInsurance  Private_employer  \n",
       "Age                            0.061            -0.115  \n",
       "GraduateOrNot                  0.019            -0.127  \n",
       "AnnualIncome                   0.397             0.349  \n",
       "FamilyMembers                  0.080            -0.003  \n",
       "ChronicDiseases                0.018            -0.012  \n",
       "FrequentFlyer                  0.232             0.144  \n",
       "EverTravelledAbroad            0.433             0.181  \n",
       "TravelInsurance                1.000             0.148  \n",
       "Private_employer               0.148             1.000  "
      ]
     },
     "execution_count": 12,
     "metadata": {},
     "output_type": "execute_result"
    }
   ],
   "source": [
    "corr_df = round(df.corr(),3)\n",
    "corr_df"
   ]
  },
  {
   "cell_type": "code",
   "execution_count": 13,
   "metadata": {
    "hideCode": true,
    "hidePrompt": true,
    "slideshow": {
     "slide_type": "skip"
    }
   },
   "outputs": [
    {
     "name": "stdout",
     "output_type": "stream",
     "text": [
      "largest_correlations:  [0.349, 0.353, 0.397, 0.433, 0.486]\n",
      "weakest_correlations:  [-0.127, -0.115, -0.044, -0.033, -0.028]\n"
     ]
    }
   ],
   "source": [
    "correlations = np.array(corr_df).reshape(81)\n",
    "correlations = pd.Series(correlations).drop_duplicates()\n",
    "larg_corr = correlations.nlargest(6).sort_values()[:-1].to_list()\n",
    "weak_corr = correlations.nsmallest(5).to_list()\n",
    "print('largest_correlations: ', larg_corr)\n",
    "print('weakest_correlations: ', weak_corr)"
   ]
  },
  {
   "cell_type": "code",
   "execution_count": 14,
   "metadata": {
    "hideCode": true,
    "hidePrompt": true,
    "slideshow": {
     "slide_type": "skip"
    }
   },
   "outputs": [
    {
     "name": "stdout",
     "output_type": "stream",
     "text": [
      "Weakest negative correlations:\n",
      "Age :  -0.115 Private_employer\n",
      "GraduateOrNot :  -0.127 Private_employer\n",
      "ChronicDiseases :  -0.044 FrequentFlyer\n",
      "FrequentFlyer :  -0.044 ChronicDiseases\n",
      "Private_employer :  -0.127 GraduateOrNot\n"
     ]
    }
   ],
   "source": [
    "print('Weakest negative correlations:')\n",
    "for i, row in corr_df.iterrows():\n",
    "    if min(row) in weak_corr:\n",
    "        print(i, ': ', min(row), row[row == min(row)].index[0])"
   ]
  },
  {
   "cell_type": "code",
   "execution_count": 15,
   "metadata": {
    "hideCode": true,
    "hidePrompt": true,
    "slideshow": {
     "slide_type": "skip"
    }
   },
   "outputs": [
    {
     "name": "stdout",
     "output_type": "stream",
     "text": [
      "\n",
      "Largest positive correlations:\n",
      "AnnualIncome :  0.486 EverTravelledAbroad\n",
      "FrequentFlyer :  0.353 AnnualIncome\n",
      "EverTravelledAbroad :  0.486 AnnualIncome\n",
      "TravelInsurance :  0.433 EverTravelledAbroad\n",
      "Private_employer :  0.349 AnnualIncome\n"
     ]
    }
   ],
   "source": [
    "print('\\nLargest positive correlations:')\n",
    "for i, row in corr_df.iterrows():\n",
    "    r = row.sort_values()[:-1]\n",
    "    if max(r) != 1 and max(r) in larg_corr:\n",
    "        print(i, ': ', max(r), r[r == max(r)].index[0])"
   ]
  },
  {
   "attachments": {},
   "cell_type": "markdown",
   "metadata": {
    "hideCode": true,
    "hidePrompt": true,
    "slideshow": {
     "slide_type": "fragment"
    }
   },
   "source": [
    "<li>Customers <span style='color:DarkBlue '> annual income </span> is positively correlated with flyer-freq and international trips (corr matrix)\n",
    "<li>For prospects anyway, annual income is less (but still positively) correlated to travel habits"
   ]
  },
  {
   "cell_type": "code",
   "execution_count": 16,
   "metadata": {
    "hideCode": true,
    "hidePrompt": true,
    "slideshow": {
     "slide_type": "skip"
    }
   },
   "outputs": [
    {
     "data": {
      "text/plain": [
       "<Figure size 432x288 with 0 Axes>"
      ]
     },
     "metadata": {},
     "output_type": "display_data"
    }
   ],
   "source": [
    "plt.clf()"
   ]
  },
  {
   "attachments": {},
   "cell_type": "markdown",
   "metadata": {
    "hideCode": true,
    "hidePrompt": true,
    "slideshow": {
     "slide_type": "subslide"
    }
   },
   "source": [
    "### Visualization of Age and Income distributions : "
   ]
  },
  {
   "cell_type": "code",
   "execution_count": 20,
   "metadata": {
    "hideCode": true,
    "hidePrompt": true,
    "slideshow": {
     "slide_type": "slide"
    }
   },
   "outputs": [
    {
     "data": {
      "image/png": "[encoded data removed]",
      "text/plain": [
       "<Figure size 576x432 with 1 Axes>"
      ]
     },
     "metadata": {
      "needs_background": "light"
     },
     "output_type": "display_data"
    }
   ],
   "source": [
    "# plot first visualization of single variable \"Age\" (histogram)\n",
    "df_age_income = df[['Age', 'AnnualIncome', 'GraduateOrNot']]\n",
    "fig, ax = plt.subplots(figsize=(8,6))  # figsize=(12, 4) useless\n",
    "df_age_income['Age'].plot.hist(ax=ax, title='Ages distribution')  # height=6, aspect=2\n",
    "ax.set(xlabel='Age', ylabel='count')\n",
    "ax.annotate(\"a peak at 28 yo\", xy=(29,400), xytext=(31, 300), arrowprops={})\n",
    "#plt.close()\n",
    "text = '\\\n",
    "    <font size=\"+2\">Ages distribution histogram view :\\\n",
    "    <li>Flyers are of <span style=\"color:DarkBlue \"> all ages </span> (peak at 28 years-old)'\n",
    "#add_split_screen(fig, text, iwidth='500px')\n"
   ]
  },
  {
   "attachments": {},
   "cell_type": "markdown",
   "metadata": {},
   "source": [
    "Ages distribution histogram view :<br>\n",
    "<li>Flyers are of <span style=\"color:DarkBlue \"> all ages </span> (peak at 28 years-old)'"
   ]
  },
  {
   "cell_type": "code",
   "execution_count": 23,
   "metadata": {
    "hideCode": true,
    "hidePrompt": true,
    "slideshow": {
     "slide_type": "fragment"
    }
   },
   "outputs": [
    {
     "data": {
      "image/png": "[encoded data removed]",
      "text/plain": [
       "<Figure size 720x288 with 1 Axes>"
      ]
     },
     "metadata": {
      "needs_background": "light"
     },
     "output_type": "display_data"
    }
   ],
   "source": [
    "# plot second visualization of single variable \"income\" (boxplot)\n",
    "fig, ax = plt.subplots(figsize=(10, 4))  # figsize=(12, 4) useless\n",
    "ax = sns.boxplot(data=df_age_income, x='AnnualIncome')  # height=6, aspect=2\n",
    "#title='Income variation'\n",
    "#plt.close()\n",
    "text = '\\\n",
    "    <font size=\"+2\">Annual Income boxplot view :\\\n",
    "    <br>a quite<span style=\"color:DarkBlue \"> large IQR </span> representing big diversity in wages\\\n",
    "    <li><span style=\"color:DarkBlue \"> first quartile </span> on left-hand side = {}\\\n",
    "    <li><span style=\"color:DarkBlue \"> third quartile </span> on right-hand side = {}'\\\n",
    "        .format(np.quantile(df_age_income.AnnualIncome, 0.25), np.quantile(df_age_income.AnnualIncome, 0.75))\n",
    "#add_split_screen(fig, text, iwidth='500px')"
   ]
  },
  {
   "attachments": {},
   "cell_type": "markdown",
   "metadata": {},
   "source": [
    "Annual Income boxplot view :\\\n",
    "    <br>a quite<span style=\"color:DarkBlue \"> large IQR </span> representing big diversity in wages\\\n",
    "    <li><span style=\"color:DarkBlue \"> first quartile </span> on left-hand side = {}\\\n",
    "    <li><span style=\"color:DarkBlue \"> third quartile </span> on right-hand side = {}'\\\n",
    "        .format(np.quantile(df_age_income.AnnualIncome, 0.25), np.quantile(df_age_income.AnnualIncome, 0.75))"
   ]
  },
  {
   "cell_type": "code",
   "execution_count": 24,
   "metadata": {
    "hideCode": true,
    "hidePrompt": true,
    "slideshow": {
     "slide_type": "skip"
    }
   },
   "outputs": [
    {
     "data": {
      "text/html": [
       "<div>\n",
       "<style scoped>\n",
       "    .dataframe tbody tr th:only-of-type {\n",
       "        vertical-align: middle;\n",
       "    }\n",
       "\n",
       "    .dataframe tbody tr th {\n",
       "        vertical-align: top;\n",
       "    }\n",
       "\n",
       "    .dataframe thead th {\n",
       "        text-align: right;\n",
       "    }\n",
       "</style>\n",
       "<table border=\"1\" class=\"dataframe\">\n",
       "  <thead>\n",
       "    <tr style=\"text-align: right;\">\n",
       "      <th></th>\n",
       "      <th>Age</th>\n",
       "      <th>Employment Type</th>\n",
       "      <th>GraduateOrNot</th>\n",
       "      <th>AnnualIncome</th>\n",
       "      <th>FamilyMembers</th>\n",
       "      <th>ChronicDiseases</th>\n",
       "      <th>FrequentFlyer</th>\n",
       "      <th>EverTravelledAbroad</th>\n",
       "      <th>TravelInsurance</th>\n",
       "      <th>Private_employer</th>\n",
       "    </tr>\n",
       "  </thead>\n",
       "  <tbody>\n",
       "    <tr>\n",
       "      <th>0</th>\n",
       "      <td>31</td>\n",
       "      <td>Government Sector</td>\n",
       "      <td>True</td>\n",
       "      <td>400000</td>\n",
       "      <td>6</td>\n",
       "      <td>True</td>\n",
       "      <td>False</td>\n",
       "      <td>False</td>\n",
       "      <td>prospect</td>\n",
       "      <td>False</td>\n",
       "    </tr>\n",
       "    <tr>\n",
       "      <th>1</th>\n",
       "      <td>31</td>\n",
       "      <td>Private Sector/Self Employed</td>\n",
       "      <td>True</td>\n",
       "      <td>1250000</td>\n",
       "      <td>7</td>\n",
       "      <td>False</td>\n",
       "      <td>False</td>\n",
       "      <td>False</td>\n",
       "      <td>prospect</td>\n",
       "      <td>True</td>\n",
       "    </tr>\n",
       "    <tr>\n",
       "      <th>2</th>\n",
       "      <td>34</td>\n",
       "      <td>Private Sector/Self Employed</td>\n",
       "      <td>True</td>\n",
       "      <td>500000</td>\n",
       "      <td>4</td>\n",
       "      <td>True</td>\n",
       "      <td>False</td>\n",
       "      <td>False</td>\n",
       "      <td>current customer</td>\n",
       "      <td>True</td>\n",
       "    </tr>\n",
       "  </tbody>\n",
       "</table>\n",
       "</div>"
      ],
      "text/plain": [
       "   Age               Employment Type  GraduateOrNot  AnnualIncome  \\\n",
       "0   31             Government Sector           True        400000   \n",
       "1   31  Private Sector/Self Employed           True       1250000   \n",
       "2   34  Private Sector/Self Employed           True        500000   \n",
       "\n",
       "   FamilyMembers  ChronicDiseases  FrequentFlyer  EverTravelledAbroad  \\\n",
       "0              6             True          False                False   \n",
       "1              7            False          False                False   \n",
       "2              4             True          False                False   \n",
       "\n",
       "    TravelInsurance  Private_employer  \n",
       "0          prospect             False  \n",
       "1          prospect              True  \n",
       "2  current customer              True  "
      ]
     },
     "execution_count": 24,
     "metadata": {},
     "output_type": "execute_result"
    }
   ],
   "source": [
    "df2 = df\n",
    "mapping_cust = {True:'current customer', False:'prospect'}\n",
    "df2['TravelInsurance'] = df['TravelInsurance'].replace(mapping_cust).astype('category')\n",
    "df2.head(3)"
   ]
  },
  {
   "cell_type": "code",
   "execution_count": 25,
   "metadata": {
    "hideCode": true,
    "hidePrompt": true,
    "slideshow": {
     "slide_type": "skip"
    }
   },
   "outputs": [
    {
     "data": {
      "text/plain": [
       "Index(['Age', 'Employment Type', 'GraduateOrNot', 'AnnualIncome',\n",
       "       'FamilyMembers', 'ChronicDiseases', 'FrequentFlyer',\n",
       "       'EverTravelledAbroad', 'TravelInsurance', 'Private_employer'],\n",
       "      dtype='object')"
      ]
     },
     "execution_count": 25,
     "metadata": {},
     "output_type": "execute_result"
    }
   ],
   "source": [
    "df2.columns"
   ]
  },
  {
   "attachments": {},
   "cell_type": "markdown",
   "metadata": {
    "hideCode": true,
    "hidePrompt": true,
    "slideshow": {
     "slide_type": "slide"
    }
   },
   "source": [
    "## 4. Q1:Differences between customers and non-customers' travel habits"
   ]
  },
  {
   "attachments": {},
   "cell_type": "markdown",
   "metadata": {
    "hideCode": true,
    "hidePrompt": true,
    "slideshow": {
     "slide_type": "fragment"
    }
   },
   "source": [
    "Travel habits are defined with two parameters :\n",
    "<li><span style='color:DarkBlue '> Frequency </span> of flights from the traveller\n",
    "<li>Whether traveller did travelled <span style='color:DarkBlue '> abroad </span>"
   ]
  },
  {
   "cell_type": "code",
   "execution_count": 26,
   "metadata": {
    "hideCode": true,
    "hidePrompt": true,
    "slideshow": {
     "slide_type": "skip"
    }
   },
   "outputs": [
    {
     "data": {
      "text/plain": [
       "prospect            1277\n",
       "current customer     710\n",
       "Name: TravelInsurance, dtype: int64"
      ]
     },
     "execution_count": 26,
     "metadata": {},
     "output_type": "execute_result"
    }
   ],
   "source": [
    "df2['TravelInsurance'].value_counts()"
   ]
  },
  {
   "cell_type": "code",
   "execution_count": 27,
   "metadata": {
    "hideCode": true,
    "hidePrompt": true,
    "slideshow": {
     "slide_type": "skip"
    }
   },
   "outputs": [
    {
     "data": {
      "text/html": [
       "<div>\n",
       "<style scoped>\n",
       "    .dataframe tbody tr th:only-of-type {\n",
       "        vertical-align: middle;\n",
       "    }\n",
       "\n",
       "    .dataframe tbody tr th {\n",
       "        vertical-align: top;\n",
       "    }\n",
       "\n",
       "    .dataframe thead th {\n",
       "        text-align: right;\n",
       "    }\n",
       "</style>\n",
       "<table border=\"1\" class=\"dataframe\">\n",
       "  <thead>\n",
       "    <tr style=\"text-align: right;\">\n",
       "      <th></th>\n",
       "      <th>Flyer segment</th>\n",
       "      <th>Employment Type</th>\n",
       "      <th>Frequent</th>\n",
       "      <th>Age</th>\n",
       "      <th>Prop% to flyer segment</th>\n",
       "    </tr>\n",
       "  </thead>\n",
       "  <tbody>\n",
       "    <tr>\n",
       "      <th>0</th>\n",
       "      <td>current customer</td>\n",
       "      <td>Government Sector</td>\n",
       "      <td>False</td>\n",
       "      <td>106</td>\n",
       "      <td>14.929577</td>\n",
       "    </tr>\n",
       "    <tr>\n",
       "      <th>1</th>\n",
       "      <td>current customer</td>\n",
       "      <td>Government Sector</td>\n",
       "      <td>True</td>\n",
       "      <td>34</td>\n",
       "      <td>4.788732</td>\n",
       "    </tr>\n",
       "    <tr>\n",
       "      <th>2</th>\n",
       "      <td>current customer</td>\n",
       "      <td>Private Sector/Self Employed</td>\n",
       "      <td>False</td>\n",
       "      <td>365</td>\n",
       "      <td>51.408451</td>\n",
       "    </tr>\n",
       "    <tr>\n",
       "      <th>3</th>\n",
       "      <td>current customer</td>\n",
       "      <td>Private Sector/Self Employed</td>\n",
       "      <td>True</td>\n",
       "      <td>205</td>\n",
       "      <td>28.873239</td>\n",
       "    </tr>\n",
       "    <tr>\n",
       "      <th>4</th>\n",
       "      <td>prospect</td>\n",
       "      <td>Government Sector</td>\n",
       "      <td>False</td>\n",
       "      <td>397</td>\n",
       "      <td>31.088489</td>\n",
       "    </tr>\n",
       "    <tr>\n",
       "      <th>5</th>\n",
       "      <td>prospect</td>\n",
       "      <td>Government Sector</td>\n",
       "      <td>True</td>\n",
       "      <td>33</td>\n",
       "      <td>2.584182</td>\n",
       "    </tr>\n",
       "    <tr>\n",
       "      <th>6</th>\n",
       "      <td>prospect</td>\n",
       "      <td>Private Sector/Self Employed</td>\n",
       "      <td>False</td>\n",
       "      <td>702</td>\n",
       "      <td>54.972592</td>\n",
       "    </tr>\n",
       "    <tr>\n",
       "      <th>7</th>\n",
       "      <td>prospect</td>\n",
       "      <td>Private Sector/Self Employed</td>\n",
       "      <td>True</td>\n",
       "      <td>145</td>\n",
       "      <td>11.354738</td>\n",
       "    </tr>\n",
       "  </tbody>\n",
       "</table>\n",
       "</div>"
      ],
      "text/plain": [
       "      Flyer segment               Employment Type  Frequent  Age  \\\n",
       "0  current customer             Government Sector     False  106   \n",
       "1  current customer             Government Sector      True   34   \n",
       "2  current customer  Private Sector/Self Employed     False  365   \n",
       "3  current customer  Private Sector/Self Employed      True  205   \n",
       "4          prospect             Government Sector     False  397   \n",
       "5          prospect             Government Sector      True   33   \n",
       "6          prospect  Private Sector/Self Employed     False  702   \n",
       "7          prospect  Private Sector/Self Employed      True  145   \n",
       "\n",
       "   Prop% to flyer segment  \n",
       "0               14.929577  \n",
       "1                4.788732  \n",
       "2               51.408451  \n",
       "3               28.873239  \n",
       "4               31.088489  \n",
       "5                2.584182  \n",
       "6               54.972592  \n",
       "7               11.354738  "
      ]
     },
     "execution_count": 27,
     "metadata": {},
     "output_type": "execute_result"
    }
   ],
   "source": [
    "df_freq = df2.groupby(['TravelInsurance', 'Employment Type', 'FrequentFlyer'])['Age'].count().reset_index().rename(columns={'TravelInsurance':'Flyer segment'})\n",
    "df_freq['Prop% to flyer segment'] = 100 * df_freq['Age'] / df_freq.groupby('Flyer segment')['Age'].transform('sum')\n",
    "df_freq = df_freq.rename(columns = {'FrequentFlyer':'Frequent'})\n",
    "df_freq"
   ]
  },
  {
   "attachments": {},
   "cell_type": "markdown",
   "metadata": {
    "hideCode": true,
    "hidePrompt": true,
    "slideshow": {
     "slide_type": "skip"
    }
   },
   "source": [
    "### Flyers' frequency of flights"
   ]
  },
  {
   "cell_type": "code",
   "execution_count": 28,
   "metadata": {
    "hideCode": true,
    "hidePrompt": true,
    "slideshow": {
     "slide_type": "fragment"
    }
   },
   "outputs": [
    {
     "data": {
      "image/png": "[encoded data removed]",
      "text/plain": [
       "<Figure size 864x432 with 4 Axes>"
      ]
     },
     "metadata": {
      "needs_background": "light"
     },
     "output_type": "display_data"
    }
   ],
   "source": [
    "g = sns.FacetGrid(data=df_freq, col='Flyer segment', row='Frequent', height=3, aspect=2, margin_titles=True)  # df2[df2.TravelInsurance=='prospect']\n",
    "g.map(sns.barplot, 'Prop% to flyer segment', 'Employment Type', color='Yellow', order=None)  #x='Employment Type'\n",
    "g.fig.suptitle('Proportion of employees as perc. of the flyer segment (customer or prospect), segmented by frequency habits', fontsize=18, y=1.05)\n",
    "plt.show()"
   ]
  },
  {
   "attachments": {},
   "cell_type": "markdown",
   "metadata": {
    "hideCode": true,
    "hidePrompt": true,
    "slideshow": {
     "slide_type": "fragment"
    }
   },
   "source": [
    "<li>66% of current customers, whereas 86% of prospected customers, are occasional flyers\n",
    "<li>the proportion of <span style='color:DarkBlue '> private sector </span> employees is much higher in any cases"
   ]
  },
  {
   "cell_type": "code",
   "execution_count": 29,
   "metadata": {
    "hideCode": true,
    "hidePrompt": true,
    "slideshow": {
     "slide_type": "skip"
    }
   },
   "outputs": [
    {
     "data": {
      "text/html": [
       "<div>\n",
       "<style scoped>\n",
       "    .dataframe tbody tr th:only-of-type {\n",
       "        vertical-align: middle;\n",
       "    }\n",
       "\n",
       "    .dataframe tbody tr th {\n",
       "        vertical-align: top;\n",
       "    }\n",
       "\n",
       "    .dataframe thead th {\n",
       "        text-align: right;\n",
       "    }\n",
       "</style>\n",
       "<table border=\"1\" class=\"dataframe\">\n",
       "  <thead>\n",
       "    <tr style=\"text-align: right;\">\n",
       "      <th></th>\n",
       "      <th>Flyer segment</th>\n",
       "      <th>Employment Type</th>\n",
       "      <th>Trav. abroad</th>\n",
       "      <th>Age</th>\n",
       "      <th>Prop% to flyer segment</th>\n",
       "    </tr>\n",
       "  </thead>\n",
       "  <tbody>\n",
       "    <tr>\n",
       "      <th>0</th>\n",
       "      <td>current customer</td>\n",
       "      <td>Government Sector</td>\n",
       "      <td>False</td>\n",
       "      <td>114</td>\n",
       "      <td>16.056338</td>\n",
       "    </tr>\n",
       "    <tr>\n",
       "      <th>1</th>\n",
       "      <td>current customer</td>\n",
       "      <td>Government Sector</td>\n",
       "      <td>True</td>\n",
       "      <td>26</td>\n",
       "      <td>3.661972</td>\n",
       "    </tr>\n",
       "    <tr>\n",
       "      <th>2</th>\n",
       "      <td>current customer</td>\n",
       "      <td>Private Sector/Self Employed</td>\n",
       "      <td>False</td>\n",
       "      <td>298</td>\n",
       "      <td>41.971831</td>\n",
       "    </tr>\n",
       "    <tr>\n",
       "      <th>3</th>\n",
       "      <td>current customer</td>\n",
       "      <td>Private Sector/Self Employed</td>\n",
       "      <td>True</td>\n",
       "      <td>272</td>\n",
       "      <td>38.309859</td>\n",
       "    </tr>\n",
       "    <tr>\n",
       "      <th>4</th>\n",
       "      <td>prospect</td>\n",
       "      <td>Government Sector</td>\n",
       "      <td>False</td>\n",
       "      <td>411</td>\n",
       "      <td>32.184808</td>\n",
       "    </tr>\n",
       "    <tr>\n",
       "      <th>5</th>\n",
       "      <td>prospect</td>\n",
       "      <td>Government Sector</td>\n",
       "      <td>True</td>\n",
       "      <td>19</td>\n",
       "      <td>1.487862</td>\n",
       "    </tr>\n",
       "    <tr>\n",
       "      <th>6</th>\n",
       "      <td>prospect</td>\n",
       "      <td>Private Sector/Self Employed</td>\n",
       "      <td>False</td>\n",
       "      <td>784</td>\n",
       "      <td>61.393892</td>\n",
       "    </tr>\n",
       "    <tr>\n",
       "      <th>7</th>\n",
       "      <td>prospect</td>\n",
       "      <td>Private Sector/Self Employed</td>\n",
       "      <td>True</td>\n",
       "      <td>63</td>\n",
       "      <td>4.933438</td>\n",
       "    </tr>\n",
       "  </tbody>\n",
       "</table>\n",
       "</div>"
      ],
      "text/plain": [
       "      Flyer segment               Employment Type  Trav. abroad  Age  \\\n",
       "0  current customer             Government Sector         False  114   \n",
       "1  current customer             Government Sector          True   26   \n",
       "2  current customer  Private Sector/Self Employed         False  298   \n",
       "3  current customer  Private Sector/Self Employed          True  272   \n",
       "4          prospect             Government Sector         False  411   \n",
       "5          prospect             Government Sector          True   19   \n",
       "6          prospect  Private Sector/Self Employed         False  784   \n",
       "7          prospect  Private Sector/Self Employed          True   63   \n",
       "\n",
       "   Prop% to flyer segment  \n",
       "0               16.056338  \n",
       "1                3.661972  \n",
       "2               41.971831  \n",
       "3               38.309859  \n",
       "4               32.184808  \n",
       "5                1.487862  \n",
       "6               61.393892  \n",
       "7                4.933438  "
      ]
     },
     "execution_count": 29,
     "metadata": {},
     "output_type": "execute_result"
    }
   ],
   "source": [
    "df_abroad = df2.groupby(['TravelInsurance', 'Employment Type', 'EverTravelledAbroad'])['Age'].count().reset_index().rename(columns={'TravelInsurance':'Flyer segment'})\n",
    "df_abroad['Prop% to flyer segment'] = 100 * df_abroad['Age'] / df_abroad.groupby('Flyer segment')['Age'].transform('sum')\n",
    "df_abroad = df_abroad.rename(columns = {'EverTravelledAbroad':'Trav. abroad'})\n",
    "df_abroad"
   ]
  },
  {
   "attachments": {},
   "cell_type": "markdown",
   "metadata": {
    "hideCode": true,
    "hidePrompt": true,
    "slideshow": {
     "slide_type": "skip"
    }
   },
   "source": [
    "### Flyers' international-flights habits"
   ]
  },
  {
   "cell_type": "code",
   "execution_count": 30,
   "metadata": {
    "hideCode": true,
    "hidePrompt": true,
    "slideshow": {
     "slide_type": "fragment"
    }
   },
   "outputs": [
    {
     "data": {
      "image/png": "[encoded data removed]",
      "text/plain": [
       "<Figure size 864x432 with 4 Axes>"
      ]
     },
     "metadata": {
      "needs_background": "light"
     },
     "output_type": "display_data"
    }
   ],
   "source": [
    "g = sns.FacetGrid(data=df_abroad, col='Flyer segment', row='Trav. abroad', height=3, aspect=2, margin_titles=True)  # df2[df2.TravelInsurance=='prospect']\n",
    "g.map(sns.barplot, 'Prop% to flyer segment', 'Employment Type', color='DarkBlue', order=None)  #x='Employment Type'\n",
    "g.fig.suptitle('Proportion of employees as perc. of the flyer segment (customer or prospect), segmented by international-flights habits', fontsize=18, y=1.05)\n",
    "plt.show()"
   ]
  },
  {
   "attachments": {},
   "cell_type": "markdown",
   "metadata": {
    "hideCode": true,
    "hidePrompt": true,
    "slideshow": {
     "slide_type": "fragment"
    }
   },
   "source": [
    "the difference in habits for international flights is even more flagrant :\n",
    "<li>58% of current customers, whereas almost all (93%) prospected customers, are <span style='color:DarkBlue '> domestic flyers </span>\n",
    "<li>just like in frequency habits, the proportion of <span style='color:DarkBlue '> private sector </span> employees is much higher in any cases"
   ]
  },
  {
   "attachments": {},
   "cell_type": "markdown",
   "metadata": {
    "hideCode": true,
    "hidePrompt": true,
    "slideshow": {
     "slide_type": "slide"
    }
   },
   "source": [
    "## 5. Q2:Typical profile of customers and non-customers"
   ]
  },
  {
   "attachments": {},
   "cell_type": "markdown",
   "metadata": {
    "hideCode": true,
    "hidePrompt": true,
    "slideshow": {
     "slide_type": "fragment"
    }
   },
   "source": [
    "Typical profile split :<br>\n",
    "<li><span style='color:DarkBlue '> Personal </span> features : Age, family-size, health-disease\n",
    "<li><span style='color:DarkBlue '> Professional </span> features : Employment Type, Graduation-level, Level of revenue\n",
    "<li>For further better data interpretation, data has been <span style='color:DarkBlue '> grouped into categories </span>"
   ]
  },
  {
   "attachments": {},
   "cell_type": "markdown",
   "metadata": {
    "hideCode": true,
    "hidePrompt": true,
    "slideshow": {
     "slide_type": "skip"
    }
   },
   "source": [
    "Reminder :<br>\n",
    "<p>Largest positive correlations:<br>\n",
    "AnnualIncome :  0.486 EverTravelledAbroad<br>\n",
    "FrequentFlyer :  0.353 AnnualIncome<br>\n",
    "EverTravelledAbroad :  0.486 AnnualIncome<br>\n",
    "TravelInsurance :  0.433 EverTravelledAbroad<br>\n",
    "Private_employer :  0.349 AnnualIncome</p>"
   ]
  },
  {
   "attachments": {},
   "cell_type": "markdown",
   "metadata": {
    "hideCode": true,
    "hidePrompt": true,
    "slideshow": {
     "slide_type": "skip"
    }
   },
   "source": [
    "### Ordering personal features"
   ]
  },
  {
   "cell_type": "code",
   "execution_count": 31,
   "metadata": {
    "hideCode": true,
    "hidePrompt": true,
    "slideshow": {
     "slide_type": "skip"
    }
   },
   "outputs": [
    {
     "data": {
      "text/html": [
       "<div>\n",
       "<style scoped>\n",
       "    .dataframe tbody tr th:only-of-type {\n",
       "        vertical-align: middle;\n",
       "    }\n",
       "\n",
       "    .dataframe tbody tr th {\n",
       "        vertical-align: top;\n",
       "    }\n",
       "\n",
       "    .dataframe thead th {\n",
       "        text-align: right;\n",
       "    }\n",
       "</style>\n",
       "<table border=\"1\" class=\"dataframe\">\n",
       "  <thead>\n",
       "    <tr style=\"text-align: right;\">\n",
       "      <th></th>\n",
       "      <th>Age</th>\n",
       "      <th>Employment Type</th>\n",
       "      <th>GraduateOrNot</th>\n",
       "      <th>AnnualIncome</th>\n",
       "      <th>FamilyMembers</th>\n",
       "      <th>ChronicDiseases</th>\n",
       "      <th>FrequentFlyer</th>\n",
       "      <th>EverTravelledAbroad</th>\n",
       "      <th>TravelInsurance</th>\n",
       "      <th>Private_employer</th>\n",
       "    </tr>\n",
       "  </thead>\n",
       "  <tbody>\n",
       "    <tr>\n",
       "      <th>1456</th>\n",
       "      <td>25</td>\n",
       "      <td>Private Sector/Self Employed</td>\n",
       "      <td>False</td>\n",
       "      <td>1700000</td>\n",
       "      <td>3</td>\n",
       "      <td>False</td>\n",
       "      <td>True</td>\n",
       "      <td>False</td>\n",
       "      <td>current customer</td>\n",
       "      <td>True</td>\n",
       "    </tr>\n",
       "    <tr>\n",
       "      <th>1244</th>\n",
       "      <td>25</td>\n",
       "      <td>Private Sector/Self Employed</td>\n",
       "      <td>False</td>\n",
       "      <td>1150000</td>\n",
       "      <td>3</td>\n",
       "      <td>True</td>\n",
       "      <td>False</td>\n",
       "      <td>True</td>\n",
       "      <td>prospect</td>\n",
       "      <td>True</td>\n",
       "    </tr>\n",
       "    <tr>\n",
       "      <th>595</th>\n",
       "      <td>25</td>\n",
       "      <td>Private Sector/Self Employed</td>\n",
       "      <td>False</td>\n",
       "      <td>1150000</td>\n",
       "      <td>5</td>\n",
       "      <td>True</td>\n",
       "      <td>True</td>\n",
       "      <td>False</td>\n",
       "      <td>prospect</td>\n",
       "      <td>True</td>\n",
       "    </tr>\n",
       "    <tr>\n",
       "      <th>592</th>\n",
       "      <td>25</td>\n",
       "      <td>Private Sector/Self Employed</td>\n",
       "      <td>True</td>\n",
       "      <td>1700000</td>\n",
       "      <td>4</td>\n",
       "      <td>False</td>\n",
       "      <td>True</td>\n",
       "      <td>False</td>\n",
       "      <td>current customer</td>\n",
       "      <td>True</td>\n",
       "    </tr>\n",
       "    <tr>\n",
       "      <th>1013</th>\n",
       "      <td>25</td>\n",
       "      <td>Private Sector/Self Employed</td>\n",
       "      <td>False</td>\n",
       "      <td>600000</td>\n",
       "      <td>4</td>\n",
       "      <td>False</td>\n",
       "      <td>True</td>\n",
       "      <td>False</td>\n",
       "      <td>prospect</td>\n",
       "      <td>True</td>\n",
       "    </tr>\n",
       "  </tbody>\n",
       "</table>\n",
       "</div>"
      ],
      "text/plain": [
       "      Age               Employment Type  GraduateOrNot  AnnualIncome  \\\n",
       "1456   25  Private Sector/Self Employed          False       1700000   \n",
       "1244   25  Private Sector/Self Employed          False       1150000   \n",
       "595    25  Private Sector/Self Employed          False       1150000   \n",
       "592    25  Private Sector/Self Employed           True       1700000   \n",
       "1013   25  Private Sector/Self Employed          False        600000   \n",
       "\n",
       "      FamilyMembers  ChronicDiseases  FrequentFlyer  EverTravelledAbroad  \\\n",
       "1456              3            False           True                False   \n",
       "1244              3             True          False                 True   \n",
       "595               5             True           True                False   \n",
       "592               4            False           True                False   \n",
       "1013              4            False           True                False   \n",
       "\n",
       "       TravelInsurance  Private_employer  \n",
       "1456  current customer              True  \n",
       "1244          prospect              True  \n",
       "595           prospect              True  \n",
       "592   current customer              True  \n",
       "1013          prospect              True  "
      ]
     },
     "execution_count": 31,
     "metadata": {},
     "output_type": "execute_result"
    }
   ],
   "source": [
    "# ordering dataframe by Age\n",
    "df2 = df2.sort_values('Age')\n",
    "df2.head()"
   ]
  },
  {
   "cell_type": "code",
   "execution_count": 32,
   "metadata": {
    "hideCode": true,
    "hidePrompt": true,
    "slideshow": {
     "slide_type": "skip"
    }
   },
   "outputs": [
    {
     "data": {
      "text/plain": [
       "1456    below 29yo\n",
       "1244    below 29yo\n",
       "595     below 29yo\n",
       "592     below 29yo\n",
       "1013    below 29yo\n",
       "Name: Age_category, dtype: category\n",
       "Categories (2, object): ['below 29yo' < 'above 29yo']"
      ]
     },
     "execution_count": 32,
     "metadata": {},
     "output_type": "execute_result"
    }
   ],
   "source": [
    "df_young = df2[df2.Age < 29]\n",
    "df_old = df2[df2.Age >= 29]\n",
    "\n",
    "df_young = df_young.assign(Age_category = 'below 29yo')\n",
    "df_old = df_old.assign(Age_category = 'above 29yo')\n",
    "\n",
    "df3 = pd.concat([df_young, df_old], axis=0)\n",
    "df3['Age_category'] = pd.Categorical(df3['Age_category'], categories=['below 29yo', 'above 29yo'], ordered=True)\n",
    "df3.Age_category.head()"
   ]
  },
  {
   "cell_type": "code",
   "execution_count": 33,
   "metadata": {
    "hideCode": true,
    "hidePrompt": true,
    "slideshow": {
     "slide_type": "skip"
    }
   },
   "outputs": [
    {
     "data": {
      "text/plain": [
       "1456    Small_Mid\n",
       "1244    Small_Mid\n",
       "595           Big\n",
       "592     Small_Mid\n",
       "1013    Small_Mid\n",
       "Name: family_type, dtype: category\n",
       "Categories (3, object): ['Couple' < 'Small_Mid' < 'Big']"
      ]
     },
     "execution_count": 33,
     "metadata": {},
     "output_type": "execute_result"
    }
   ],
   "source": [
    "#bucket family-size in 3 categories : couple or small single-parent-family (2), small-to-medium-family (3), bigger family (4 to ?)\n",
    "mapping_family ={2:'Couple', 3:'Small_Mid', 4:'Small_Mid', 5:'Big', 6:'Big', 7:'Big', 8:'Big', 9:'Big'}\n",
    "df3['family_type'] = df3['FamilyMembers'].replace(mapping_family).astype('category')\n",
    "df3['family_type'] = df3['family_type'].cat.set_categories(\n",
    "    new_categories=['Couple', 'Small_Mid', 'Big'],\n",
    "    ordered=True\n",
    ")\n",
    "df3.family_type.head()"
   ]
  },
  {
   "cell_type": "code",
   "execution_count": 34,
   "metadata": {
    "hideCode": true,
    "hidePrompt": true,
    "slideshow": {
     "slide_type": "skip"
    }
   },
   "outputs": [],
   "source": [
    "#Chronic-desease : alreadybinary"
   ]
  },
  {
   "attachments": {},
   "cell_type": "markdown",
   "metadata": {
    "hideCode": true,
    "hidePrompt": true,
    "slideshow": {
     "slide_type": "skip"
    }
   },
   "source": [
    "### Ordering professional features"
   ]
  },
  {
   "cell_type": "code",
   "execution_count": 35,
   "metadata": {
    "hideCode": true,
    "hidePrompt": true,
    "slideshow": {
     "slide_type": "skip"
    }
   },
   "outputs": [
    {
     "name": "stdout",
     "output_type": "stream",
     "text": [
      "1013    below 900k\n",
      "1399    below 900k\n",
      "397     below 900k\n",
      "629     below 900k\n",
      "1759    below 900k\n",
      "Name: Revenue_category, dtype: category\n",
      "Categories (2, object): ['below 900k' < 'above 900k']\n"
     ]
    },
    {
     "data": {
      "text/plain": [
       "above 900k    1044\n",
       "below 900k     943\n",
       "Name: Revenue_category, dtype: int64"
      ]
     },
     "execution_count": 35,
     "metadata": {},
     "output_type": "execute_result"
    }
   ],
   "source": [
    "#bucket revenue in 2: < 900k and >900k (900k is the median)\n",
    "df_poor = df3[df3.AnnualIncome < 900000]\n",
    "df_rich = df3[df3.AnnualIncome >= 900000]\n",
    "\n",
    "df_poor = df_poor.assign(Revenue_category = 'below 900k')\n",
    "df_rich = df_rich.assign(Revenue_category = 'above 900k')\n",
    "\n",
    "df4 = pd.concat([df_poor, df_rich], axis=0)\n",
    "df4['Revenue_category'] = pd.Categorical(df4['Revenue_category'], categories=['below 900k', 'above 900k'], ordered=True)\n",
    "print(df4.Revenue_category.head())\n",
    "df4.Revenue_category.value_counts()"
   ]
  },
  {
   "cell_type": "code",
   "execution_count": 36,
   "metadata": {
    "hideCode": true,
    "hidePrompt": true,
    "slideshow": {
     "slide_type": "skip"
    }
   },
   "outputs": [
    {
     "data": {
      "text/html": [
       "<div>\n",
       "<style scoped>\n",
       "    .dataframe tbody tr th:only-of-type {\n",
       "        vertical-align: middle;\n",
       "    }\n",
       "\n",
       "    .dataframe tbody tr th {\n",
       "        vertical-align: top;\n",
       "    }\n",
       "\n",
       "    .dataframe thead th {\n",
       "        text-align: right;\n",
       "    }\n",
       "</style>\n",
       "<table border=\"1\" class=\"dataframe\">\n",
       "  <thead>\n",
       "    <tr style=\"text-align: right;\">\n",
       "      <th></th>\n",
       "      <th>Age</th>\n",
       "      <th>Employment Type</th>\n",
       "      <th>GraduateOrNot</th>\n",
       "      <th>AnnualIncome</th>\n",
       "      <th>FamilyMembers</th>\n",
       "      <th>ChronicDiseases</th>\n",
       "      <th>FrequentFlyer</th>\n",
       "      <th>EverTravelledAbroad</th>\n",
       "      <th>TravelInsurance</th>\n",
       "      <th>Private_employer</th>\n",
       "      <th>Age_category</th>\n",
       "      <th>family_type</th>\n",
       "      <th>Revenue_category</th>\n",
       "    </tr>\n",
       "  </thead>\n",
       "  <tbody>\n",
       "    <tr>\n",
       "      <th>1457</th>\n",
       "      <td>25</td>\n",
       "      <td>Private Sector/Self Employed</td>\n",
       "      <td>False</td>\n",
       "      <td>600000</td>\n",
       "      <td>3</td>\n",
       "      <td>False</td>\n",
       "      <td>False</td>\n",
       "      <td>False</td>\n",
       "      <td>current customer</td>\n",
       "      <td>True</td>\n",
       "      <td>below 29yo</td>\n",
       "      <td>Small_Mid</td>\n",
       "      <td>below 900k</td>\n",
       "    </tr>\n",
       "  </tbody>\n",
       "</table>\n",
       "</div>"
      ],
      "text/plain": [
       "      Age               Employment Type  GraduateOrNot  AnnualIncome  \\\n",
       "1457   25  Private Sector/Self Employed          False        600000   \n",
       "\n",
       "      FamilyMembers  ChronicDiseases  FrequentFlyer  EverTravelledAbroad  \\\n",
       "1457              3            False          False                False   \n",
       "\n",
       "       TravelInsurance  Private_employer Age_category family_type  \\\n",
       "1457  current customer              True   below 29yo   Small_Mid   \n",
       "\n",
       "     Revenue_category  \n",
       "1457       below 900k  "
      ]
     },
     "metadata": {},
     "output_type": "display_data"
    },
    {
     "data": {
      "text/html": [
       "<div>\n",
       "<style scoped>\n",
       "    .dataframe tbody tr th:only-of-type {\n",
       "        vertical-align: middle;\n",
       "    }\n",
       "\n",
       "    .dataframe tbody tr th {\n",
       "        vertical-align: top;\n",
       "    }\n",
       "\n",
       "    .dataframe thead th {\n",
       "        text-align: right;\n",
       "    }\n",
       "</style>\n",
       "<table border=\"1\" class=\"dataframe\">\n",
       "  <thead>\n",
       "    <tr style=\"text-align: right;\">\n",
       "      <th></th>\n",
       "      <th>Age</th>\n",
       "      <th>Employment Type</th>\n",
       "      <th>GraduateOrNot</th>\n",
       "      <th>AnnualIncome</th>\n",
       "      <th>FamilyMembers</th>\n",
       "      <th>ChronicDiseases</th>\n",
       "      <th>FrequentFlyer</th>\n",
       "      <th>EverTravelledAbroad</th>\n",
       "      <th>TravelInsurance</th>\n",
       "      <th>Private_employer</th>\n",
       "      <th>Age_category</th>\n",
       "      <th>family_type</th>\n",
       "      <th>Revenue_category</th>\n",
       "    </tr>\n",
       "  </thead>\n",
       "  <tbody>\n",
       "    <tr>\n",
       "      <th>1013</th>\n",
       "      <td>25</td>\n",
       "      <td>Private Sector/Self Employed</td>\n",
       "      <td>False</td>\n",
       "      <td>600000</td>\n",
       "      <td>4</td>\n",
       "      <td>False</td>\n",
       "      <td>True</td>\n",
       "      <td>False</td>\n",
       "      <td>prospect</td>\n",
       "      <td>True</td>\n",
       "      <td>below 29yo</td>\n",
       "      <td>Small_Mid</td>\n",
       "      <td>below 900k</td>\n",
       "    </tr>\n",
       "  </tbody>\n",
       "</table>\n",
       "</div>"
      ],
      "text/plain": [
       "      Age               Employment Type  GraduateOrNot  AnnualIncome  \\\n",
       "1013   25  Private Sector/Self Employed          False        600000   \n",
       "\n",
       "      FamilyMembers  ChronicDiseases  FrequentFlyer  EverTravelledAbroad  \\\n",
       "1013              4            False           True                False   \n",
       "\n",
       "     TravelInsurance  Private_employer Age_category family_type  \\\n",
       "1013        prospect              True   below 29yo   Small_Mid   \n",
       "\n",
       "     Revenue_category  \n",
       "1013       below 900k  "
      ]
     },
     "metadata": {},
     "output_type": "display_data"
    }
   ],
   "source": [
    "# split dataset in \n",
    "# 1/ customers\n",
    "# 2/ non-customers = prospects\n",
    "\n",
    "customers = df4[df4.TravelInsurance == 'current customer']\n",
    "prospects = df4[df4.TravelInsurance == 'prospect']\n",
    "\n",
    "display(customers.head(1))\n",
    "display(prospects.head(1))"
   ]
  },
  {
   "cell_type": "code",
   "execution_count": 37,
   "metadata": {
    "hideCode": true,
    "hidePrompt": true,
    "slideshow": {
     "slide_type": "skip"
    }
   },
   "outputs": [
    {
     "name": "stdout",
     "output_type": "stream",
     "text": [
      "\n",
      " 34    0.187324\n",
      "28    0.147887\n",
      "25    0.129577\n",
      "33    0.109859\n",
      "31    0.105634\n",
      "26    0.104225\n",
      "29    0.071831\n",
      "30    0.039437\n",
      "35    0.039437\n",
      "27    0.038028\n",
      "32    0.026761\n",
      "Name: Age, dtype: float64\n",
      "\n",
      " Private Sector/Self Employed    0.802817\n",
      "Government Sector               0.197183\n",
      "Name: Employment Type, dtype: float64\n",
      "\n",
      " True     0.860563\n",
      "False    0.139437\n",
      "Name: GraduateOrNot, dtype: float64\n",
      "\n",
      " 1400000    0.167606\n",
      "1500000    0.111268\n",
      "800000     0.057746\n",
      "1350000    0.057746\n",
      "500000     0.049296\n",
      "1300000    0.049296\n",
      "1700000    0.046479\n",
      "1450000    0.043662\n",
      "700000     0.042254\n",
      "1100000    0.039437\n",
      "1200000    0.036620\n",
      "1050000    0.036620\n",
      "550000     0.032394\n",
      "600000     0.026761\n",
      "1000000    0.026761\n",
      "900000     0.022535\n",
      "1250000    0.018310\n",
      "850000     0.018310\n",
      "750000     0.018310\n",
      "1150000    0.018310\n",
      "650000     0.015493\n",
      "400000     0.014085\n",
      "300000     0.008451\n",
      "950000     0.008451\n",
      "1550000    0.007042\n",
      "450000     0.007042\n",
      "1750000    0.005634\n",
      "1800000    0.005634\n",
      "350000     0.005634\n",
      "1650000    0.002817\n",
      "Name: AnnualIncome, dtype: float64\n",
      "\n",
      " 4    0.225352\n",
      "3    0.190141\n",
      "5    0.184507\n",
      "6    0.181690\n",
      "7    0.114085\n",
      "2    0.038028\n",
      "9    0.036620\n",
      "8    0.029577\n",
      "Name: FamilyMembers, dtype: float64\n",
      "\n",
      " False    0.711268\n",
      "True     0.288732\n",
      "Name: ChronicDiseases, dtype: float64\n",
      "\n",
      " False    0.66338\n",
      "True     0.33662\n",
      "Name: FrequentFlyer, dtype: float64\n",
      "\n",
      " False    0.580282\n",
      "True     0.419718\n",
      "Name: EverTravelledAbroad, dtype: float64\n",
      "\n",
      " current customer    1.0\n",
      "prospect            0.0\n",
      "Name: TravelInsurance, dtype: float64\n",
      "\n",
      " True     0.802817\n",
      "False    0.197183\n",
      "Name: Private_employer, dtype: float64\n",
      "\n",
      " above 29yo    0.580282\n",
      "below 29yo    0.419718\n",
      "Name: Age_category, dtype: float64\n",
      "\n",
      " Big          0.546479\n",
      "Small_Mid    0.415493\n",
      "Couple       0.038028\n",
      "Name: family_type, dtype: float64\n",
      "\n",
      " above 900k    0.704225\n",
      "below 900k    0.295775\n",
      "Name: Revenue_category, dtype: float64\n"
     ]
    }
   ],
   "source": [
    "# observe results\n",
    "for c in customers.columns:\n",
    "    print('\\n', customers[c].value_counts(normalize=True))"
   ]
  },
  {
   "cell_type": "code",
   "execution_count": 38,
   "metadata": {
    "hideCode": true,
    "hidePrompt": true,
    "slideshow": {
     "slide_type": "skip"
    }
   },
   "outputs": [],
   "source": [
    "customers_personal = customers[['Age_category', 'family_type', 'ChronicDiseases']]\n",
    "prospects_personal = prospects[['Age_category', 'family_type', 'ChronicDiseases']]\n",
    "customers_professional = customers[['Employment Type', 'GraduateOrNot', 'Revenue_category']]\n",
    "prospects_professional = prospects[['Employment Type', 'GraduateOrNot', 'Revenue_category']]"
   ]
  },
  {
   "attachments": {},
   "cell_type": "markdown",
   "metadata": {
    "hideCode": true,
    "hidePrompt": true,
    "slideshow": {
     "slide_type": "fragment"
    }
   },
   "source": [
    "### Personal profiles"
   ]
  },
  {
   "cell_type": "code",
   "execution_count": 39,
   "metadata": {
    "hideCode": true,
    "hidePrompt": true,
    "slideshow": {
     "slide_type": "fragment"
    }
   },
   "outputs": [
    {
     "data": {
      "image/png": "[encoded data removed]",
      "text/plain": [
       "<Figure size 1296x216 with 3 Axes>"
      ]
     },
     "metadata": {
      "needs_background": "light"
     },
     "output_type": "display_data"
    }
   ],
   "source": [
    "# plot customers personal features\n",
    "fig, axs = plt.subplots(1, 3, figsize=(18,3))  # was 18,6\n",
    "\n",
    "for i, c in enumerate(customers_personal.columns):\n",
    "    #print(i+1, c)\n",
    "    dfc = customers[c].to_frame()\n",
    "    sns.countplot(data=dfc, x=dfc.columns[0], ax=axs[i])\n",
    "    axs[i].set_title('Count of indiv. vs ' + c)\n",
    "fig.suptitle('Customers typical personal profile', fontsize=20, y=1.05)\n",
    "plt.show()"
   ]
  },
  {
   "cell_type": "code",
   "execution_count": 40,
   "metadata": {
    "hideCode": true,
    "hidePrompt": true,
    "slideshow": {
     "slide_type": "fragment"
    }
   },
   "outputs": [
    {
     "data": {
      "image/png": "[encoded data removed]",
      "text/plain": [
       "<Figure size 1296x216 with 3 Axes>"
      ]
     },
     "metadata": {
      "needs_background": "light"
     },
     "output_type": "display_data"
    }
   ],
   "source": [
    "# plot prospects personal features\n",
    "fig, axs = plt.subplots(1, 3, figsize=(18,3))\n",
    "\n",
    "for i, c in enumerate(prospects_personal.columns):\n",
    "    #print(i+1, c)\n",
    "    dfc = prospects[c].to_frame()\n",
    "    sns.countplot(data=dfc, x=dfc.columns[0], ax=axs[i])\n",
    "    axs[i].set_title('Count of indiv. vs ' + c)\n",
    "fig.suptitle('Prospects typical personal profile', fontsize=20, y=1.05)\n",
    "plt.show()"
   ]
  },
  {
   "attachments": {},
   "cell_type": "markdown",
   "metadata": {
    "hideCode": true,
    "hidePrompt": true,
    "slideshow": {
     "slide_type": "fragment"
    }
   },
   "source": [
    "<li>Prospects : larger proportion of <span style='color:DarkBlue '> younger people</span> with <span style='color:DarkBlue '> less diseases</span>"
   ]
  },
  {
   "attachments": {},
   "cell_type": "markdown",
   "metadata": {
    "hideCode": true,
    "hidePrompt": true,
    "slideshow": {
     "slide_type": "subslide"
    }
   },
   "source": [
    "### Professional profiles"
   ]
  },
  {
   "cell_type": "code",
   "execution_count": 41,
   "metadata": {
    "hideCode": true,
    "hidePrompt": true,
    "slideshow": {
     "slide_type": "fragment"
    }
   },
   "outputs": [
    {
     "data": {
      "image/png": "[encoded data removed]",
      "text/plain": [
       "<Figure size 1296x216 with 3 Axes>"
      ]
     },
     "metadata": {
      "needs_background": "light"
     },
     "output_type": "display_data"
    }
   ],
   "source": [
    "# plot customers professional features\n",
    "fig, axs = plt.subplots(1, 3, figsize=(18,3))\n",
    "\n",
    "for i, c in enumerate(customers_professional.columns):\n",
    "    #print(i+1, c)\n",
    "    dfc = customers[c].to_frame()\n",
    "    sns.countplot(data=dfc, x=dfc.columns[0], ax=axs[i])\n",
    "    axs[i].set_title('Count of indiv. vs ' + c)\n",
    "fig.suptitle('Customers typical professional profile', fontsize=20, y=1.05)\n",
    "plt.show()"
   ]
  },
  {
   "cell_type": "code",
   "execution_count": 42,
   "metadata": {
    "hideCode": true,
    "hidePrompt": true,
    "slideshow": {
     "slide_type": "fragment"
    }
   },
   "outputs": [
    {
     "data": {
      "image/png": "[encoded data removed]",
      "text/plain": [
       "<Figure size 1296x216 with 3 Axes>"
      ]
     },
     "metadata": {
      "needs_background": "light"
     },
     "output_type": "display_data"
    }
   ],
   "source": [
    "# plot prospects professional features\n",
    "fig, axs = plt.subplots(1, 3, figsize=(18,3))\n",
    "\n",
    "for i, c in enumerate(prospects_professional.columns):\n",
    "    #print(i+1, c)\n",
    "    dfc = prospects[c].to_frame()\n",
    "    sns.countplot(data=dfc, x=dfc.columns[0], ax=axs[i])\n",
    "    axs[i].set_title('Count of indiv. vs ' + c)\n",
    "fig.suptitle('Prospects typical professional profile', fontsize=20, y=1.05)\n",
    "plt.show()"
   ]
  },
  {
   "attachments": {},
   "cell_type": "markdown",
   "metadata": {
    "hideCode": true,
    "hidePrompt": true,
    "slideshow": {
     "slide_type": "fragment"
    }
   },
   "source": [
    "<li>Prospects : larger proportion in <span style='color:DarkBlue '> Government Sector or Revenues below 900k</span> than in Private Sector"
   ]
  },
  {
   "cell_type": "code",
   "execution_count": 43,
   "metadata": {
    "hideCode": true,
    "hidePrompt": true,
    "slideshow": {
     "slide_type": "skip"
    }
   },
   "outputs": [
    {
     "data": {
      "text/html": [
       "<div>\n",
       "<style scoped>\n",
       "    .dataframe tbody tr th:only-of-type {\n",
       "        vertical-align: middle;\n",
       "    }\n",
       "\n",
       "    .dataframe tbody tr th {\n",
       "        vertical-align: top;\n",
       "    }\n",
       "\n",
       "    .dataframe thead th {\n",
       "        text-align: right;\n",
       "    }\n",
       "</style>\n",
       "<table border=\"1\" class=\"dataframe\">\n",
       "  <thead>\n",
       "    <tr style=\"text-align: right;\">\n",
       "      <th></th>\n",
       "      <th>TravelInsurance</th>\n",
       "      <th>current customer</th>\n",
       "      <th>prospect</th>\n",
       "      <th>grandtotal</th>\n",
       "      <th>prosp_perc</th>\n",
       "    </tr>\n",
       "    <tr>\n",
       "      <th>Employment Type</th>\n",
       "      <th>Revenue_category</th>\n",
       "      <th></th>\n",
       "      <th></th>\n",
       "      <th></th>\n",
       "      <th></th>\n",
       "    </tr>\n",
       "  </thead>\n",
       "  <tbody>\n",
       "    <tr>\n",
       "      <th rowspan=\"2\" valign=\"top\">Government Sector</th>\n",
       "      <th>below 900k</th>\n",
       "      <td>71</td>\n",
       "      <td>321</td>\n",
       "      <td>392</td>\n",
       "      <td>81.9</td>\n",
       "    </tr>\n",
       "    <tr>\n",
       "      <th>above 900k</th>\n",
       "      <td>69</td>\n",
       "      <td>109</td>\n",
       "      <td>178</td>\n",
       "      <td>61.2</td>\n",
       "    </tr>\n",
       "    <tr>\n",
       "      <th rowspan=\"2\" valign=\"top\">Private Sector/Self Employed</th>\n",
       "      <th>below 900k</th>\n",
       "      <td>139</td>\n",
       "      <td>412</td>\n",
       "      <td>551</td>\n",
       "      <td>74.8</td>\n",
       "    </tr>\n",
       "    <tr>\n",
       "      <th>above 900k</th>\n",
       "      <td>431</td>\n",
       "      <td>435</td>\n",
       "      <td>866</td>\n",
       "      <td>50.2</td>\n",
       "    </tr>\n",
       "    <tr>\n",
       "      <th>grandtotal</th>\n",
       "      <th></th>\n",
       "      <td>710</td>\n",
       "      <td>1277</td>\n",
       "      <td>1987</td>\n",
       "      <td>64.3</td>\n",
       "    </tr>\n",
       "  </tbody>\n",
       "</table>\n",
       "</div>"
      ],
      "text/plain": [
       "TravelInsurance                                current customer  prospect  \\\n",
       "Employment Type              Revenue_category                               \n",
       "Government Sector            below 900k                      71       321   \n",
       "                             above 900k                      69       109   \n",
       "Private Sector/Self Employed below 900k                     139       412   \n",
       "                             above 900k                     431       435   \n",
       "grandtotal                                                  710      1277   \n",
       "\n",
       "TravelInsurance                                grandtotal  prosp_perc  \n",
       "Employment Type              Revenue_category                          \n",
       "Government Sector            below 900k               392        81.9  \n",
       "                             above 900k               178        61.2  \n",
       "Private Sector/Self Employed below 900k               551        74.8  \n",
       "                             above 900k               866        50.2  \n",
       "grandtotal                                           1987        64.3  "
      ]
     },
     "execution_count": 43,
     "metadata": {},
     "output_type": "execute_result"
    }
   ],
   "source": [
    "pivoted = df4.pivot_table(values='Age', index=['Employment Type', 'Revenue_category'], columns='TravelInsurance', aggfunc='count', margins=True, margins_name='grandtotal')\n",
    "pivoted2 = pivoted.assign(prosp_perc = lambda pivoted2: round(pivoted.prospect/pivoted.grandtotal*100, 1))\n",
    "pivoted2"
   ]
  },
  {
   "cell_type": "code",
   "execution_count": 44,
   "metadata": {
    "hideCode": true,
    "hidePrompt": true,
    "slideshow": {
     "slide_type": "skip"
    }
   },
   "outputs": [
    {
     "data": {
      "text/html": [
       "<div>\n",
       "<style scoped>\n",
       "    .dataframe tbody tr th:only-of-type {\n",
       "        vertical-align: middle;\n",
       "    }\n",
       "\n",
       "    .dataframe tbody tr th {\n",
       "        vertical-align: top;\n",
       "    }\n",
       "\n",
       "    .dataframe thead th {\n",
       "        text-align: right;\n",
       "    }\n",
       "</style>\n",
       "<table border=\"1\" class=\"dataframe\">\n",
       "  <thead>\n",
       "    <tr style=\"text-align: right;\">\n",
       "      <th></th>\n",
       "      <th>TravelInsurance</th>\n",
       "      <th>current customer</th>\n",
       "      <th>prospect</th>\n",
       "      <th>grandtotal</th>\n",
       "      <th>prosp_perc</th>\n",
       "    </tr>\n",
       "    <tr>\n",
       "      <th>FrequentFlyer</th>\n",
       "      <th>EverTravelledAbroad</th>\n",
       "      <th></th>\n",
       "      <th></th>\n",
       "      <th></th>\n",
       "      <th></th>\n",
       "    </tr>\n",
       "  </thead>\n",
       "  <tbody>\n",
       "    <tr>\n",
       "      <th rowspan=\"2\" valign=\"top\">False</th>\n",
       "      <th>False</th>\n",
       "      <td>321</td>\n",
       "      <td>1037</td>\n",
       "      <td>1358</td>\n",
       "      <td>76.4</td>\n",
       "    </tr>\n",
       "    <tr>\n",
       "      <th>True</th>\n",
       "      <td>150</td>\n",
       "      <td>62</td>\n",
       "      <td>212</td>\n",
       "      <td>29.2</td>\n",
       "    </tr>\n",
       "    <tr>\n",
       "      <th rowspan=\"2\" valign=\"top\">True</th>\n",
       "      <th>False</th>\n",
       "      <td>91</td>\n",
       "      <td>158</td>\n",
       "      <td>249</td>\n",
       "      <td>63.5</td>\n",
       "    </tr>\n",
       "    <tr>\n",
       "      <th>True</th>\n",
       "      <td>148</td>\n",
       "      <td>20</td>\n",
       "      <td>168</td>\n",
       "      <td>11.9</td>\n",
       "    </tr>\n",
       "    <tr>\n",
       "      <th>grandtotal</th>\n",
       "      <th></th>\n",
       "      <td>710</td>\n",
       "      <td>1277</td>\n",
       "      <td>1987</td>\n",
       "      <td>64.3</td>\n",
       "    </tr>\n",
       "  </tbody>\n",
       "</table>\n",
       "</div>"
      ],
      "text/plain": [
       "TravelInsurance                    current customer  prospect  grandtotal  \\\n",
       "FrequentFlyer EverTravelledAbroad                                           \n",
       "False         False                             321      1037        1358   \n",
       "              True                              150        62         212   \n",
       "True          False                              91       158         249   \n",
       "              True                              148        20         168   \n",
       "grandtotal                                      710      1277        1987   \n",
       "\n",
       "TravelInsurance                    prosp_perc  \n",
       "FrequentFlyer EverTravelledAbroad              \n",
       "False         False                      76.4  \n",
       "              True                       29.2  \n",
       "True          False                      63.5  \n",
       "              True                       11.9  \n",
       "grandtotal                               64.3  "
      ]
     },
     "execution_count": 44,
     "metadata": {},
     "output_type": "execute_result"
    }
   ],
   "source": [
    "pivoted = df4.pivot_table(values='Age', index=['FrequentFlyer', 'EverTravelledAbroad'], columns='TravelInsurance', aggfunc='count', margins=True, margins_name='grandtotal')\n",
    "pivoted2 = pivoted.assign(prosp_perc = lambda pivoted2: round(pivoted.prospect/pivoted.grandtotal*100, 1))\n",
    "pivoted2"
   ]
  },
  {
   "attachments": {},
   "cell_type": "markdown",
   "metadata": {
    "hideCode": true,
    "hidePrompt": true,
    "slideshow": {
     "slide_type": "fragment"
    }
   },
   "source": [
    "According to figures :\n",
    "<li><span style='color:DarkBlue '> Government sector </span> and <span style='color:DarkBlue '> low-revenue </span> categories clear show better development opportunities\n",
    "<li><span style='color:DarkBlue '> Occasional </span> and <span style='color:DarkBlue '> domestic flyers </span> are of particular concern"
   ]
  },
  {
   "attachments": {},
   "cell_type": "markdown",
   "metadata": {
    "hideCode": true,
    "hidePrompt": true,
    "slideshow": {
     "slide_type": "slide"
    }
   },
   "source": [
    "## 6. Conclusion and recommendations"
   ]
  },
  {
   "attachments": {},
   "cell_type": "markdown",
   "metadata": {
    "hideCode": true,
    "hidePrompt": true
   },
   "source": [
    "The initial questions of marketing team were :\n",
    "<li>Are there differences in travel habits between customers and non-customers?\n",
    "<li>What is the typical profile of customers and non-customers?</li>\n",
    "\n",
    "There is a very large proportion of prospects who <span style='color:DarkBlue '> never travelled abroad </span>.\n",
    "They are mainly <span style='color:DarkBlue '> intermittent flyers </span>.<br>\n",
    "Our recommandation is to focus our advertising plan on :\n",
    "1. <span style='color:DarkBlue '> domestic travellers </span> travellers\n",
    "2. <span style='color:DarkBlue '> unfrequent </span> travellers"
   ]
  },
  {
   "attachments": {},
   "cell_type": "markdown",
   "metadata": {
    "hideCode": true,
    "hidePrompt": true
   },
   "source": [
    "Basic international policies, like emergency medical expenses while overseas, should not of immediate concern to focus on. <br>Anyway <span style='color:DarkBlue '> comprehensive-policies </span> such as trip cancellation, lost luggage or maybe flight delays coverage are more <span style='color:DarkBlue '> suspected to be of interest </span> for our prospect-flyers.\n",
    "\n",
    "Typical profiles of prospects are <span style='color:DarkBlue '> graduated invividuals with revenues < 900k </span>, working in Private sector or self-employed.\n",
    "Big-revenues-flyers seem to get already engaged into our programs."
   ]
  },
  {
   "attachments": {},
   "cell_type": "markdown",
   "metadata": {
    "hideCode": true,
    "hidePrompt": true
   },
   "source": [
    "As a further proposal, it could be interesting to mix those flying habits and profiles to priorize business-development actions.<br>\n",
    "Another interesting input could be if flights are for private or professional use, in order to adapt policies."
   ]
  }
 ],
 "metadata": {
  "celltoolbar": "Slideshow",
  "hide_code_all_hidden": true,
  "kernelspec": {
   "display_name": "Python 3 (ipykernel)",
   "language": "python",
   "name": "python3"
  },
  "language_info": {
   "codemirror_mode": {
    "name": "ipython",
    "version": 3
   },
   "file_extension": ".py",
   "mimetype": "text/x-python",
   "name": "python",
   "nbconvert_exporter": "python",
   "pygments_lexer": "ipython3",
   "version": "3.10.4"
  },
  "vscode": {
   "interpreter": {
    "hash": "e71451b1ae62d104855a7a7f0e9d50c6ae27d2589de76573f6a4bf04b655629c"
   }
  }
 },
 "nbformat": 4,
 "nbformat_minor": 2
}
