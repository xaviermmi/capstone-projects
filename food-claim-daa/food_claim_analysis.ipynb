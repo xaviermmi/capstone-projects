{
 "cells": [
  {
   "attachments": {},
   "cell_type": "markdown",
   "metadata": {},
   "source": [
    "# Case Study Project - Food Claims Process"
   ]
  },
  {
   "attachments": {},
   "cell_type": "markdown",
   "metadata": {},
   "source": [
    "## Company Background and customer Question\n",
    "\n",
    "<p>Vivendo is a fast food chain in Brazil with over 200 outlets. As with many fast food\n",
    "establishments, customers make claims against the company. For example, they blame\n",
    "Vivendo for suspected food poisoning.\n",
    "The legal team, who processes these claims, is currently split across four locations. The new\n",
    "head of the legal department wants to see **if there are differences in the time it takes to close\n",
    "claims across the locations.**</p>\n",
    "\n",
    "<p>The legal team has given you a data set where each row is a claim made against the\n",
    "company. They would like you to answer the following questions:\n",
    "<li>How does the number of claims differ across locations?\n",
    "<li>What is the distribution of time to close claims?\n",
    "<li>How does the average time to close claims differ by location?</li></p>\n"
   ]
  },
  {
   "attachments": {},
   "cell_type": "markdown",
   "metadata": {},
   "source": [
    "## 1. Imports & setup"
   ]
  },
  {
   "attachments": {},
   "cell_type": "markdown",
   "metadata": {},
   "source": [
    "### 1.1. Libraries"
   ]
  },
  {
   "cell_type": "code",
   "execution_count": 1,
   "metadata": {},
   "outputs": [],
   "source": [
    "import numpy as np\n",
    "import pandas as pd\n",
    "import matplotlib\n",
    "import matplotlib.pyplot as plt\n",
    "import seaborn as sns\n"
   ]
  },
  {
   "attachments": {},
   "cell_type": "markdown",
   "metadata": {},
   "source": [
    "### 1.2. Viz parameters"
   ]
  },
  {
   "cell_type": "code",
   "execution_count": 2,
   "metadata": {},
   "outputs": [],
   "source": [
    "sns.set_style('whitegrid')\n",
    "sns.set_palette(\"husl\",3)\n",
    "matplotlib.rcParams.update({'font.size': 12})"
   ]
  },
  {
   "attachments": {},
   "cell_type": "markdown",
   "metadata": {},
   "source": [
    "### 1.3. Load dataset"
   ]
  },
  {
   "cell_type": "code",
   "execution_count": 3,
   "metadata": {},
   "outputs": [
    {
     "data": {
      "text/html": [
       "<div>\n",
       "<style scoped>\n",
       "    .dataframe tbody tr th:only-of-type {\n",
       "        vertical-align: middle;\n",
       "    }\n",
       "\n",
       "    .dataframe tbody tr th {\n",
       "        vertical-align: top;\n",
       "    }\n",
       "\n",
       "    .dataframe thead th {\n",
       "        text-align: right;\n",
       "    }\n",
       "</style>\n",
       "<table border=\"1\" class=\"dataframe\">\n",
       "  <thead>\n",
       "    <tr style=\"text-align: right;\">\n",
       "      <th></th>\n",
       "      <th>Claim ID</th>\n",
       "      <th>Time to Close</th>\n",
       "      <th>Claim Amount</th>\n",
       "      <th>Amount Paid</th>\n",
       "      <th>Location</th>\n",
       "      <th>Individuals on Claim</th>\n",
       "      <th>Linked Cases</th>\n",
       "      <th>Cause</th>\n",
       "    </tr>\n",
       "  </thead>\n",
       "  <tbody>\n",
       "    <tr>\n",
       "      <th>0</th>\n",
       "      <td>0000000-00.2010.0.00.0094</td>\n",
       "      <td>2082</td>\n",
       "      <td>R$50,000.00</td>\n",
       "      <td>34297.47</td>\n",
       "      <td>RECIFE</td>\n",
       "      <td>2</td>\n",
       "      <td>False</td>\n",
       "      <td>NaN</td>\n",
       "    </tr>\n",
       "    <tr>\n",
       "      <th>1</th>\n",
       "      <td>0000000-00.2011.0.00.0086</td>\n",
       "      <td>3591</td>\n",
       "      <td>R$180,000.00</td>\n",
       "      <td>56383.54</td>\n",
       "      <td>SAO LUIS</td>\n",
       "      <td>7</td>\n",
       "      <td>False</td>\n",
       "      <td>NaN</td>\n",
       "    </tr>\n",
       "    <tr>\n",
       "      <th>2</th>\n",
       "      <td>0000000-00.2012.0.00.0092</td>\n",
       "      <td>2997</td>\n",
       "      <td>R$70,000.00</td>\n",
       "      <td>12366.76</td>\n",
       "      <td>SAO LUIS</td>\n",
       "      <td>3</td>\n",
       "      <td>False</td>\n",
       "      <td>vegetables</td>\n",
       "    </tr>\n",
       "    <tr>\n",
       "      <th>3</th>\n",
       "      <td>0000000-00.2013.0.00.0096</td>\n",
       "      <td>1143</td>\n",
       "      <td>R$95,104.00</td>\n",
       "      <td>29217.16</td>\n",
       "      <td>FORTALEZA</td>\n",
       "      <td>4</td>\n",
       "      <td>False</td>\n",
       "      <td>NaN</td>\n",
       "    </tr>\n",
       "    <tr>\n",
       "      <th>4</th>\n",
       "      <td>0000000-00.2014.0.00.0097</td>\n",
       "      <td>117</td>\n",
       "      <td>R$29,000.00</td>\n",
       "      <td>12610.50</td>\n",
       "      <td>FORTALEZA</td>\n",
       "      <td>1</td>\n",
       "      <td>False</td>\n",
       "      <td>meat</td>\n",
       "    </tr>\n",
       "  </tbody>\n",
       "</table>\n",
       "</div>"
      ],
      "text/plain": [
       "                    Claim ID  Time to Close  Claim Amount  Amount Paid  \\\n",
       "0  0000000-00.2010.0.00.0094           2082   R$50,000.00     34297.47   \n",
       "1  0000000-00.2011.0.00.0086           3591  R$180,000.00     56383.54   \n",
       "2  0000000-00.2012.0.00.0092           2997   R$70,000.00     12366.76   \n",
       "3  0000000-00.2013.0.00.0096           1143   R$95,104.00     29217.16   \n",
       "4  0000000-00.2014.0.00.0097            117   R$29,000.00     12610.50   \n",
       "\n",
       "    Location  Individuals on Claim  Linked Cases       Cause  \n",
       "0     RECIFE                     2         False         NaN  \n",
       "1   SAO LUIS                     7         False         NaN  \n",
       "2   SAO LUIS                     3         False  vegetables  \n",
       "3  FORTALEZA                     4         False         NaN  \n",
       "4  FORTALEZA                     1         False        meat  "
      ]
     },
     "execution_count": 3,
     "metadata": {},
     "output_type": "execute_result"
    }
   ],
   "source": [
    "df = pd.read_csv('datasets/claims.csv')\n",
    "df.head()"
   ]
  },
  {
   "attachments": {},
   "cell_type": "markdown",
   "metadata": {},
   "source": [
    "## 2. Data preparation"
   ]
  },
  {
   "attachments": {},
   "cell_type": "markdown",
   "metadata": {},
   "source": [
    "### 2.1. Data validation"
   ]
  },
  {
   "attachments": {},
   "cell_type": "markdown",
   "metadata": {},
   "source": [
    "TODO : package following code into a function called \"describe\""
   ]
  },
  {
   "cell_type": "code",
   "execution_count": 4,
   "metadata": {},
   "outputs": [
    {
     "name": "stdout",
     "output_type": "stream",
     "text": [
      "df dataframe -  shape:(98, 8) dupl:0\n"
     ]
    },
    {
     "data": {
      "text/html": [
       "<div>\n",
       "<style scoped>\n",
       "    .dataframe tbody tr th:only-of-type {\n",
       "        vertical-align: middle;\n",
       "    }\n",
       "\n",
       "    .dataframe tbody tr th {\n",
       "        vertical-align: top;\n",
       "    }\n",
       "\n",
       "    .dataframe thead th {\n",
       "        text-align: right;\n",
       "    }\n",
       "</style>\n",
       "<table border=\"1\" class=\"dataframe\">\n",
       "  <thead>\n",
       "    <tr style=\"text-align: right;\">\n",
       "      <th></th>\n",
       "      <th></th>\n",
       "      <th>duplicates</th>\n",
       "      <th>na</th>\n",
       "      <th>unique</th>\n",
       "      <th>dtype</th>\n",
       "      <th>non-null count</th>\n",
       "      <th>mean/mode</th>\n",
       "      <th>std</th>\n",
       "      <th>min</th>\n",
       "      <th>25%</th>\n",
       "      <th>50%</th>\n",
       "      <th>75%</th>\n",
       "      <th>max</th>\n",
       "    </tr>\n",
       "    <tr>\n",
       "      <th>#</th>\n",
       "      <th>Column</th>\n",
       "      <th></th>\n",
       "      <th></th>\n",
       "      <th></th>\n",
       "      <th></th>\n",
       "      <th></th>\n",
       "      <th></th>\n",
       "      <th></th>\n",
       "      <th></th>\n",
       "      <th></th>\n",
       "      <th></th>\n",
       "      <th></th>\n",
       "      <th></th>\n",
       "    </tr>\n",
       "  </thead>\n",
       "  <tbody>\n",
       "    <tr>\n",
       "      <th>0</th>\n",
       "      <th>Claim ID</th>\n",
       "      <td>0</td>\n",
       "      <td>0</td>\n",
       "      <td>98</td>\n",
       "      <td>object</td>\n",
       "      <td>98.0</td>\n",
       "      <td>0000000-00.2010.0.00.0094</td>\n",
       "      <td>NC</td>\n",
       "      <td>NC</td>\n",
       "      <td>NC</td>\n",
       "      <td>NC</td>\n",
       "      <td>NC</td>\n",
       "      <td>NC</td>\n",
       "    </tr>\n",
       "    <tr>\n",
       "      <th>1</th>\n",
       "      <th>Time to Close</th>\n",
       "      <td>2</td>\n",
       "      <td>0</td>\n",
       "      <td>96</td>\n",
       "      <td>int64</td>\n",
       "      <td>98.0</td>\n",
       "      <td>832.35</td>\n",
       "      <td>686.85</td>\n",
       "      <td>-57.0</td>\n",
       "      <td>340.75</td>\n",
       "      <td>638.5</td>\n",
       "      <td>1138.75</td>\n",
       "      <td>3591.0</td>\n",
       "    </tr>\n",
       "    <tr>\n",
       "      <th>2</th>\n",
       "      <th>Claim Amount</th>\n",
       "      <td>24</td>\n",
       "      <td>0</td>\n",
       "      <td>74</td>\n",
       "      <td>object</td>\n",
       "      <td>98.0</td>\n",
       "      <td>R$40,000.00</td>\n",
       "      <td>NC</td>\n",
       "      <td>NC</td>\n",
       "      <td>NC</td>\n",
       "      <td>NC</td>\n",
       "      <td>NC</td>\n",
       "      <td>NC</td>\n",
       "    </tr>\n",
       "    <tr>\n",
       "      <th>3</th>\n",
       "      <th>Amount Paid</th>\n",
       "      <td>0</td>\n",
       "      <td>0</td>\n",
       "      <td>98</td>\n",
       "      <td>float64</td>\n",
       "      <td>98.0</td>\n",
       "      <td>58448.24</td>\n",
       "      <td>87525.87</td>\n",
       "      <td>999.68</td>\n",
       "      <td>15965.64</td>\n",
       "      <td>29451.04</td>\n",
       "      <td>52114.76</td>\n",
       "      <td>558725.77</td>\n",
       "    </tr>\n",
       "    <tr>\n",
       "      <th>4</th>\n",
       "      <th>Location</th>\n",
       "      <td>94</td>\n",
       "      <td>0</td>\n",
       "      <td>4</td>\n",
       "      <td>object</td>\n",
       "      <td>98.0</td>\n",
       "      <td>SAO LUIS</td>\n",
       "      <td>NC</td>\n",
       "      <td>NC</td>\n",
       "      <td>NC</td>\n",
       "      <td>NC</td>\n",
       "      <td>NC</td>\n",
       "      <td>NC</td>\n",
       "    </tr>\n",
       "    <tr>\n",
       "      <th>5</th>\n",
       "      <th>Individuals on Claim</th>\n",
       "      <td>79</td>\n",
       "      <td>0</td>\n",
       "      <td>19</td>\n",
       "      <td>int64</td>\n",
       "      <td>98.0</td>\n",
       "      <td>4.91</td>\n",
       "      <td>7.29</td>\n",
       "      <td>0.0</td>\n",
       "      <td>1.0</td>\n",
       "      <td>2.0</td>\n",
       "      <td>5.75</td>\n",
       "      <td>41.0</td>\n",
       "    </tr>\n",
       "    <tr>\n",
       "      <th>6</th>\n",
       "      <th>Linked Cases</th>\n",
       "      <td>96</td>\n",
       "      <td>0</td>\n",
       "      <td>2</td>\n",
       "      <td>bool</td>\n",
       "      <td>98.0</td>\n",
       "      <td>False</td>\n",
       "      <td>NC</td>\n",
       "      <td>NC</td>\n",
       "      <td>NC</td>\n",
       "      <td>NC</td>\n",
       "      <td>NC</td>\n",
       "      <td>NC</td>\n",
       "    </tr>\n",
       "    <tr>\n",
       "      <th>7</th>\n",
       "      <th>Cause</th>\n",
       "      <td>95</td>\n",
       "      <td>78</td>\n",
       "      <td>2</td>\n",
       "      <td>object</td>\n",
       "      <td>20.0</td>\n",
       "      <td>meat</td>\n",
       "      <td>NC</td>\n",
       "      <td>NC</td>\n",
       "      <td>NC</td>\n",
       "      <td>NC</td>\n",
       "      <td>NC</td>\n",
       "      <td>NC</td>\n",
       "    </tr>\n",
       "  </tbody>\n",
       "</table>\n",
       "</div>"
      ],
      "text/plain": [
       "                        duplicates  na  unique    dtype  non-null count  \\\n",
       "# Column                                                                  \n",
       "0 Claim ID                       0   0      98   object            98.0   \n",
       "1 Time to Close                  2   0      96    int64            98.0   \n",
       "2 Claim Amount                  24   0      74   object            98.0   \n",
       "3 Amount Paid                    0   0      98  float64            98.0   \n",
       "4 Location                      94   0       4   object            98.0   \n",
       "5 Individuals on Claim          79   0      19    int64            98.0   \n",
       "6 Linked Cases                  96   0       2     bool            98.0   \n",
       "7 Cause                         95  78       2   object            20.0   \n",
       "\n",
       "                                        mean/mode       std     min       25%  \\\n",
       "# Column                                                                        \n",
       "0 Claim ID              0000000-00.2010.0.00.0094        NC      NC        NC   \n",
       "1 Time to Close                            832.35    686.85   -57.0    340.75   \n",
       "2 Claim Amount                        R$40,000.00        NC      NC        NC   \n",
       "3 Amount Paid                            58448.24  87525.87  999.68  15965.64   \n",
       "4 Location                               SAO LUIS        NC      NC        NC   \n",
       "5 Individuals on Claim                       4.91      7.29     0.0       1.0   \n",
       "6 Linked Cases                              False        NC      NC        NC   \n",
       "7 Cause                                      meat        NC      NC        NC   \n",
       "\n",
       "                             50%       75%        max  \n",
       "# Column                                               \n",
       "0 Claim ID                    NC        NC         NC  \n",
       "1 Time to Close            638.5   1138.75     3591.0  \n",
       "2 Claim Amount                NC        NC         NC  \n",
       "3 Amount Paid           29451.04  52114.76  558725.77  \n",
       "4 Location                    NC        NC         NC  \n",
       "5 Individuals on Claim       2.0      5.75       41.0  \n",
       "6 Linked Cases                NC        NC         NC  \n",
       "7 Cause                       NC        NC         NC  "
      ]
     },
     "metadata": {},
     "output_type": "display_data"
    }
   ],
   "source": [
    "keys = ['df']\n",
    "values = [df]\n",
    "for z1, z2 in zip(keys, values):\n",
    "    shape = z2.shape\n",
    "    ncol = z2.shape[1]\n",
    "    dup = z2.duplicated().sum()\n",
    "    na = z2.isna().sum()\n",
    "    uq = z2.nunique()\n",
    "    datalists = dict()\n",
    "    keys_p = ['duplicates', 'na', 'unique', 'dtype']\n",
    "    keys_d = ['non-null count', 'mean/mode', 'std', 'min', '25%', '50%', '75%', 'max']\n",
    "    for k in (keys_p + keys_d):\n",
    "        datalists[k] = []\n",
    "    for col in range(ncol):  #loading keys_p values\n",
    "        datalists['duplicates'].append(z2.iloc[:,col].duplicated().sum())\n",
    "        datalists['na'].append(z2.isna().sum()[col])\n",
    "        datalists['unique'].append(z2.nunique()[col])\n",
    "        datalists['dtype'].append(z2.dtypes[col])\n",
    "    for k2 in enumerate(keys_d):  # loading keys_d values\n",
    "        for col in range(ncol):\n",
    "            if len(z2.iloc[:,col].describe())==8: # describe method outputs 8 values on numeric columns, 4 on others\n",
    "                datalists[k2[1]].append(round(z2.iloc[:,col].describe()[k2[0]],2))\n",
    "            else:\n",
    "                if k2[1]=='non-null count':\n",
    "                    datalists[k2[1]].append(z2.count()[col])\n",
    "                elif k2[1]=='mean/mode':\n",
    "                    datalists[k2[1]].append(z2.iloc[:,col].mode()[0])\n",
    "                else:\n",
    "                    datalists[k2[1]].append('NC')\n",
    "    print(z1, 'dataframe - ', f'shape:{shape}', f'dupl:{dup}')\n",
    "    display(pd.DataFrame(datalists, index = pd.MultiIndex.from_tuples([c for c in enumerate(z2.columns)], names=['#', 'Column'])))"
   ]
  },
  {
   "attachments": {},
   "cell_type": "markdown",
   "metadata": {},
   "source": [
    "This summary reaveals no missing data except for 'Cause' column where we get an indication on how to proceed.\n",
    "Higher duplicates levels are observed on 'categorical-like' data (Location, Cause) or booleans (Linked Cases) which is perfectly normal.\n",
    "'Claim Amount' and 'Individual on Claim' are quantitative data but lots of duplicates can lead us to group clusters."
   ]
  },
  {
   "attachments": {},
   "cell_type": "markdown",
   "metadata": {},
   "source": [
    "Column Name |Type|Criteria|Datatype|Cleaning steps|\n",
    "------------|----|--------|--------|--------------|\n",
    "Claim ID |Character|the unique identifier of the claim.|quali |no |\n",
    "Time to Close |Numeric|number of days it took for the claim to be closed.|quanti _continuous_ |no, eventually cast as datetime interval |\n",
    "Claim Amount |Numeric|initial claim value in the currency of Brazil. For example, “R$50,000.00” should be converted into 50000.|quanti _continuous_ |cast to numeric after text manipulation |\n",
    "Amount Paid |Numeric|total amount paid after the claim closed in the currency of Brazil.|quanti _continuous_ |no |\n",
    "Location |Character|location of the claim, one of “RECIFE”, “SAO LUIS”, “FORTALEZA”, or “NATAL”.|quali |convert to categorical (n=4) |\n",
    "Individuals on Claim |Numeric|number of individuals on this claim.|quanti _discrete_ |no |\n",
    "Linked Cases |Binary|whether this claim is believed to be linked with other cases, either TRUE or FALSE.|quali _bool_ |no |\n",
    "Cause |Character|the cause of the food poisoning injuries, one of ‘vegetable’, ‘meat’, or ‘unknown’. Replace any empty rows with ‘unknown’.|quali |replace any empty rows with ‘unknown’, then convert to categorical (n=3) |"
   ]
  },
  {
   "attachments": {},
   "cell_type": "markdown",
   "metadata": {},
   "source": [
    "### 2.2. Data cleaning"
   ]
  },
  {
   "cell_type": "code",
   "execution_count": 5,
   "metadata": {},
   "outputs": [
    {
     "data": {
      "text/plain": [
       "0     5000000.0\n",
       "1    18000000.0\n",
       "2     7000000.0\n",
       "3     9510400.0\n",
       "4     2900000.0\n",
       "Name: Claim Amount, dtype: float64"
      ]
     },
     "metadata": {},
     "output_type": "display_data"
    }
   ],
   "source": [
    "# cleaning text from Claim Amount column\n",
    "df['Claim Amount'] = df['Claim Amount'].str.replace('[,.$R]','', regex=True)\n",
    "df['Claim Amount'] = df['Claim Amount'].astype('float')\n",
    "display(df['Claim Amount'].head())"
   ]
  },
  {
   "cell_type": "code",
   "execution_count": 6,
   "metadata": {},
   "outputs": [
    {
     "data": {
      "text/html": [
       "<div>\n",
       "<style scoped>\n",
       "    .dataframe tbody tr th:only-of-type {\n",
       "        vertical-align: middle;\n",
       "    }\n",
       "\n",
       "    .dataframe tbody tr th {\n",
       "        vertical-align: top;\n",
       "    }\n",
       "\n",
       "    .dataframe thead th {\n",
       "        text-align: right;\n",
       "    }\n",
       "</style>\n",
       "<table border=\"1\" class=\"dataframe\">\n",
       "  <thead>\n",
       "    <tr style=\"text-align: right;\">\n",
       "      <th></th>\n",
       "      <th>Claim ID</th>\n",
       "      <th>Time to Close</th>\n",
       "      <th>Claim Amount</th>\n",
       "      <th>Amount Paid</th>\n",
       "      <th>Location</th>\n",
       "      <th>Individuals on Claim</th>\n",
       "      <th>Linked Cases</th>\n",
       "      <th>Cause</th>\n",
       "    </tr>\n",
       "  </thead>\n",
       "  <tbody>\n",
       "    <tr>\n",
       "      <th>0</th>\n",
       "      <td>0000000-00.2010.0.00.0094</td>\n",
       "      <td>2082</td>\n",
       "      <td>5000000.0</td>\n",
       "      <td>34297.47</td>\n",
       "      <td>RECIFE</td>\n",
       "      <td>2</td>\n",
       "      <td>False</td>\n",
       "      <td>NaN</td>\n",
       "    </tr>\n",
       "    <tr>\n",
       "      <th>1</th>\n",
       "      <td>0000000-00.2011.0.00.0086</td>\n",
       "      <td>3591</td>\n",
       "      <td>18000000.0</td>\n",
       "      <td>56383.54</td>\n",
       "      <td>SAO LUIS</td>\n",
       "      <td>7</td>\n",
       "      <td>False</td>\n",
       "      <td>NaN</td>\n",
       "    </tr>\n",
       "    <tr>\n",
       "      <th>3</th>\n",
       "      <td>0000000-00.2013.0.00.0096</td>\n",
       "      <td>1143</td>\n",
       "      <td>9510400.0</td>\n",
       "      <td>29217.16</td>\n",
       "      <td>FORTALEZA</td>\n",
       "      <td>4</td>\n",
       "      <td>False</td>\n",
       "      <td>NaN</td>\n",
       "    </tr>\n",
       "    <tr>\n",
       "      <th>5</th>\n",
       "      <td>0000000-00.2014.0.00.0077</td>\n",
       "      <td>578</td>\n",
       "      <td>15000000.0</td>\n",
       "      <td>23214.56</td>\n",
       "      <td>FORTALEZA</td>\n",
       "      <td>6</td>\n",
       "      <td>False</td>\n",
       "      <td>NaN</td>\n",
       "    </tr>\n",
       "    <tr>\n",
       "      <th>7</th>\n",
       "      <td>0000000-00.2014.0.00.0043</td>\n",
       "      <td>2354</td>\n",
       "      <td>4087000.0</td>\n",
       "      <td>24161.73</td>\n",
       "      <td>FORTALEZA</td>\n",
       "      <td>1</td>\n",
       "      <td>False</td>\n",
       "      <td>NaN</td>\n",
       "    </tr>\n",
       "  </tbody>\n",
       "</table>\n",
       "</div>"
      ],
      "text/plain": [
       "                    Claim ID  Time to Close  Claim Amount  Amount Paid  \\\n",
       "0  0000000-00.2010.0.00.0094           2082     5000000.0     34297.47   \n",
       "1  0000000-00.2011.0.00.0086           3591    18000000.0     56383.54   \n",
       "3  0000000-00.2013.0.00.0096           1143     9510400.0     29217.16   \n",
       "5  0000000-00.2014.0.00.0077            578    15000000.0     23214.56   \n",
       "7  0000000-00.2014.0.00.0043           2354     4087000.0     24161.73   \n",
       "\n",
       "    Location  Individuals on Claim  Linked Cases Cause  \n",
       "0     RECIFE                     2         False   NaN  \n",
       "1   SAO LUIS                     7         False   NaN  \n",
       "3  FORTALEZA                     4         False   NaN  \n",
       "5  FORTALEZA                     6         False   NaN  \n",
       "7  FORTALEZA                     1         False   NaN  "
      ]
     },
     "metadata": {},
     "output_type": "display_data"
    },
    {
     "data": {
      "text/plain": [
       "meat          12\n",
       "vegetables     8\n",
       "Name: Cause, dtype: int64"
      ]
     },
     "metadata": {},
     "output_type": "display_data"
    }
   ],
   "source": [
    "# cleaning Cause column\n",
    "#before treatment\n",
    "display(df[df['Cause'].isna()].head())\n",
    "display(df['Cause'].value_counts())"
   ]
  },
  {
   "cell_type": "code",
   "execution_count": 7,
   "metadata": {},
   "outputs": [
    {
     "data": {
      "text/html": [
       "<div>\n",
       "<style scoped>\n",
       "    .dataframe tbody tr th:only-of-type {\n",
       "        vertical-align: middle;\n",
       "    }\n",
       "\n",
       "    .dataframe tbody tr th {\n",
       "        vertical-align: top;\n",
       "    }\n",
       "\n",
       "    .dataframe thead th {\n",
       "        text-align: right;\n",
       "    }\n",
       "</style>\n",
       "<table border=\"1\" class=\"dataframe\">\n",
       "  <thead>\n",
       "    <tr style=\"text-align: right;\">\n",
       "      <th></th>\n",
       "      <th>Claim ID</th>\n",
       "      <th>Time to Close</th>\n",
       "      <th>Claim Amount</th>\n",
       "      <th>Amount Paid</th>\n",
       "      <th>Location</th>\n",
       "      <th>Individuals on Claim</th>\n",
       "      <th>Linked Cases</th>\n",
       "      <th>Cause</th>\n",
       "    </tr>\n",
       "  </thead>\n",
       "  <tbody>\n",
       "  </tbody>\n",
       "</table>\n",
       "</div>"
      ],
      "text/plain": [
       "Empty DataFrame\n",
       "Columns: [Claim ID, Time to Close, Claim Amount, Amount Paid, Location, Individuals on Claim, Linked Cases, Cause]\n",
       "Index: []"
      ]
     },
     "metadata": {},
     "output_type": "display_data"
    },
    {
     "name": "stdout",
     "output_type": "stream",
     "text": [
      "number of empty rows:  0\n",
      "\n",
      "count per category:\n"
     ]
    },
    {
     "data": {
      "text/plain": [
       "unknown       78\n",
       "meat          12\n",
       "vegetables     8\n",
       "Name: Cause, dtype: int64"
      ]
     },
     "metadata": {},
     "output_type": "display_data"
    },
    {
     "name": "stdout",
     "output_type": "stream",
     "text": [
      "\n",
      "new dataframe head:\n"
     ]
    },
    {
     "data": {
      "text/html": [
       "<div>\n",
       "<style scoped>\n",
       "    .dataframe tbody tr th:only-of-type {\n",
       "        vertical-align: middle;\n",
       "    }\n",
       "\n",
       "    .dataframe tbody tr th {\n",
       "        vertical-align: top;\n",
       "    }\n",
       "\n",
       "    .dataframe thead th {\n",
       "        text-align: right;\n",
       "    }\n",
       "</style>\n",
       "<table border=\"1\" class=\"dataframe\">\n",
       "  <thead>\n",
       "    <tr style=\"text-align: right;\">\n",
       "      <th></th>\n",
       "      <th>Claim ID</th>\n",
       "      <th>Time to Close</th>\n",
       "      <th>Claim Amount</th>\n",
       "      <th>Amount Paid</th>\n",
       "      <th>Location</th>\n",
       "      <th>Individuals on Claim</th>\n",
       "      <th>Linked Cases</th>\n",
       "      <th>Cause</th>\n",
       "    </tr>\n",
       "  </thead>\n",
       "  <tbody>\n",
       "    <tr>\n",
       "      <th>0</th>\n",
       "      <td>0000000-00.2010.0.00.0094</td>\n",
       "      <td>2082</td>\n",
       "      <td>5000000.0</td>\n",
       "      <td>34297.47</td>\n",
       "      <td>RECIFE</td>\n",
       "      <td>2</td>\n",
       "      <td>False</td>\n",
       "      <td>unknown</td>\n",
       "    </tr>\n",
       "    <tr>\n",
       "      <th>1</th>\n",
       "      <td>0000000-00.2011.0.00.0086</td>\n",
       "      <td>3591</td>\n",
       "      <td>18000000.0</td>\n",
       "      <td>56383.54</td>\n",
       "      <td>SAO LUIS</td>\n",
       "      <td>7</td>\n",
       "      <td>False</td>\n",
       "      <td>unknown</td>\n",
       "    </tr>\n",
       "    <tr>\n",
       "      <th>2</th>\n",
       "      <td>0000000-00.2012.0.00.0092</td>\n",
       "      <td>2997</td>\n",
       "      <td>7000000.0</td>\n",
       "      <td>12366.76</td>\n",
       "      <td>SAO LUIS</td>\n",
       "      <td>3</td>\n",
       "      <td>False</td>\n",
       "      <td>vegetables</td>\n",
       "    </tr>\n",
       "    <tr>\n",
       "      <th>3</th>\n",
       "      <td>0000000-00.2013.0.00.0096</td>\n",
       "      <td>1143</td>\n",
       "      <td>9510400.0</td>\n",
       "      <td>29217.16</td>\n",
       "      <td>FORTALEZA</td>\n",
       "      <td>4</td>\n",
       "      <td>False</td>\n",
       "      <td>unknown</td>\n",
       "    </tr>\n",
       "    <tr>\n",
       "      <th>4</th>\n",
       "      <td>0000000-00.2014.0.00.0097</td>\n",
       "      <td>117</td>\n",
       "      <td>2900000.0</td>\n",
       "      <td>12610.50</td>\n",
       "      <td>FORTALEZA</td>\n",
       "      <td>1</td>\n",
       "      <td>False</td>\n",
       "      <td>meat</td>\n",
       "    </tr>\n",
       "  </tbody>\n",
       "</table>\n",
       "</div>"
      ],
      "text/plain": [
       "                    Claim ID  Time to Close  Claim Amount  Amount Paid  \\\n",
       "0  0000000-00.2010.0.00.0094           2082     5000000.0     34297.47   \n",
       "1  0000000-00.2011.0.00.0086           3591    18000000.0     56383.54   \n",
       "2  0000000-00.2012.0.00.0092           2997     7000000.0     12366.76   \n",
       "3  0000000-00.2013.0.00.0096           1143     9510400.0     29217.16   \n",
       "4  0000000-00.2014.0.00.0097            117     2900000.0     12610.50   \n",
       "\n",
       "    Location  Individuals on Claim  Linked Cases       Cause  \n",
       "0     RECIFE                     2         False     unknown  \n",
       "1   SAO LUIS                     7         False     unknown  \n",
       "2   SAO LUIS                     3         False  vegetables  \n",
       "3  FORTALEZA                     4         False     unknown  \n",
       "4  FORTALEZA                     1         False        meat  "
      ]
     },
     "metadata": {},
     "output_type": "display_data"
    }
   ],
   "source": [
    "#after treatment\n",
    "df['Cause'] = df['Cause'].fillna('unknown')\n",
    "display(df[df['Cause'].isna()].head())\n",
    "print('number of empty rows: ', df['Cause'].isna().sum())\n",
    "print('\\ncount per category:')\n",
    "display(df['Cause'].value_counts())\n",
    "print('\\nnew dataframe head:')\n",
    "display(df.head()) "
   ]
  },
  {
   "cell_type": "code",
   "execution_count": 8,
   "metadata": {},
   "outputs": [
    {
     "data": {
      "text/plain": [
       "58   -57\n",
       "83    29\n",
       "87    30\n",
       "Name: Time to Close, dtype: int64"
      ]
     },
     "execution_count": 8,
     "metadata": {},
     "output_type": "execute_result"
    }
   ],
   "source": [
    "#cleaning inconsistent data\n",
    "df['Time to Close'].nsmallest(3)"
   ]
  },
  {
   "cell_type": "code",
   "execution_count": 9,
   "metadata": {},
   "outputs": [
    {
     "data": {
      "text/plain": [
       "Claim ID                0000000-00.2019.0.00.0079\n",
       "Time to Close                                 -57\n",
       "Claim Amount                             367200.0\n",
       "Amount Paid                                999.68\n",
       "Location                                 SAO LUIS\n",
       "Individuals on Claim                            0\n",
       "Linked Cases                                False\n",
       "Cause                                     unknown\n",
       "Name: 58, dtype: object"
      ]
     },
     "execution_count": 9,
     "metadata": {},
     "output_type": "execute_result"
    }
   ],
   "source": [
    "df.iloc[58,:]"
   ]
  },
  {
   "attachments": {},
   "cell_type": "markdown",
   "metadata": {},
   "source": [
    "Index 58 shows a negative number for 'Time to Close' previously identified in summary stats preview.\n",
    "We need to solve this typo by either :\n",
    "<li>dropping the entire line\n",
    "<li>or interpolating a value\n",
    "<li>or setting this specific value to NaN</li>\n",
    "\n",
    "in order not to loose some other data but considering the uncertainty of 'Time to Close' values (large std vs mean), we choose third option."
   ]
  },
  {
   "cell_type": "code",
   "execution_count": 10,
   "metadata": {},
   "outputs": [
    {
     "data": {
      "text/plain": [
       "83    29.0\n",
       "87    30.0\n",
       "78    60.0\n",
       "62    65.0\n",
       "94    86.0\n",
       "Name: Time to Close, dtype: float64"
      ]
     },
     "execution_count": 10,
     "metadata": {},
     "output_type": "execute_result"
    }
   ],
   "source": [
    "df['Time to Close'] = df['Time to Close'].replace([-57], np.nan)\n",
    "df['Time to Close'].nsmallest(5)"
   ]
  },
  {
   "attachments": {},
   "cell_type": "markdown",
   "metadata": {},
   "source": [
    "Let's see how our dataset looks like now.<br>\n",
    "TODO : insert call to function \"describe\""
   ]
  },
  {
   "cell_type": "code",
   "execution_count": 11,
   "metadata": {},
   "outputs": [
    {
     "data": {
      "text/html": [
       "<div>\n",
       "<style scoped>\n",
       "    .dataframe tbody tr th:only-of-type {\n",
       "        vertical-align: middle;\n",
       "    }\n",
       "\n",
       "    .dataframe tbody tr th {\n",
       "        vertical-align: top;\n",
       "    }\n",
       "\n",
       "    .dataframe thead th {\n",
       "        text-align: right;\n",
       "    }\n",
       "</style>\n",
       "<table border=\"1\" class=\"dataframe\">\n",
       "  <thead>\n",
       "    <tr style=\"text-align: right;\">\n",
       "      <th></th>\n",
       "      <th>Claim ID</th>\n",
       "      <th>Time to Close</th>\n",
       "      <th>Claim Amount</th>\n",
       "      <th>Amount Paid</th>\n",
       "      <th>Location</th>\n",
       "      <th>Individuals on Claim</th>\n",
       "      <th>Linked Cases</th>\n",
       "      <th>Cause</th>\n",
       "    </tr>\n",
       "  </thead>\n",
       "  <tbody>\n",
       "    <tr>\n",
       "      <th>14</th>\n",
       "      <td>0000000-00.2016.0.00.0083</td>\n",
       "      <td>1823.0</td>\n",
       "      <td>1678900.0</td>\n",
       "      <td>5227.91</td>\n",
       "      <td>SAO LUIS</td>\n",
       "      <td>0</td>\n",
       "      <td>False</td>\n",
       "      <td>unknown</td>\n",
       "    </tr>\n",
       "    <tr>\n",
       "      <th>38</th>\n",
       "      <td>0000000-00.2018.0.00.0003</td>\n",
       "      <td>925.0</td>\n",
       "      <td>384100.0</td>\n",
       "      <td>1324.24</td>\n",
       "      <td>RECIFE</td>\n",
       "      <td>0</td>\n",
       "      <td>False</td>\n",
       "      <td>unknown</td>\n",
       "    </tr>\n",
       "    <tr>\n",
       "      <th>41</th>\n",
       "      <td>0000000-00.2018.0.00.0040</td>\n",
       "      <td>997.0</td>\n",
       "      <td>840100.0</td>\n",
       "      <td>5394.85</td>\n",
       "      <td>NATAL</td>\n",
       "      <td>0</td>\n",
       "      <td>False</td>\n",
       "      <td>unknown</td>\n",
       "    </tr>\n",
       "    <tr>\n",
       "      <th>53</th>\n",
       "      <td>0000000-00.2019.0.00.0001</td>\n",
       "      <td>659.0</td>\n",
       "      <td>1042800.0</td>\n",
       "      <td>1722.04</td>\n",
       "      <td>RECIFE</td>\n",
       "      <td>0</td>\n",
       "      <td>False</td>\n",
       "      <td>unknown</td>\n",
       "    </tr>\n",
       "    <tr>\n",
       "      <th>57</th>\n",
       "      <td>0000000-00.2019.0.00.0078</td>\n",
       "      <td>495.0</td>\n",
       "      <td>669100.0</td>\n",
       "      <td>4154.22</td>\n",
       "      <td>FORTALEZA</td>\n",
       "      <td>0</td>\n",
       "      <td>False</td>\n",
       "      <td>unknown</td>\n",
       "    </tr>\n",
       "    <tr>\n",
       "      <th>58</th>\n",
       "      <td>0000000-00.2019.0.00.0079</td>\n",
       "      <td>NaN</td>\n",
       "      <td>367200.0</td>\n",
       "      <td>999.68</td>\n",
       "      <td>SAO LUIS</td>\n",
       "      <td>0</td>\n",
       "      <td>False</td>\n",
       "      <td>unknown</td>\n",
       "    </tr>\n",
       "    <tr>\n",
       "      <th>84</th>\n",
       "      <td>0000000-00.2020.0.00.0064</td>\n",
       "      <td>272.0</td>\n",
       "      <td>355500.0</td>\n",
       "      <td>1013.36</td>\n",
       "      <td>RECIFE</td>\n",
       "      <td>0</td>\n",
       "      <td>False</td>\n",
       "      <td>unknown</td>\n",
       "    </tr>\n",
       "  </tbody>\n",
       "</table>\n",
       "</div>"
      ],
      "text/plain": [
       "                     Claim ID  Time to Close  Claim Amount  Amount Paid  \\\n",
       "14  0000000-00.2016.0.00.0083         1823.0     1678900.0      5227.91   \n",
       "38  0000000-00.2018.0.00.0003          925.0      384100.0      1324.24   \n",
       "41  0000000-00.2018.0.00.0040          997.0      840100.0      5394.85   \n",
       "53  0000000-00.2019.0.00.0001          659.0     1042800.0      1722.04   \n",
       "57  0000000-00.2019.0.00.0078          495.0      669100.0      4154.22   \n",
       "58  0000000-00.2019.0.00.0079            NaN      367200.0       999.68   \n",
       "84  0000000-00.2020.0.00.0064          272.0      355500.0      1013.36   \n",
       "\n",
       "     Location  Individuals on Claim  Linked Cases    Cause  \n",
       "14   SAO LUIS                     0         False  unknown  \n",
       "38     RECIFE                     0         False  unknown  \n",
       "41      NATAL                     0         False  unknown  \n",
       "53     RECIFE                     0         False  unknown  \n",
       "57  FORTALEZA                     0         False  unknown  \n",
       "58   SAO LUIS                     0         False  unknown  \n",
       "84     RECIFE                     0         False  unknown  "
      ]
     },
     "execution_count": 11,
     "metadata": {},
     "output_type": "execute_result"
    }
   ],
   "source": [
    "df[df['Individuals on Claim']==0]"
   ]
  },
  {
   "cell_type": "code",
   "execution_count": 12,
   "metadata": {},
   "outputs": [
    {
     "name": "stdout",
     "output_type": "stream",
     "text": [
      "df dataframe -  shape:(98, 8) dupl:0\n"
     ]
    },
    {
     "data": {
      "text/html": [
       "<div>\n",
       "<style scoped>\n",
       "    .dataframe tbody tr th:only-of-type {\n",
       "        vertical-align: middle;\n",
       "    }\n",
       "\n",
       "    .dataframe tbody tr th {\n",
       "        vertical-align: top;\n",
       "    }\n",
       "\n",
       "    .dataframe thead th {\n",
       "        text-align: right;\n",
       "    }\n",
       "</style>\n",
       "<table border=\"1\" class=\"dataframe\">\n",
       "  <thead>\n",
       "    <tr style=\"text-align: right;\">\n",
       "      <th></th>\n",
       "      <th></th>\n",
       "      <th>duplicates</th>\n",
       "      <th>na</th>\n",
       "      <th>unique</th>\n",
       "      <th>dtype</th>\n",
       "      <th>non-null count</th>\n",
       "      <th>mean/mode</th>\n",
       "      <th>std</th>\n",
       "      <th>min</th>\n",
       "      <th>25%</th>\n",
       "      <th>50%</th>\n",
       "      <th>75%</th>\n",
       "      <th>max</th>\n",
       "    </tr>\n",
       "    <tr>\n",
       "      <th>#</th>\n",
       "      <th>Column</th>\n",
       "      <th></th>\n",
       "      <th></th>\n",
       "      <th></th>\n",
       "      <th></th>\n",
       "      <th></th>\n",
       "      <th></th>\n",
       "      <th></th>\n",
       "      <th></th>\n",
       "      <th></th>\n",
       "      <th></th>\n",
       "      <th></th>\n",
       "      <th></th>\n",
       "    </tr>\n",
       "  </thead>\n",
       "  <tbody>\n",
       "    <tr>\n",
       "      <th>0</th>\n",
       "      <th>Claim ID</th>\n",
       "      <td>0</td>\n",
       "      <td>0</td>\n",
       "      <td>98</td>\n",
       "      <td>object</td>\n",
       "      <td>98.0</td>\n",
       "      <td>0000000-00.2010.0.00.0094</td>\n",
       "      <td>NC</td>\n",
       "      <td>NC</td>\n",
       "      <td>NC</td>\n",
       "      <td>NC</td>\n",
       "      <td>NC</td>\n",
       "      <td>NC</td>\n",
       "    </tr>\n",
       "    <tr>\n",
       "      <th>1</th>\n",
       "      <th>Time to Close</th>\n",
       "      <td>2</td>\n",
       "      <td>1</td>\n",
       "      <td>95</td>\n",
       "      <td>float64</td>\n",
       "      <td>97.0</td>\n",
       "      <td>841.52</td>\n",
       "      <td>684.36</td>\n",
       "      <td>29.0</td>\n",
       "      <td>349.0</td>\n",
       "      <td>639.0</td>\n",
       "      <td>1143.0</td>\n",
       "      <td>3591.0</td>\n",
       "    </tr>\n",
       "    <tr>\n",
       "      <th>2</th>\n",
       "      <th>Claim Amount</th>\n",
       "      <td>24</td>\n",
       "      <td>0</td>\n",
       "      <td>74</td>\n",
       "      <td>float64</td>\n",
       "      <td>98.0</td>\n",
       "      <td>12295203.06</td>\n",
       "      <td>16643338.9</td>\n",
       "      <td>355500.0</td>\n",
       "      <td>4000000.0</td>\n",
       "      <td>5845450.0</td>\n",
       "      <td>13657325.0</td>\n",
       "      <td>93654000.0</td>\n",
       "    </tr>\n",
       "    <tr>\n",
       "      <th>3</th>\n",
       "      <th>Amount Paid</th>\n",
       "      <td>0</td>\n",
       "      <td>0</td>\n",
       "      <td>98</td>\n",
       "      <td>float64</td>\n",
       "      <td>98.0</td>\n",
       "      <td>58448.24</td>\n",
       "      <td>87525.87</td>\n",
       "      <td>999.68</td>\n",
       "      <td>15965.64</td>\n",
       "      <td>29451.04</td>\n",
       "      <td>52114.76</td>\n",
       "      <td>558725.77</td>\n",
       "    </tr>\n",
       "    <tr>\n",
       "      <th>4</th>\n",
       "      <th>Location</th>\n",
       "      <td>94</td>\n",
       "      <td>0</td>\n",
       "      <td>4</td>\n",
       "      <td>object</td>\n",
       "      <td>98.0</td>\n",
       "      <td>SAO LUIS</td>\n",
       "      <td>NC</td>\n",
       "      <td>NC</td>\n",
       "      <td>NC</td>\n",
       "      <td>NC</td>\n",
       "      <td>NC</td>\n",
       "      <td>NC</td>\n",
       "    </tr>\n",
       "    <tr>\n",
       "      <th>5</th>\n",
       "      <th>Individuals on Claim</th>\n",
       "      <td>79</td>\n",
       "      <td>0</td>\n",
       "      <td>19</td>\n",
       "      <td>int64</td>\n",
       "      <td>98.0</td>\n",
       "      <td>4.91</td>\n",
       "      <td>7.29</td>\n",
       "      <td>0.0</td>\n",
       "      <td>1.0</td>\n",
       "      <td>2.0</td>\n",
       "      <td>5.75</td>\n",
       "      <td>41.0</td>\n",
       "    </tr>\n",
       "    <tr>\n",
       "      <th>6</th>\n",
       "      <th>Linked Cases</th>\n",
       "      <td>96</td>\n",
       "      <td>0</td>\n",
       "      <td>2</td>\n",
       "      <td>bool</td>\n",
       "      <td>98.0</td>\n",
       "      <td>False</td>\n",
       "      <td>NC</td>\n",
       "      <td>NC</td>\n",
       "      <td>NC</td>\n",
       "      <td>NC</td>\n",
       "      <td>NC</td>\n",
       "      <td>NC</td>\n",
       "    </tr>\n",
       "    <tr>\n",
       "      <th>7</th>\n",
       "      <th>Cause</th>\n",
       "      <td>95</td>\n",
       "      <td>0</td>\n",
       "      <td>3</td>\n",
       "      <td>object</td>\n",
       "      <td>98.0</td>\n",
       "      <td>unknown</td>\n",
       "      <td>NC</td>\n",
       "      <td>NC</td>\n",
       "      <td>NC</td>\n",
       "      <td>NC</td>\n",
       "      <td>NC</td>\n",
       "      <td>NC</td>\n",
       "    </tr>\n",
       "  </tbody>\n",
       "</table>\n",
       "</div>"
      ],
      "text/plain": [
       "                        duplicates  na  unique    dtype  non-null count  \\\n",
       "# Column                                                                  \n",
       "0 Claim ID                       0   0      98   object            98.0   \n",
       "1 Time to Close                  2   1      95  float64            97.0   \n",
       "2 Claim Amount                  24   0      74  float64            98.0   \n",
       "3 Amount Paid                    0   0      98  float64            98.0   \n",
       "4 Location                      94   0       4   object            98.0   \n",
       "5 Individuals on Claim          79   0      19    int64            98.0   \n",
       "6 Linked Cases                  96   0       2     bool            98.0   \n",
       "7 Cause                         95   0       3   object            98.0   \n",
       "\n",
       "                                        mean/mode         std       min  \\\n",
       "# Column                                                                  \n",
       "0 Claim ID              0000000-00.2010.0.00.0094          NC        NC   \n",
       "1 Time to Close                            841.52      684.36      29.0   \n",
       "2 Claim Amount                        12295203.06  16643338.9  355500.0   \n",
       "3 Amount Paid                            58448.24    87525.87    999.68   \n",
       "4 Location                               SAO LUIS          NC        NC   \n",
       "5 Individuals on Claim                       4.91        7.29       0.0   \n",
       "6 Linked Cases                              False          NC        NC   \n",
       "7 Cause                                   unknown          NC        NC   \n",
       "\n",
       "                              25%        50%         75%         max  \n",
       "# Column                                                              \n",
       "0 Claim ID                     NC         NC          NC          NC  \n",
       "1 Time to Close             349.0      639.0      1143.0      3591.0  \n",
       "2 Claim Amount          4000000.0  5845450.0  13657325.0  93654000.0  \n",
       "3 Amount Paid            15965.64   29451.04    52114.76   558725.77  \n",
       "4 Location                     NC         NC          NC          NC  \n",
       "5 Individuals on Claim        1.0        2.0        5.75        41.0  \n",
       "6 Linked Cases                 NC         NC          NC          NC  \n",
       "7 Cause                        NC         NC          NC          NC  "
      ]
     },
     "metadata": {},
     "output_type": "display_data"
    }
   ],
   "source": [
    "keys = ['df']\n",
    "values = [df]\n",
    "for z1, z2 in zip(keys, values):\n",
    "    shape = z2.shape\n",
    "    ncol = z2.shape[1]\n",
    "    dup = z2.duplicated().sum()\n",
    "    na = z2.isna().sum()\n",
    "    uq = z2.nunique()\n",
    "    datalists = dict()\n",
    "    keys_p = ['duplicates', 'na', 'unique', 'dtype']\n",
    "    keys_d = ['non-null count', 'mean/mode', 'std', 'min', '25%', '50%', '75%', 'max']\n",
    "    for k in (keys_p + keys_d):\n",
    "        datalists[k] = []\n",
    "    for col in range(ncol):  #loading keys_p values\n",
    "        datalists['duplicates'].append(z2.iloc[:,col].duplicated().sum())\n",
    "        datalists['na'].append(z2.isna().sum()[col])\n",
    "        datalists['unique'].append(z2.nunique()[col])\n",
    "        datalists['dtype'].append(z2.dtypes[col])\n",
    "    for k2 in enumerate(keys_d):  # loading keys_d values\n",
    "        for col in range(ncol):\n",
    "            if len(z2.iloc[:,col].describe())==8: # describe method outputs 8 values on numeric columns, 4 on others\n",
    "                datalists[k2[1]].append(round(z2.iloc[:,col].describe()[k2[0]],2))\n",
    "            else:\n",
    "                if k2[1]=='non-null count':\n",
    "                    datalists[k2[1]].append(z2.count()[col])\n",
    "                elif k2[1]=='mean/mode':\n",
    "                    datalists[k2[1]].append(z2.iloc[:,col].mode()[0])\n",
    "                else:\n",
    "                    datalists[k2[1]].append('NC')\n",
    "    print(z1, 'dataframe - ', f'shape:{shape}', f'dupl:{dup}')\n",
    "    display(pd.DataFrame(datalists, index = pd.MultiIndex.from_tuples([c for c in enumerate(z2.columns)], names=['#', 'Column'])))"
   ]
  },
  {
   "attachments": {},
   "cell_type": "markdown",
   "metadata": {},
   "source": [
    "Seems data is cleaner now with only 1 missing value in column #1."
   ]
  },
  {
   "attachments": {},
   "cell_type": "markdown",
   "metadata": {},
   "source": [
    "## 3. Exploration & visualization"
   ]
  },
  {
   "attachments": {},
   "cell_type": "markdown",
   "metadata": {},
   "source": [
    "### 3.1. Preliminary EDA"
   ]
  },
  {
   "attachments": {},
   "cell_type": "markdown",
   "metadata": {},
   "source": [
    "Overview of correlations :"
   ]
  },
  {
   "cell_type": "code",
   "execution_count": 13,
   "metadata": {},
   "outputs": [
    {
     "data": {
      "text/html": [
       "<div>\n",
       "<style scoped>\n",
       "    .dataframe tbody tr th:only-of-type {\n",
       "        vertical-align: middle;\n",
       "    }\n",
       "\n",
       "    .dataframe tbody tr th {\n",
       "        vertical-align: top;\n",
       "    }\n",
       "\n",
       "    .dataframe thead th {\n",
       "        text-align: right;\n",
       "    }\n",
       "</style>\n",
       "<table border=\"1\" class=\"dataframe\">\n",
       "  <thead>\n",
       "    <tr style=\"text-align: right;\">\n",
       "      <th></th>\n",
       "      <th>Time to Close</th>\n",
       "      <th>Claim Amount</th>\n",
       "      <th>Amount Paid</th>\n",
       "      <th>Individuals on Claim</th>\n",
       "      <th>Linked Cases</th>\n",
       "    </tr>\n",
       "  </thead>\n",
       "  <tbody>\n",
       "    <tr>\n",
       "      <th>Time to Close</th>\n",
       "      <td>1.000</td>\n",
       "      <td>-0.133</td>\n",
       "      <td>-0.185</td>\n",
       "      <td>-0.137</td>\n",
       "      <td>-0.123</td>\n",
       "    </tr>\n",
       "    <tr>\n",
       "      <th>Claim Amount</th>\n",
       "      <td>-0.133</td>\n",
       "      <td>1.000</td>\n",
       "      <td>0.870</td>\n",
       "      <td>0.999</td>\n",
       "      <td>0.871</td>\n",
       "    </tr>\n",
       "    <tr>\n",
       "      <th>Amount Paid</th>\n",
       "      <td>-0.185</td>\n",
       "      <td>0.870</td>\n",
       "      <td>1.000</td>\n",
       "      <td>0.869</td>\n",
       "      <td>0.802</td>\n",
       "    </tr>\n",
       "    <tr>\n",
       "      <th>Individuals on Claim</th>\n",
       "      <td>-0.137</td>\n",
       "      <td>0.999</td>\n",
       "      <td>0.869</td>\n",
       "      <td>1.000</td>\n",
       "      <td>0.871</td>\n",
       "    </tr>\n",
       "    <tr>\n",
       "      <th>Linked Cases</th>\n",
       "      <td>-0.123</td>\n",
       "      <td>0.871</td>\n",
       "      <td>0.802</td>\n",
       "      <td>0.871</td>\n",
       "      <td>1.000</td>\n",
       "    </tr>\n",
       "  </tbody>\n",
       "</table>\n",
       "</div>"
      ],
      "text/plain": [
       "                      Time to Close  Claim Amount  Amount Paid  \\\n",
       "Time to Close                 1.000        -0.133       -0.185   \n",
       "Claim Amount                 -0.133         1.000        0.870   \n",
       "Amount Paid                  -0.185         0.870        1.000   \n",
       "Individuals on Claim         -0.137         0.999        0.869   \n",
       "Linked Cases                 -0.123         0.871        0.802   \n",
       "\n",
       "                      Individuals on Claim  Linked Cases  \n",
       "Time to Close                       -0.137        -0.123  \n",
       "Claim Amount                         0.999         0.871  \n",
       "Amount Paid                          0.869         0.802  \n",
       "Individuals on Claim                 1.000         0.871  \n",
       "Linked Cases                         0.871         1.000  "
      ]
     },
     "execution_count": 13,
     "metadata": {},
     "output_type": "execute_result"
    }
   ],
   "source": [
    "round(df.corr(),3)"
   ]
  },
  {
   "cell_type": "code",
   "execution_count": 32,
   "metadata": {},
   "outputs": [
    {
     "data": {
      "image/png": "[encoded data removed]",
      "text/plain": [
       "<Figure size 714.333x400 with 1 Axes>"
      ]
     },
     "metadata": {},
     "output_type": "display_data"
    }
   ],
   "source": [
    "g = sns.lmplot(data=df, x='Individuals on Claim', y='Claim Amount', height=4, aspect=1.5, hue='Linked Cases')\n",
    "g.fig.suptitle('Relation between Claim Amount and Number of Individuals on Claim, vs. Linked Cases', y=1.05)\n",
    "plt.show()"
   ]
  },
  {
   "attachments": {},
   "cell_type": "markdown",
   "metadata": {},
   "source": [
    "There's a clear linear and positive correlation between Claim Amount and Number of Individuals on Claim.\n",
    "Linked Cases are observable starting from 15 people on Claim.\n",
    "Let's now study those two features distributions."
   ]
  },
  {
   "cell_type": "code",
   "execution_count": 15,
   "metadata": {},
   "outputs": [
    {
     "data": {
      "image/png": "[encoded data removed]",
      "text/plain": [
       "<Figure size 500x500 with 1 Axes>"
      ]
     },
     "metadata": {},
     "output_type": "display_data"
    }
   ],
   "source": [
    "g = sns.displot(data=df, x='Claim Amount', log_scale=True, bins=20)"
   ]
  },
  {
   "attachments": {},
   "cell_type": "markdown",
   "metadata": {},
   "source": [
    "Using a log scale will help better identify clusters.<br>\n",
    "A little fine-tuning let us conclude that Claim amounts could eventually be clustered in 3 groups as per below analysis."
   ]
  },
  {
   "cell_type": "code",
   "execution_count": 16,
   "metadata": {},
   "outputs": [
    {
     "data": {
      "image/png": "[encoded data removed]",
      "text/plain": [
       "<Figure size 873.083x500 with 1 Axes>"
      ]
     },
     "metadata": {},
     "output_type": "display_data"
    }
   ],
   "source": [
    "ranges = [0, 2500000, 10000000, np.inf]\n",
    "amount_group_names = ['small', 'medium', 'big']\n",
    "df['Amount_group'] = pd.cut(df['Claim Amount'], bins=ranges, labels=amount_group_names)\n",
    "g = sns.displot(data=df, x='Claim Amount', bins=30, height=5, aspect=1.5, hue='Amount_group', log_scale=True)"
   ]
  },
  {
   "attachments": {},
   "cell_type": "markdown",
   "metadata": {},
   "source": [
    "Distribution of Nb Individuals on Claim :"
   ]
  },
  {
   "cell_type": "code",
   "execution_count": 17,
   "metadata": {},
   "outputs": [
    {
     "data": {
      "image/png": "[encoded data removed]",
      "text/plain": [
       "<Figure size 750x500 with 1 Axes>"
      ]
     },
     "metadata": {},
     "output_type": "display_data"
    }
   ],
   "source": [
    "g = sns.displot(data=df, x='Individuals on Claim', bins=30, height=5, aspect=1.5)"
   ]
  },
  {
   "attachments": {},
   "cell_type": "markdown",
   "metadata": {},
   "source": [
    "Number of individuals on Claim could be clustered in 3 groups :\n",
    "<li>0-2 : very little\n",
    "<li>2-20 : little to medium\n",
    "<li>20+ : large</li>"
   ]
  },
  {
   "cell_type": "code",
   "execution_count": 18,
   "metadata": {},
   "outputs": [
    {
     "data": {
      "text/html": [
       "<div>\n",
       "<style scoped>\n",
       "    .dataframe tbody tr th:only-of-type {\n",
       "        vertical-align: middle;\n",
       "    }\n",
       "\n",
       "    .dataframe tbody tr th {\n",
       "        vertical-align: top;\n",
       "    }\n",
       "\n",
       "    .dataframe thead th {\n",
       "        text-align: right;\n",
       "    }\n",
       "</style>\n",
       "<table border=\"1\" class=\"dataframe\">\n",
       "  <thead>\n",
       "    <tr style=\"text-align: right;\">\n",
       "      <th></th>\n",
       "      <th>Individuals_group</th>\n",
       "      <th>Individuals on Claim</th>\n",
       "    </tr>\n",
       "  </thead>\n",
       "  <tbody>\n",
       "    <tr>\n",
       "      <th>0</th>\n",
       "      <td>0-2</td>\n",
       "      <td>2</td>\n",
       "    </tr>\n",
       "    <tr>\n",
       "      <th>1</th>\n",
       "      <td>2-20</td>\n",
       "      <td>7</td>\n",
       "    </tr>\n",
       "    <tr>\n",
       "      <th>2</th>\n",
       "      <td>2-20</td>\n",
       "      <td>3</td>\n",
       "    </tr>\n",
       "    <tr>\n",
       "      <th>3</th>\n",
       "      <td>2-20</td>\n",
       "      <td>4</td>\n",
       "    </tr>\n",
       "    <tr>\n",
       "      <th>4</th>\n",
       "      <td>0-2</td>\n",
       "      <td>1</td>\n",
       "    </tr>\n",
       "    <tr>\n",
       "      <th>...</th>\n",
       "      <td>...</td>\n",
       "      <td>...</td>\n",
       "    </tr>\n",
       "    <tr>\n",
       "      <th>93</th>\n",
       "      <td>2-20</td>\n",
       "      <td>3</td>\n",
       "    </tr>\n",
       "    <tr>\n",
       "      <th>94</th>\n",
       "      <td>0-2</td>\n",
       "      <td>2</td>\n",
       "    </tr>\n",
       "    <tr>\n",
       "      <th>95</th>\n",
       "      <td>0-2</td>\n",
       "      <td>2</td>\n",
       "    </tr>\n",
       "    <tr>\n",
       "      <th>96</th>\n",
       "      <td>2-20</td>\n",
       "      <td>20</td>\n",
       "    </tr>\n",
       "    <tr>\n",
       "      <th>97</th>\n",
       "      <td>0-2</td>\n",
       "      <td>1</td>\n",
       "    </tr>\n",
       "  </tbody>\n",
       "</table>\n",
       "<p>98 rows × 2 columns</p>\n",
       "</div>"
      ],
      "text/plain": [
       "   Individuals_group  Individuals on Claim\n",
       "0                0-2                     2\n",
       "1               2-20                     7\n",
       "2               2-20                     3\n",
       "3               2-20                     4\n",
       "4                0-2                     1\n",
       "..               ...                   ...\n",
       "93              2-20                     3\n",
       "94               0-2                     2\n",
       "95               0-2                     2\n",
       "96              2-20                    20\n",
       "97               0-2                     1\n",
       "\n",
       "[98 rows x 2 columns]"
      ]
     },
     "execution_count": 18,
     "metadata": {},
     "output_type": "execute_result"
    }
   ],
   "source": [
    "ranges = [0, 2, 20, np.inf]\n",
    "indiv_group_names = ['0-2', '2-20', '20+']\n",
    "df['Individuals_group'] = pd.cut(df['Individuals on Claim'], bins=ranges, labels=indiv_group_names)\n",
    "df[['Individuals_group', 'Individuals on Claim']]"
   ]
  },
  {
   "cell_type": "code",
   "execution_count": 19,
   "metadata": {},
   "outputs": [
    {
     "data": {
      "image/png": "[encoded data removed]",
      "text/plain": [
       "<Figure size 894.458x500 with 1 Axes>"
      ]
     },
     "metadata": {},
     "output_type": "display_data"
    }
   ],
   "source": [
    "g = sns.displot(data=df, x='Individuals on Claim', bins=30, height=5, aspect=1.5, hue='Individuals_group')"
   ]
  },
  {
   "attachments": {},
   "cell_type": "markdown",
   "metadata": {},
   "source": [
    "### 3.2. Answering 1st question : How does the number of claims differ across locations?"
   ]
  },
  {
   "cell_type": "code",
   "execution_count": 20,
   "metadata": {},
   "outputs": [
    {
     "name": "stdout",
     "output_type": "stream",
     "text": [
      "Location\n",
      "SAO LUIS     30\n",
      "RECIFE       25\n",
      "FORTALEZA    22\n",
      "NATAL        21\n",
      "Name: Claim ID, dtype: int64\n"
     ]
    }
   ],
   "source": [
    "claims_location = df.groupby('Location')['Claim ID'].count().sort_values(ascending=False)\n",
    "print(claims_location)"
   ]
  },
  {
   "cell_type": "code",
   "execution_count": 21,
   "metadata": {},
   "outputs": [
    {
     "data": {
      "text/plain": [
       "<AxesSubplot:title={'center':'Number of claims across locations'}, xlabel='Location'>"
      ]
     },
     "execution_count": 21,
     "metadata": {},
     "output_type": "execute_result"
    },
    {
     "data": {
      "image/png": "[encoded data removed]",
      "text/plain": [
       "<Figure size 800x500 with 1 Axes>"
      ]
     },
     "metadata": {},
     "output_type": "display_data"
    }
   ],
   "source": [
    "claims_location.plot(kind='bar', title='Number of claims across locations', figsize=(8,5), rot=45)"
   ]
  },
  {
   "attachments": {},
   "cell_type": "markdown",
   "metadata": {},
   "source": [
    "The number of claims across locations is quite homogeneous, despite slightly larger figures in Sao Luis and Recife.<br>\n",
    "Let's use previous grouping sets in order to visualize potential differences between Location."
   ]
  },
  {
   "cell_type": "code",
   "execution_count": 22,
   "metadata": {},
   "outputs": [
    {
     "data": {
      "text/plain": [
       "Location   Amount_group\n",
       "FORTALEZA  small            1\n",
       "           medium          15\n",
       "           big              6\n",
       "NATAL      small            1\n",
       "           medium          13\n",
       "           big              7\n",
       "RECIFE     small            3\n",
       "           medium          14\n",
       "           big              8\n",
       "SAO LUIS   small            3\n",
       "           medium          17\n",
       "           big             10\n",
       "Name: Claim ID, dtype: int64"
      ]
     },
     "metadata": {},
     "output_type": "display_data"
    },
    {
     "data": {
      "text/plain": [
       "Location   Individuals_group\n",
       "FORTALEZA  0-2                  11\n",
       "           2-20                 10\n",
       "           20+                   0\n",
       "NATAL      0-2                  10\n",
       "           2-20                  8\n",
       "           20+                   2\n",
       "RECIFE     0-2                   9\n",
       "           2-20                 12\n",
       "           20+                   1\n",
       "SAO LUIS   0-2                  14\n",
       "           2-20                 13\n",
       "           20+                   1\n",
       "Name: Claim ID, dtype: int64"
      ]
     },
     "metadata": {},
     "output_type": "display_data"
    }
   ],
   "source": [
    "claims_location_amount = df.groupby(['Location','Amount_group'])['Claim ID'].count()\n",
    "claims_location_indiv = df.groupby(['Location','Individuals_group'])['Claim ID'].count()\n",
    "display(claims_location_amount, claims_location_indiv)"
   ]
  },
  {
   "cell_type": "code",
   "execution_count": 23,
   "metadata": {},
   "outputs": [
    {
     "data": {
      "text/html": [
       "<div>\n",
       "<style scoped>\n",
       "    .dataframe tbody tr th:only-of-type {\n",
       "        vertical-align: middle;\n",
       "    }\n",
       "\n",
       "    .dataframe tbody tr th {\n",
       "        vertical-align: top;\n",
       "    }\n",
       "\n",
       "    .dataframe thead tr th {\n",
       "        text-align: left;\n",
       "    }\n",
       "\n",
       "    .dataframe thead tr:last-of-type th {\n",
       "        text-align: right;\n",
       "    }\n",
       "</style>\n",
       "<table border=\"1\" class=\"dataframe\">\n",
       "  <thead>\n",
       "    <tr>\n",
       "      <th></th>\n",
       "      <th colspan=\"3\" halign=\"left\">Claim ID</th>\n",
       "    </tr>\n",
       "    <tr>\n",
       "      <th>Amount_group</th>\n",
       "      <th>small</th>\n",
       "      <th>medium</th>\n",
       "      <th>big</th>\n",
       "    </tr>\n",
       "    <tr>\n",
       "      <th>Location</th>\n",
       "      <th></th>\n",
       "      <th></th>\n",
       "      <th></th>\n",
       "    </tr>\n",
       "  </thead>\n",
       "  <tbody>\n",
       "    <tr>\n",
       "      <th>FORTALEZA</th>\n",
       "      <td>1</td>\n",
       "      <td>15</td>\n",
       "      <td>6</td>\n",
       "    </tr>\n",
       "    <tr>\n",
       "      <th>NATAL</th>\n",
       "      <td>1</td>\n",
       "      <td>13</td>\n",
       "      <td>7</td>\n",
       "    </tr>\n",
       "    <tr>\n",
       "      <th>RECIFE</th>\n",
       "      <td>3</td>\n",
       "      <td>14</td>\n",
       "      <td>8</td>\n",
       "    </tr>\n",
       "    <tr>\n",
       "      <th>SAO LUIS</th>\n",
       "      <td>3</td>\n",
       "      <td>17</td>\n",
       "      <td>10</td>\n",
       "    </tr>\n",
       "  </tbody>\n",
       "</table>\n",
       "</div>"
      ],
      "text/plain": [
       "             Claim ID           \n",
       "Amount_group    small medium big\n",
       "Location                        \n",
       "FORTALEZA           1     15   6\n",
       "NATAL               1     13   7\n",
       "RECIFE              3     14   8\n",
       "SAO LUIS            3     17  10"
      ]
     },
     "metadata": {},
     "output_type": "display_data"
    },
    {
     "data": {
      "text/html": [
       "<div>\n",
       "<style scoped>\n",
       "    .dataframe tbody tr th:only-of-type {\n",
       "        vertical-align: middle;\n",
       "    }\n",
       "\n",
       "    .dataframe tbody tr th {\n",
       "        vertical-align: top;\n",
       "    }\n",
       "\n",
       "    .dataframe thead tr th {\n",
       "        text-align: left;\n",
       "    }\n",
       "\n",
       "    .dataframe thead tr:last-of-type th {\n",
       "        text-align: right;\n",
       "    }\n",
       "</style>\n",
       "<table border=\"1\" class=\"dataframe\">\n",
       "  <thead>\n",
       "    <tr>\n",
       "      <th></th>\n",
       "      <th colspan=\"3\" halign=\"left\">Claim ID</th>\n",
       "    </tr>\n",
       "    <tr>\n",
       "      <th>Individuals_group</th>\n",
       "      <th>0-2</th>\n",
       "      <th>2-20</th>\n",
       "      <th>20+</th>\n",
       "    </tr>\n",
       "    <tr>\n",
       "      <th>Location</th>\n",
       "      <th></th>\n",
       "      <th></th>\n",
       "      <th></th>\n",
       "    </tr>\n",
       "  </thead>\n",
       "  <tbody>\n",
       "    <tr>\n",
       "      <th>FORTALEZA</th>\n",
       "      <td>11</td>\n",
       "      <td>10</td>\n",
       "      <td>0</td>\n",
       "    </tr>\n",
       "    <tr>\n",
       "      <th>NATAL</th>\n",
       "      <td>10</td>\n",
       "      <td>8</td>\n",
       "      <td>2</td>\n",
       "    </tr>\n",
       "    <tr>\n",
       "      <th>RECIFE</th>\n",
       "      <td>9</td>\n",
       "      <td>12</td>\n",
       "      <td>1</td>\n",
       "    </tr>\n",
       "    <tr>\n",
       "      <th>SAO LUIS</th>\n",
       "      <td>14</td>\n",
       "      <td>13</td>\n",
       "      <td>1</td>\n",
       "    </tr>\n",
       "  </tbody>\n",
       "</table>\n",
       "</div>"
      ],
      "text/plain": [
       "                  Claim ID         \n",
       "Individuals_group      0-2 2-20 20+\n",
       "Location                           \n",
       "FORTALEZA               11   10   0\n",
       "NATAL                   10    8   2\n",
       "RECIFE                   9   12   1\n",
       "SAO LUIS                14   13   1"
      ]
     },
     "metadata": {},
     "output_type": "display_data"
    }
   ],
   "source": [
    "# pivoting grouped dataframes in order to build stacked bar graphs\n",
    "df_pivot_amount = claims_location_amount.reset_index('Amount_group').pivot(columns='Amount_group')\n",
    "df_pivot_indiv = claims_location_indiv.reset_index('Individuals_group').pivot(columns='Individuals_group')\n",
    "display(df_pivot_amount, df_pivot_indiv)"
   ]
  },
  {
   "cell_type": "code",
   "execution_count": 24,
   "metadata": {},
   "outputs": [
    {
     "data": {
      "text/plain": [
       "Text(0.5, 1.05, 'Number of claims accross locations and groups')"
      ]
     },
     "execution_count": 24,
     "metadata": {},
     "output_type": "execute_result"
    },
    {
     "data": {
      "image/png": "[encoded data removed]",
      "text/plain": [
       "<Figure size 1200x400 with 2 Axes>"
      ]
     },
     "metadata": {},
     "output_type": "display_data"
    }
   ],
   "source": [
    "# Let's now create visualizations\n",
    "fig, (ax1, ax2) = plt.subplots(1, 2, figsize=(12, 4))\n",
    "df_pivot_amount.plot(kind='bar', stacked=True, ax=ax1, title='Claim count classified by amount', rot=45)\n",
    "df_pivot_indiv.plot(kind='bar', stacked=True, ax=ax2, title='Claim count classified by nb of individuals', rot=45)\n",
    "fig.suptitle('Number of claims accross locations and groups', y=1.05, fontsize=15)"
   ]
  },
  {
   "attachments": {},
   "cell_type": "markdown",
   "metadata": {},
   "source": [
    "Here what we can see through those 2-axes independent analysis :\n",
    "<li>Claim amounts are spread accros all 4 locations\n",
    "<li>Sao Luis has notably more claims involving SMALL individual groups, related to pretty small or medium-size claim amounts\n",
    "<li>Fortaleza doesn't receive claims involving more that 20 individuals</li>"
   ]
  },
  {
   "attachments": {},
   "cell_type": "markdown",
   "metadata": {},
   "source": [
    "### 3.3. Answering 2nd question : What is the distribution of time to close claims?"
   ]
  },
  {
   "cell_type": "code",
   "execution_count": 25,
   "metadata": {},
   "outputs": [
    {
     "data": {
      "text/plain": [
       "Text(0.5, 0.98, 'Distribution of time to close claims')"
      ]
     },
     "execution_count": 25,
     "metadata": {},
     "output_type": "execute_result"
    },
    {
     "data": {
      "image/png": "[encoded data removed]",
      "text/plain": [
       "<Figure size 750x500 with 1 Axes>"
      ]
     },
     "metadata": {},
     "output_type": "display_data"
    }
   ],
   "source": [
    "g = sns.displot(data=df, x='Time to Close', kind='hist', bins=20, height=5, aspect=1.5, kde=True)\n",
    "g.fig.suptitle('Distribution of time to close claims')"
   ]
  },
  {
   "cell_type": "code",
   "execution_count": 26,
   "metadata": {},
   "outputs": [
    {
     "name": "stdout",
     "output_type": "stream",
     "text": [
      "count      97.00\n",
      "mean      841.52\n",
      "std       684.36\n",
      "min        29.00\n",
      "25%       349.00\n",
      "50%       639.00\n",
      "75%      1143.00\n",
      "max      3591.00\n",
      "Name: Time to Close, dtype: float64\n"
     ]
    }
   ],
   "source": [
    "time_stats = df['Time to Close'].describe()\n",
    "print(round(time_stats,2))"
   ]
  },
  {
   "attachments": {},
   "cell_type": "markdown",
   "metadata": {},
   "source": [
    "Distribution of time to close claims is right skewed :\n",
    "<li>there are 50% of claims that are closed within 639 days, equivalent to 1,7 years\n",
    "<li>some claims can take a very long time to close : still 25% of claims are not closed after 3 years"
   ]
  },
  {
   "attachments": {},
   "cell_type": "markdown",
   "metadata": {},
   "source": [
    "### 3.4. Answering 3rd question : How does the average time to close claims differ by location?"
   ]
  },
  {
   "cell_type": "code",
   "execution_count": 27,
   "metadata": {},
   "outputs": [
    {
     "data": {
      "text/html": [
       "<div>\n",
       "<style scoped>\n",
       "    .dataframe tbody tr th:only-of-type {\n",
       "        vertical-align: middle;\n",
       "    }\n",
       "\n",
       "    .dataframe tbody tr th {\n",
       "        vertical-align: top;\n",
       "    }\n",
       "\n",
       "    .dataframe thead th {\n",
       "        text-align: right;\n",
       "    }\n",
       "</style>\n",
       "<table border=\"1\" class=\"dataframe\">\n",
       "  <thead>\n",
       "    <tr style=\"text-align: right;\">\n",
       "      <th></th>\n",
       "      <th>mean</th>\n",
       "      <th>median</th>\n",
       "    </tr>\n",
       "    <tr>\n",
       "      <th>Location</th>\n",
       "      <th></th>\n",
       "      <th></th>\n",
       "    </tr>\n",
       "  </thead>\n",
       "  <tbody>\n",
       "    <tr>\n",
       "      <th>FORTALEZA</th>\n",
       "      <td>775.50</td>\n",
       "      <td>611.0</td>\n",
       "    </tr>\n",
       "    <tr>\n",
       "      <th>NATAL</th>\n",
       "      <td>581.14</td>\n",
       "      <td>477.0</td>\n",
       "    </tr>\n",
       "    <tr>\n",
       "      <th>RECIFE</th>\n",
       "      <td>860.68</td>\n",
       "      <td>875.0</td>\n",
       "    </tr>\n",
       "    <tr>\n",
       "      <th>SAO LUIS</th>\n",
       "      <td>1063.62</td>\n",
       "      <td>1051.0</td>\n",
       "    </tr>\n",
       "  </tbody>\n",
       "</table>\n",
       "</div>"
      ],
      "text/plain": [
       "              mean  median\n",
       "Location                  \n",
       "FORTALEZA   775.50   611.0\n",
       "NATAL       581.14   477.0\n",
       "RECIFE      860.68   875.0\n",
       "SAO LUIS   1063.62  1051.0"
      ]
     },
     "execution_count": 27,
     "metadata": {},
     "output_type": "execute_result"
    }
   ],
   "source": [
    "time_stats_det = df.groupby('Location')['Time to Close'].agg(['mean','median'])\n",
    "round(time_stats_det,2)"
   ]
  },
  {
   "cell_type": "code",
   "execution_count": 28,
   "metadata": {},
   "outputs": [
    {
     "data": {
      "text/plain": [
       "Text(0.5, 0.98, 'Average time to close claims by location')"
      ]
     },
     "execution_count": 28,
     "metadata": {},
     "output_type": "execute_result"
    },
    {
     "data": {
      "image/png": "[encoded data removed]",
      "text/plain": [
       "<Figure size 750x500 with 1 Axes>"
      ]
     },
     "metadata": {},
     "output_type": "display_data"
    }
   ],
   "source": [
    "g = sns.catplot(data=df, x='Location', y='Time to Close', kind='box', height=5, aspect=1.5)\n",
    "g.fig.suptitle('Average time to close claims by location')"
   ]
  },
  {
   "attachments": {},
   "cell_type": "markdown",
   "metadata": {},
   "source": [
    "On average (median level), Claims in Sao Luis are about twice as long to close than claims in Fortaleza or Natal. Recife is intermediate.\n",
    "Sao Luis seems to have a wide range of leadtimes to close the claims. No visible outliers seems to indicate that diversity of claims is the norm in Sao Luis.\n",
    "Let's take a deeper look on Sao Luis claims."
   ]
  },
  {
   "cell_type": "code",
   "execution_count": 35,
   "metadata": {},
   "outputs": [
    {
     "data": {
      "text/plain": [
       "Text(0.5, 1.05, 'Average time to close claims by location')"
      ]
     },
     "execution_count": 35,
     "metadata": {},
     "output_type": "execute_result"
    },
    {
     "data": {
      "image/png": "[encoded data removed]",
      "text/plain": [
       "<Figure size 1350x500 with 3 Axes>"
      ]
     },
     "metadata": {},
     "output_type": "display_data"
    }
   ],
   "source": [
    "g = sns.catplot(data=df, x='Location', y='Time to Close', kind='box', height=5, aspect=0.9, col='Amount_group')\n",
    "g.fig.suptitle('Average time to close claims by location', y=1.05, fontsize=15)"
   ]
  },
  {
   "attachments": {},
   "cell_type": "markdown",
   "metadata": {},
   "source": [
    "Those graphs show that claims of small amounts seem to be of weaker concern for Sao Luis location, as Time to Close is much longer in this group.<br>\n",
    "Natal, which receives the highest rate of big claims seems to have processed claim negociations (and close) in the fastest way."
   ]
  },
  {
   "attachments": {},
   "cell_type": "markdown",
   "metadata": {},
   "source": [
    "## 4. Conclusion\n",
    "\n",
    "Answering the legal team that would like to see if there are some differences in the time it takes to close claims across the locations, the answer is Yes.\n",
    "\n",
    "The analysis led us to conclude that Sao Luis is of particular concern :\n",
    "<li>Small to medium-size claims (both in amounts and in number of individuals concerns) are predominent in Sao Luis\n",
    "<li>It seems to be a time-consuming bottleneck that slows the entire process in this location</li>\n",
    "\n",
    "On the other hand, Natal workflow focuses on big affairs, with a resolving process which seems to be quite efficient.\n",
    "Recife and Fortaleza have in-between positions.\n",
    "\n",
    "A suggestion could be to balance this workload with legal specialists acting either for the flow business (small claims) or for big claims. Thus, efficiency would level up by creating working habits for each type of legal business."
   ]
  }
 ],
 "metadata": {
  "kernelspec": {
   "display_name": "Python 3.9.7 ('base')",
   "language": "python",
   "name": "python3"
  },
  "language_info": {
   "codemirror_mode": {
    "name": "ipython",
    "version": 3
   },
   "file_extension": ".py",
   "mimetype": "text/x-python",
   "name": "python",
   "nbconvert_exporter": "python",
   "pygments_lexer": "ipython3",
   "version": "3.10.4"
  },
  "orig_nbformat": 4,
  "vscode": {
   "interpreter": {
    "hash": "8de196d014aae40e0880ac77d17f4b5bf5f44070d5eae7a9684c3f959c7a4593"
   }
  }
 },
 "nbformat": 4,
 "nbformat_minor": 2
}
